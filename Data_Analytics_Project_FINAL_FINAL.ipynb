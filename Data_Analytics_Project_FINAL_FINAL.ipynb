{
 "nbformat": 4,
 "nbformat_minor": 0,
 "metadata": {
  "colab": {
   "provenance": []
  },
  "kernelspec": {
   "name": "python3",
   "language": "python",
   "display_name": "Python 3 (ipykernel)"
  },
  "language_info": {
   "name": "python"
  }
 },
 "cells": [
  {
   "cell_type": "markdown",
   "source": [
    "FILES NEEDED:\n",
    "\n",
    "Diabetes_By_State.csv\n",
    "\n",
    "ProsthOrth_Data.xlsx\n",
    "\n",
    "Veterans_by_state.xlsx\n",
    "\n",
    "Smoker_Data\n",
    "\n",
    "accident2018.csv\n",
    "\n",
    "accident2019.csv\n",
    "\n",
    "accident2020.csv\n",
    "\n",
    "data-table.csv\n",
    "\n",
    "nst-est2019-01.xlsx\n"
   ],
   "metadata": {
    "id": "Ok1tv4AWCLVX"
   }
  },
  {
   "cell_type": "code",
   "source": [
    "# Import Packages\n",
    "# Data Handling Tools\n",
    "import pandas as pd\n",
    "import numpy as np\n",
    "\n",
    "# Data Visualization Tools\n",
    "import plotly.express as px\n",
    "import plotly.graph_objects as go\n",
    "import plotly.io as pio\n",
    "import altair as alt\n",
    "from vega_datasets import data\n",
    "import geopandas\n",
    "import matplotlib.pyplot as plt\n",
    "import seaborn as sns\n",
    "import networkx as nx\n",
    "import matplotlib.colors as mcolors\n",
    "# !pip install geopandas matplotlib\n",
    "\n",
    "# Data Analytics Tools\n",
    "from scipy.optimize import curve_fit\n",
    "from sklearn.preprocessing import MinMaxScaler\n",
    "from sklearn.cluster import KMeans\n",
    "from sklearn.preprocessing import StandardScaler\n",
    "from sklearn.decomposition import PCA\n",
    "from scipy.stats import pearsonr\n",
    "from sklearn.metrics import silhouette_score\n",
    "\n",
    "# Miscellaneous Tools\n",
    "import chardet\n",
    "import openpyxl\n",
    "import kaleido\n",
    "# !pip install plotly-orca\n",
    "# !pip install \"notebook>=5.3\" \"ipywidgets>=7.2\"\n",
    "# !pip install kaleido"
   ],
   "metadata": {
    "id": "_UsNwjCxNsWF",
    "ExecuteTime": {
     "end_time": "2023-10-08T20:37:36.711217Z",
     "start_time": "2023-10-08T20:37:32.347390Z"
    }
   },
   "execution_count": 7,
   "outputs": []
  },
  {
   "cell_type": "code",
   "source": [
    "# initializing and cleaning individual datasets starting with smokers\n",
    "smoker_data = pd.read_excel('Smoker_Data.xlsx')\n",
    "\n",
    "#rename column to make it more logical when merged\n",
    "smoker_data = smoker_data.rename(columns={\"Proportion\": \"Proportion_smokers\"})\n",
    "smoker_data = smoker_data.rename(columns={\"Current\": \"Current_smokers\"})\n",
    "\n",
    "smoker_data.head\n",
    "\n",
    "#filter rest of columns out\n",
    "smoker_data = smoker_data.loc[:, [\"State\", \"Proportion_smokers\", \"Current_smokers\"]]"
   ],
   "metadata": {
    "id": "pQgiLFbTcsCp",
    "ExecuteTime": {
     "end_time": "2023-10-08T20:37:36.759190Z",
     "start_time": "2023-10-08T20:37:36.713829Z"
    }
   },
   "execution_count": 8,
   "outputs": []
  },
  {
   "cell_type": "code",
   "source": [
    "#now with veterans dataset\n",
    "\n",
    "veterans_data = pd.read_excel('Veterans_by_State.xlsx')\n",
    "\n",
    "veterans_data = veterans_data.rename(columns={\"Grand Total\": \"number_of_veterans\"})\n",
    "\n",
    "veterans_data = veterans_data.loc[:, [\"State\", \"number_of_veterans\"]]"
   ],
   "metadata": {
    "id": "HfTmr5qne402",
    "ExecuteTime": {
     "end_time": "2023-10-08T20:37:37.041844Z",
     "start_time": "2023-10-08T20:37:36.745167Z"
    }
   },
   "execution_count": 9,
   "outputs": []
  },
  {
   "cell_type": "code",
   "source": [
    "#now with diabetes data set\n",
    "\n",
    "diabetes_data = pd.read_csv('Diabetes_By_State.csv', skiprows=[0, 1])\n",
    "\n",
    "diabetes_data = diabetes_data.rename(columns={\"Percentage\": \"Percentage_diabetic\"})\n",
    "\n",
    "diabetes_data = diabetes_data.loc[:, [\"State\", \"Percentage_diabetic\"]]"
   ],
   "metadata": {
    "id": "JRvwkWkSgqFS",
    "ExecuteTime": {
     "end_time": "2023-10-08T20:37:37.054978Z",
     "start_time": "2023-10-08T20:37:37.044856Z"
    }
   },
   "execution_count": 10,
   "outputs": []
  },
  {
   "cell_type": "code",
   "source": [
    "#merging above 3\n",
    "\n",
    "merged_SmokDiabVet = smoker_data.merge(veterans_data, on='State').merge(diabetes_data, on = 'State')"
   ],
   "metadata": {
    "id": "LLT6ljDkh2xv",
    "ExecuteTime": {
     "end_time": "2023-10-08T20:37:37.066519Z",
     "start_time": "2023-10-08T20:37:37.056348Z"
    }
   },
   "execution_count": 11,
   "outputs": []
  },
  {
   "cell_type": "code",
   "source": [
    "#condensing accidents data\n",
    "\n",
    "accident_2018 = pd.read_csv('accident2018.csv')\n",
    "\n",
    "accident_2018_condensed = accident_2018.groupby('STATENAME').size().reset_index(name='Accidents_2018')\n",
    "accident_2018_condensed = accident_2018_condensed.rename(columns={\"STATENAME\": \"State\"})"
   ],
   "metadata": {
    "id": "UDUrit-Vy_g8",
    "ExecuteTime": {
     "end_time": "2023-10-08T20:37:37.608654Z",
     "start_time": "2023-10-08T20:37:37.064490Z"
    }
   },
   "execution_count": 12,
   "outputs": []
  },
  {
   "cell_type": "code",
   "source": [
    "accident_2019 = pd.read_csv('accident2019.csv', encoding='ISO-8859-1')\n",
    "\n",
    "accident_2019_condensed = accident_2019.groupby('STATENAME').size().reset_index(name='Accidents_2019')\n",
    "accident_2019_condensed = accident_2019_condensed.rename(columns={\"STATENAME\": \"State\"})\n",
    "\n",
    "accident_2019_condensed.head()"
   ],
   "metadata": {
    "id": "w9wLY2w73WbV",
    "colab": {
     "base_uri": "https://localhost:8080/",
     "height": 241
    },
    "outputId": "0eec8039-cbfd-4ea4-ce1a-c34b4dad34e0",
    "ExecuteTime": {
     "end_time": "2023-10-08T20:37:38.172239Z",
     "start_time": "2023-10-08T20:37:37.610728Z"
    }
   },
   "execution_count": 13,
   "outputs": [
    {
     "name": "stderr",
     "output_type": "stream",
     "text": [
      "/var/folders/wk/mh3nlc5d5mz44xkrmh91ptl00000gn/T/ipykernel_20226/2207328387.py:1: DtypeWarning: Columns (40,42) have mixed types. Specify dtype option on import or set low_memory=False.\n",
      "  accident_2019 = pd.read_csv('accident2019.csv', encoding='ISO-8859-1')\n"
     ]
    },
    {
     "data": {
      "text/plain": "        State  Accidents_2019\n0     Alabama             856\n1      Alaska              62\n2     Arizona             908\n3    Arkansas             473\n4  California            3427",
      "text/html": "<div>\n<style scoped>\n    .dataframe tbody tr th:only-of-type {\n        vertical-align: middle;\n    }\n\n    .dataframe tbody tr th {\n        vertical-align: top;\n    }\n\n    .dataframe thead th {\n        text-align: right;\n    }\n</style>\n<table border=\"1\" class=\"dataframe\">\n  <thead>\n    <tr style=\"text-align: right;\">\n      <th></th>\n      <th>State</th>\n      <th>Accidents_2019</th>\n    </tr>\n  </thead>\n  <tbody>\n    <tr>\n      <th>0</th>\n      <td>Alabama</td>\n      <td>856</td>\n    </tr>\n    <tr>\n      <th>1</th>\n      <td>Alaska</td>\n      <td>62</td>\n    </tr>\n    <tr>\n      <th>2</th>\n      <td>Arizona</td>\n      <td>908</td>\n    </tr>\n    <tr>\n      <th>3</th>\n      <td>Arkansas</td>\n      <td>473</td>\n    </tr>\n    <tr>\n      <th>4</th>\n      <td>California</td>\n      <td>3427</td>\n    </tr>\n  </tbody>\n</table>\n</div>"
     },
     "execution_count": 13,
     "metadata": {},
     "output_type": "execute_result"
    }
   ]
  },
  {
   "cell_type": "code",
   "source": [
    "#condensing accident 2020 data\n",
    "accident_2020 = pd.read_csv('accident2020.csv', encoding='ISO-8859-1')\n",
    "\n",
    "accident_2020_condensed = accident_2020.groupby('STATENAME').size().reset_index(name='Accidents_2020')\n",
    "accident_2020_condensed = accident_2020_condensed.rename(columns={\"STATENAME\": \"State\"})\n",
    "\n",
    "accident_2020_condensed.head()"
   ],
   "metadata": {
    "colab": {
     "base_uri": "https://localhost:8080/",
     "height": 206
    },
    "id": "GEWTRWVh3Wtt",
    "outputId": "8719e3d2-c269-4213-dffc-977219b4ee24",
    "ExecuteTime": {
     "end_time": "2023-10-08T20:37:38.866110Z",
     "start_time": "2023-10-08T20:37:38.171087Z"
    }
   },
   "execution_count": 14,
   "outputs": [
    {
     "data": {
      "text/plain": "        State  Accidents_2020\n0     Alabama             852\n1      Alaska              53\n2     Arizona             967\n3    Arkansas             585\n4  California            3558",
      "text/html": "<div>\n<style scoped>\n    .dataframe tbody tr th:only-of-type {\n        vertical-align: middle;\n    }\n\n    .dataframe tbody tr th {\n        vertical-align: top;\n    }\n\n    .dataframe thead th {\n        text-align: right;\n    }\n</style>\n<table border=\"1\" class=\"dataframe\">\n  <thead>\n    <tr style=\"text-align: right;\">\n      <th></th>\n      <th>State</th>\n      <th>Accidents_2020</th>\n    </tr>\n  </thead>\n  <tbody>\n    <tr>\n      <th>0</th>\n      <td>Alabama</td>\n      <td>852</td>\n    </tr>\n    <tr>\n      <th>1</th>\n      <td>Alaska</td>\n      <td>53</td>\n    </tr>\n    <tr>\n      <th>2</th>\n      <td>Arizona</td>\n      <td>967</td>\n    </tr>\n    <tr>\n      <th>3</th>\n      <td>Arkansas</td>\n      <td>585</td>\n    </tr>\n    <tr>\n      <th>4</th>\n      <td>California</td>\n      <td>3558</td>\n    </tr>\n  </tbody>\n</table>\n</div>"
     },
     "execution_count": 14,
     "metadata": {},
     "output_type": "execute_result"
    }
   ]
  },
  {
   "cell_type": "code",
   "source": [
    "#merging accident data sets\n",
    "merged_accidents = accident_2018_condensed.merge(accident_2019_condensed, on='State').merge(accident_2020_condensed, on = 'State')\n",
    "\n",
    "merged_accidents.head()"
   ],
   "metadata": {
    "colab": {
     "base_uri": "https://localhost:8080/",
     "height": 206
    },
    "id": "eXi5md5X3wsT",
    "outputId": "71915450-8cb7-4cd9-b011-179b4af915e1",
    "ExecuteTime": {
     "end_time": "2023-10-08T20:37:38.882296Z",
     "start_time": "2023-10-08T20:37:38.870651Z"
    }
   },
   "execution_count": 15,
   "outputs": [
    {
     "data": {
      "text/plain": "        State  Accidents_2018  Accidents_2019  Accidents_2020\n0     Alabama             876             856             852\n1      Alaska              69              62              53\n2     Arizona             918             908             967\n3    Arkansas             476             473             585\n4  California            3485            3427            3558",
      "text/html": "<div>\n<style scoped>\n    .dataframe tbody tr th:only-of-type {\n        vertical-align: middle;\n    }\n\n    .dataframe tbody tr th {\n        vertical-align: top;\n    }\n\n    .dataframe thead th {\n        text-align: right;\n    }\n</style>\n<table border=\"1\" class=\"dataframe\">\n  <thead>\n    <tr style=\"text-align: right;\">\n      <th></th>\n      <th>State</th>\n      <th>Accidents_2018</th>\n      <th>Accidents_2019</th>\n      <th>Accidents_2020</th>\n    </tr>\n  </thead>\n  <tbody>\n    <tr>\n      <th>0</th>\n      <td>Alabama</td>\n      <td>876</td>\n      <td>856</td>\n      <td>852</td>\n    </tr>\n    <tr>\n      <th>1</th>\n      <td>Alaska</td>\n      <td>69</td>\n      <td>62</td>\n      <td>53</td>\n    </tr>\n    <tr>\n      <th>2</th>\n      <td>Arizona</td>\n      <td>918</td>\n      <td>908</td>\n      <td>967</td>\n    </tr>\n    <tr>\n      <th>3</th>\n      <td>Arkansas</td>\n      <td>476</td>\n      <td>473</td>\n      <td>585</td>\n    </tr>\n    <tr>\n      <th>4</th>\n      <td>California</td>\n      <td>3485</td>\n      <td>3427</td>\n      <td>3558</td>\n    </tr>\n  </tbody>\n</table>\n</div>"
     },
     "execution_count": 15,
     "metadata": {},
     "output_type": "execute_result"
    }
   ]
  },
  {
   "cell_type": "code",
   "source": [
    "full_dataframe = merged_accidents.merge(merged_SmokDiabVet, on = 'State')\n",
    "\n",
    "full_dataframe.head()"
   ],
   "metadata": {
    "colab": {
     "base_uri": "https://localhost:8080/",
     "height": 206
    },
    "id": "JAkhnKxv6rNk",
    "outputId": "b1e44f2f-79b8-45c0-fb75-03a85bd0ca0b",
    "ExecuteTime": {
     "end_time": "2023-10-08T20:37:39.028333Z",
     "start_time": "2023-10-08T20:37:38.891901Z"
    }
   },
   "execution_count": 16,
   "outputs": [
    {
     "data": {
      "text/plain": "        State  Accidents_2018  Accidents_2019  Accidents_2020  \\\n0     Alabama             876             856             852   \n1      Alaska              69              62              53   \n2     Arizona             918             908             967   \n3    Arkansas             476             473             585   \n4  California            3485            3427            3558   \n\n   Proportion_smokers  Current_smokers  number_of_veterans Percentage_diabetic  \n0            0.184967           761140        3.595064e+05                12.9  \n1            0.187964           111288        7.145358e+04                 7.4  \n2            0.142557           796004        5.081568e+05                 9.7  \n3            0.196323           491610        2.110032e+05                11.7  \n4            0.106327          3203562        1.642998e+06                 9.2  ",
      "text/html": "<div>\n<style scoped>\n    .dataframe tbody tr th:only-of-type {\n        vertical-align: middle;\n    }\n\n    .dataframe tbody tr th {\n        vertical-align: top;\n    }\n\n    .dataframe thead th {\n        text-align: right;\n    }\n</style>\n<table border=\"1\" class=\"dataframe\">\n  <thead>\n    <tr style=\"text-align: right;\">\n      <th></th>\n      <th>State</th>\n      <th>Accidents_2018</th>\n      <th>Accidents_2019</th>\n      <th>Accidents_2020</th>\n      <th>Proportion_smokers</th>\n      <th>Current_smokers</th>\n      <th>number_of_veterans</th>\n      <th>Percentage_diabetic</th>\n    </tr>\n  </thead>\n  <tbody>\n    <tr>\n      <th>0</th>\n      <td>Alabama</td>\n      <td>876</td>\n      <td>856</td>\n      <td>852</td>\n      <td>0.184967</td>\n      <td>761140</td>\n      <td>3.595064e+05</td>\n      <td>12.9</td>\n    </tr>\n    <tr>\n      <th>1</th>\n      <td>Alaska</td>\n      <td>69</td>\n      <td>62</td>\n      <td>53</td>\n      <td>0.187964</td>\n      <td>111288</td>\n      <td>7.145358e+04</td>\n      <td>7.4</td>\n    </tr>\n    <tr>\n      <th>2</th>\n      <td>Arizona</td>\n      <td>918</td>\n      <td>908</td>\n      <td>967</td>\n      <td>0.142557</td>\n      <td>796004</td>\n      <td>5.081568e+05</td>\n      <td>9.7</td>\n    </tr>\n    <tr>\n      <th>3</th>\n      <td>Arkansas</td>\n      <td>476</td>\n      <td>473</td>\n      <td>585</td>\n      <td>0.196323</td>\n      <td>491610</td>\n      <td>2.110032e+05</td>\n      <td>11.7</td>\n    </tr>\n    <tr>\n      <th>4</th>\n      <td>California</td>\n      <td>3485</td>\n      <td>3427</td>\n      <td>3558</td>\n      <td>0.106327</td>\n      <td>3203562</td>\n      <td>1.642998e+06</td>\n      <td>9.2</td>\n    </tr>\n  </tbody>\n</table>\n</div>"
     },
     "execution_count": 16,
     "metadata": {},
     "output_type": "execute_result"
    }
   ]
  },
  {
   "cell_type": "code",
   "source": [
    "#Data analysis\n",
    "#this is the raw data size\n",
    "tuples_list = [accident_2019.shape, accident_2020.shape, accident_2018.shape, smoker_data.shape, veterans_data.shape, diabetes_data.shape]\n",
    "raw_data_size = tuple(sum(values) for values in zip(*tuples_list))\n",
    "raw_data_size"
   ],
   "metadata": {
    "colab": {
     "base_uri": "https://localhost:8080/"
    },
    "id": "YopgxMCsFgK7",
    "outputId": "a68c2543-51e3-43fa-d4b9-d4fb0bbc3d3e",
    "ExecuteTime": {
     "end_time": "2023-10-08T20:37:39.028853Z",
     "start_time": "2023-10-08T20:37:38.898199Z"
    }
   },
   "execution_count": 17,
   "outputs": [
    {
     "data": {
      "text/plain": "(103334, 270)"
     },
     "execution_count": 17,
     "metadata": {},
     "output_type": "execute_result"
    }
   ]
  },
  {
   "cell_type": "code",
   "source": [
    "#save file\n",
    "file_path = 'Data_Viz_FullData.csv'\n",
    "full_dataframe.to_csv(file_path, index=False)"
   ],
   "metadata": {
    "id": "0Awf5l0kWdVE",
    "ExecuteTime": {
     "end_time": "2023-10-08T20:37:39.029175Z",
     "start_time": "2023-10-08T20:37:38.906399Z"
    }
   },
   "execution_count": 18,
   "outputs": []
  },
  {
   "cell_type": "code",
   "source": [
    "#this is the cleaned data size\n",
    "df = full_dataframe\n",
    "df.shape"
   ],
   "metadata": {
    "id": "ZFkvVsShGtpm",
    "outputId": "296db3c8-0692-4961-8f43-7d0b06ab800b",
    "colab": {
     "base_uri": "https://localhost:8080/"
    },
    "ExecuteTime": {
     "end_time": "2023-10-08T20:37:39.047325Z",
     "start_time": "2023-10-08T20:37:38.914388Z"
    }
   },
   "execution_count": 19,
   "outputs": [
    {
     "data": {
      "text/plain": "(51, 8)"
     },
     "execution_count": 19,
     "metadata": {},
     "output_type": "execute_result"
    }
   ]
  },
  {
   "cell_type": "code",
   "source": [
    "# column names\n",
    "df.columns"
   ],
   "metadata": {
    "id": "ctkmu2tHOJUG",
    "colab": {
     "base_uri": "https://localhost:8080/"
    },
    "outputId": "9f1678d9-0eb4-493a-9841-6a6357305c49",
    "ExecuteTime": {
     "end_time": "2023-10-08T20:37:39.048798Z",
     "start_time": "2023-10-08T20:37:38.920961Z"
    }
   },
   "execution_count": 20,
   "outputs": [
    {
     "data": {
      "text/plain": "Index(['State', 'Accidents_2018', 'Accidents_2019', 'Accidents_2020',\n       'Proportion_smokers', 'Current_smokers', 'number_of_veterans',\n       'Percentage_diabetic'],\n      dtype='object')"
     },
     "execution_count": 20,
     "metadata": {},
     "output_type": "execute_result"
    }
   ]
  },
  {
   "cell_type": "code",
   "source": [
    "# classificiation of each column\n",
    "df.head()"
   ],
   "metadata": {
    "colab": {
     "base_uri": "https://localhost:8080/",
     "height": 206
    },
    "id": "KIRRr407I3p8",
    "outputId": "b3be5ef3-f1e7-490a-a058-9523fed36209",
    "ExecuteTime": {
     "end_time": "2023-10-08T20:37:39.062403Z",
     "start_time": "2023-10-08T20:37:38.931521Z"
    }
   },
   "execution_count": 21,
   "outputs": [
    {
     "data": {
      "text/plain": "        State  Accidents_2018  Accidents_2019  Accidents_2020  \\\n0     Alabama             876             856             852   \n1      Alaska              69              62              53   \n2     Arizona             918             908             967   \n3    Arkansas             476             473             585   \n4  California            3485            3427            3558   \n\n   Proportion_smokers  Current_smokers  number_of_veterans Percentage_diabetic  \n0            0.184967           761140        3.595064e+05                12.9  \n1            0.187964           111288        7.145358e+04                 7.4  \n2            0.142557           796004        5.081568e+05                 9.7  \n3            0.196323           491610        2.110032e+05                11.7  \n4            0.106327          3203562        1.642998e+06                 9.2  ",
      "text/html": "<div>\n<style scoped>\n    .dataframe tbody tr th:only-of-type {\n        vertical-align: middle;\n    }\n\n    .dataframe tbody tr th {\n        vertical-align: top;\n    }\n\n    .dataframe thead th {\n        text-align: right;\n    }\n</style>\n<table border=\"1\" class=\"dataframe\">\n  <thead>\n    <tr style=\"text-align: right;\">\n      <th></th>\n      <th>State</th>\n      <th>Accidents_2018</th>\n      <th>Accidents_2019</th>\n      <th>Accidents_2020</th>\n      <th>Proportion_smokers</th>\n      <th>Current_smokers</th>\n      <th>number_of_veterans</th>\n      <th>Percentage_diabetic</th>\n    </tr>\n  </thead>\n  <tbody>\n    <tr>\n      <th>0</th>\n      <td>Alabama</td>\n      <td>876</td>\n      <td>856</td>\n      <td>852</td>\n      <td>0.184967</td>\n      <td>761140</td>\n      <td>3.595064e+05</td>\n      <td>12.9</td>\n    </tr>\n    <tr>\n      <th>1</th>\n      <td>Alaska</td>\n      <td>69</td>\n      <td>62</td>\n      <td>53</td>\n      <td>0.187964</td>\n      <td>111288</td>\n      <td>7.145358e+04</td>\n      <td>7.4</td>\n    </tr>\n    <tr>\n      <th>2</th>\n      <td>Arizona</td>\n      <td>918</td>\n      <td>908</td>\n      <td>967</td>\n      <td>0.142557</td>\n      <td>796004</td>\n      <td>5.081568e+05</td>\n      <td>9.7</td>\n    </tr>\n    <tr>\n      <th>3</th>\n      <td>Arkansas</td>\n      <td>476</td>\n      <td>473</td>\n      <td>585</td>\n      <td>0.196323</td>\n      <td>491610</td>\n      <td>2.110032e+05</td>\n      <td>11.7</td>\n    </tr>\n    <tr>\n      <th>4</th>\n      <td>California</td>\n      <td>3485</td>\n      <td>3427</td>\n      <td>3558</td>\n      <td>0.106327</td>\n      <td>3203562</td>\n      <td>1.642998e+06</td>\n      <td>9.2</td>\n    </tr>\n  </tbody>\n</table>\n</div>"
     },
     "execution_count": 21,
     "metadata": {},
     "output_type": "execute_result"
    }
   ]
  },
  {
   "cell_type": "code",
   "source": [
    "df.info()"
   ],
   "metadata": {
    "colab": {
     "base_uri": "https://localhost:8080/"
    },
    "id": "ic-yGLZKJJTO",
    "outputId": "89388ea5-a98c-48f4-a28b-52fcc7b5486b",
    "ExecuteTime": {
     "end_time": "2023-10-08T20:37:39.139123Z",
     "start_time": "2023-10-08T20:37:38.950830Z"
    }
   },
   "execution_count": 22,
   "outputs": [
    {
     "name": "stdout",
     "output_type": "stream",
     "text": [
      "<class 'pandas.core.frame.DataFrame'>\n",
      "RangeIndex: 51 entries, 0 to 50\n",
      "Data columns (total 8 columns):\n",
      " #   Column               Non-Null Count  Dtype  \n",
      "---  ------               --------------  -----  \n",
      " 0   State                51 non-null     object \n",
      " 1   Accidents_2018       51 non-null     int64  \n",
      " 2   Accidents_2019       51 non-null     int64  \n",
      " 3   Accidents_2020       51 non-null     int64  \n",
      " 4   Proportion_smokers   51 non-null     float64\n",
      " 5   Current_smokers      51 non-null     int64  \n",
      " 6   number_of_veterans   51 non-null     float64\n",
      " 7   Percentage_diabetic  51 non-null     object \n",
      "dtypes: float64(2), int64(4), object(2)\n",
      "memory usage: 3.3+ KB\n"
     ]
    }
   ]
  },
  {
   "cell_type": "code",
   "source": [
    "# fix datatype of percentage_diabetic\n",
    "df['Percentage_diabetic'] = df['Percentage_diabetic'].astype('float64')\n",
    "df.dtypes"
   ],
   "metadata": {
    "colab": {
     "base_uri": "https://localhost:8080/"
    },
    "id": "kYP7y9cVJ67Y",
    "outputId": "fd0caefa-f7a9-4dff-b027-ce6f41df4712",
    "ExecuteTime": {
     "end_time": "2023-10-08T20:37:39.139756Z",
     "start_time": "2023-10-08T20:37:38.955589Z"
    }
   },
   "execution_count": 23,
   "outputs": [
    {
     "data": {
      "text/plain": "State                   object\nAccidents_2018           int64\nAccidents_2019           int64\nAccidents_2020           int64\nProportion_smokers     float64\nCurrent_smokers          int64\nnumber_of_veterans     float64\nPercentage_diabetic    float64\ndtype: object"
     },
     "execution_count": 23,
     "metadata": {},
     "output_type": "execute_result"
    }
   ]
  },
  {
   "cell_type": "code",
   "source": [
    "# quantitative data information\n",
    "df.describe()"
   ],
   "metadata": {
    "colab": {
     "base_uri": "https://localhost:8080/",
     "height": 300
    },
    "id": "G18s1xxvKZ0L",
    "outputId": "8f7fb19a-ee2b-423e-92e8-9d89ae863f17",
    "ExecuteTime": {
     "end_time": "2023-10-08T20:37:39.141456Z",
     "start_time": "2023-10-08T20:37:38.964667Z"
    }
   },
   "execution_count": 24,
   "outputs": [
    {
     "data": {
      "text/plain": "       Accidents_2018  Accidents_2019  Accidents_2020  Proportion_smokers  \\\ncount       51.000000       51.000000       51.000000           51.000000   \nmean       665.078431      656.607843      701.294118            0.156580   \nstd        742.112224      739.580478      781.515330            0.028843   \nmin         30.000000       22.000000       34.000000            0.084496   \n25%        208.000000      206.500000      203.500000            0.135808   \n50%        485.000000      496.000000      540.000000            0.156148   \n75%        891.500000      867.500000      938.000000            0.173454   \nmax       3485.000000     3427.000000     3558.000000            0.227227   \n\n       Current_smokers  number_of_veterans  Percentage_diabetic  \ncount     5.100000e+01        5.100000e+01            51.000000  \nmean      7.705217e+05        3.770146e+05             9.588235  \nstd       7.499637e+05        3.689939e+05             1.752900  \nmin       7.634400e+04        2.979827e+04             6.700000  \n25%       1.839015e+05        1.267465e+05             8.250000  \n50%       5.871370e+05        2.841411e+05             9.300000  \n75%       9.980935e+05        4.808888e+05            10.800000  \nmax       3.203562e+06        1.642998e+06            13.100000  ",
      "text/html": "<div>\n<style scoped>\n    .dataframe tbody tr th:only-of-type {\n        vertical-align: middle;\n    }\n\n    .dataframe tbody tr th {\n        vertical-align: top;\n    }\n\n    .dataframe thead th {\n        text-align: right;\n    }\n</style>\n<table border=\"1\" class=\"dataframe\">\n  <thead>\n    <tr style=\"text-align: right;\">\n      <th></th>\n      <th>Accidents_2018</th>\n      <th>Accidents_2019</th>\n      <th>Accidents_2020</th>\n      <th>Proportion_smokers</th>\n      <th>Current_smokers</th>\n      <th>number_of_veterans</th>\n      <th>Percentage_diabetic</th>\n    </tr>\n  </thead>\n  <tbody>\n    <tr>\n      <th>count</th>\n      <td>51.000000</td>\n      <td>51.000000</td>\n      <td>51.000000</td>\n      <td>51.000000</td>\n      <td>5.100000e+01</td>\n      <td>5.100000e+01</td>\n      <td>51.000000</td>\n    </tr>\n    <tr>\n      <th>mean</th>\n      <td>665.078431</td>\n      <td>656.607843</td>\n      <td>701.294118</td>\n      <td>0.156580</td>\n      <td>7.705217e+05</td>\n      <td>3.770146e+05</td>\n      <td>9.588235</td>\n    </tr>\n    <tr>\n      <th>std</th>\n      <td>742.112224</td>\n      <td>739.580478</td>\n      <td>781.515330</td>\n      <td>0.028843</td>\n      <td>7.499637e+05</td>\n      <td>3.689939e+05</td>\n      <td>1.752900</td>\n    </tr>\n    <tr>\n      <th>min</th>\n      <td>30.000000</td>\n      <td>22.000000</td>\n      <td>34.000000</td>\n      <td>0.084496</td>\n      <td>7.634400e+04</td>\n      <td>2.979827e+04</td>\n      <td>6.700000</td>\n    </tr>\n    <tr>\n      <th>25%</th>\n      <td>208.000000</td>\n      <td>206.500000</td>\n      <td>203.500000</td>\n      <td>0.135808</td>\n      <td>1.839015e+05</td>\n      <td>1.267465e+05</td>\n      <td>8.250000</td>\n    </tr>\n    <tr>\n      <th>50%</th>\n      <td>485.000000</td>\n      <td>496.000000</td>\n      <td>540.000000</td>\n      <td>0.156148</td>\n      <td>5.871370e+05</td>\n      <td>2.841411e+05</td>\n      <td>9.300000</td>\n    </tr>\n    <tr>\n      <th>75%</th>\n      <td>891.500000</td>\n      <td>867.500000</td>\n      <td>938.000000</td>\n      <td>0.173454</td>\n      <td>9.980935e+05</td>\n      <td>4.808888e+05</td>\n      <td>10.800000</td>\n    </tr>\n    <tr>\n      <th>max</th>\n      <td>3485.000000</td>\n      <td>3427.000000</td>\n      <td>3558.000000</td>\n      <td>0.227227</td>\n      <td>3.203562e+06</td>\n      <td>1.642998e+06</td>\n      <td>13.100000</td>\n    </tr>\n  </tbody>\n</table>\n</div>"
     },
     "execution_count": 24,
     "metadata": {},
     "output_type": "execute_result"
    }
   ]
  },
  {
   "cell_type": "code",
   "source": [
    "# determine pearson correlation coefficients\n",
    "df.corr(numeric_only=True)"
   ],
   "metadata": {
    "colab": {
     "base_uri": "https://localhost:8080/",
     "height": 269
    },
    "id": "aSHWrNcTM351",
    "outputId": "dd22b3f9-3bd6-4679-a974-36571bbb8881",
    "ExecuteTime": {
     "end_time": "2023-10-08T20:37:39.142168Z",
     "start_time": "2023-10-08T20:37:38.993479Z"
    }
   },
   "execution_count": 25,
   "outputs": [
    {
     "data": {
      "text/plain": "                     Accidents_2018  Accidents_2019  Accidents_2020  \\\nAccidents_2018             1.000000        0.999275        0.998531   \nAccidents_2019             0.999275        1.000000        0.999095   \nAccidents_2020             0.998531        0.999095        1.000000   \nProportion_smokers        -0.074976       -0.071356       -0.061168   \nCurrent_smokers            0.934505        0.932544        0.937068   \nnumber_of_veterans         0.965402        0.964993        0.964715   \nPercentage_diabetic        0.329473        0.333297        0.339788   \n\n                     Proportion_smokers  Current_smokers  number_of_veterans  \\\nAccidents_2018                -0.074976         0.934505            0.965402   \nAccidents_2019                -0.071356         0.932544            0.964993   \nAccidents_2020                -0.061168         0.937068            0.964715   \nProportion_smokers             1.000000        -0.062484           -0.155825   \nCurrent_smokers               -0.062484         1.000000            0.970834   \nnumber_of_veterans            -0.155825         0.970834            1.000000   \nPercentage_diabetic            0.608510         0.294272            0.230751   \n\n                     Percentage_diabetic  \nAccidents_2018                  0.329473  \nAccidents_2019                  0.333297  \nAccidents_2020                  0.339788  \nProportion_smokers              0.608510  \nCurrent_smokers                 0.294272  \nnumber_of_veterans              0.230751  \nPercentage_diabetic             1.000000  ",
      "text/html": "<div>\n<style scoped>\n    .dataframe tbody tr th:only-of-type {\n        vertical-align: middle;\n    }\n\n    .dataframe tbody tr th {\n        vertical-align: top;\n    }\n\n    .dataframe thead th {\n        text-align: right;\n    }\n</style>\n<table border=\"1\" class=\"dataframe\">\n  <thead>\n    <tr style=\"text-align: right;\">\n      <th></th>\n      <th>Accidents_2018</th>\n      <th>Accidents_2019</th>\n      <th>Accidents_2020</th>\n      <th>Proportion_smokers</th>\n      <th>Current_smokers</th>\n      <th>number_of_veterans</th>\n      <th>Percentage_diabetic</th>\n    </tr>\n  </thead>\n  <tbody>\n    <tr>\n      <th>Accidents_2018</th>\n      <td>1.000000</td>\n      <td>0.999275</td>\n      <td>0.998531</td>\n      <td>-0.074976</td>\n      <td>0.934505</td>\n      <td>0.965402</td>\n      <td>0.329473</td>\n    </tr>\n    <tr>\n      <th>Accidents_2019</th>\n      <td>0.999275</td>\n      <td>1.000000</td>\n      <td>0.999095</td>\n      <td>-0.071356</td>\n      <td>0.932544</td>\n      <td>0.964993</td>\n      <td>0.333297</td>\n    </tr>\n    <tr>\n      <th>Accidents_2020</th>\n      <td>0.998531</td>\n      <td>0.999095</td>\n      <td>1.000000</td>\n      <td>-0.061168</td>\n      <td>0.937068</td>\n      <td>0.964715</td>\n      <td>0.339788</td>\n    </tr>\n    <tr>\n      <th>Proportion_smokers</th>\n      <td>-0.074976</td>\n      <td>-0.071356</td>\n      <td>-0.061168</td>\n      <td>1.000000</td>\n      <td>-0.062484</td>\n      <td>-0.155825</td>\n      <td>0.608510</td>\n    </tr>\n    <tr>\n      <th>Current_smokers</th>\n      <td>0.934505</td>\n      <td>0.932544</td>\n      <td>0.937068</td>\n      <td>-0.062484</td>\n      <td>1.000000</td>\n      <td>0.970834</td>\n      <td>0.294272</td>\n    </tr>\n    <tr>\n      <th>number_of_veterans</th>\n      <td>0.965402</td>\n      <td>0.964993</td>\n      <td>0.964715</td>\n      <td>-0.155825</td>\n      <td>0.970834</td>\n      <td>1.000000</td>\n      <td>0.230751</td>\n    </tr>\n    <tr>\n      <th>Percentage_diabetic</th>\n      <td>0.329473</td>\n      <td>0.333297</td>\n      <td>0.339788</td>\n      <td>0.608510</td>\n      <td>0.294272</td>\n      <td>0.230751</td>\n      <td>1.000000</td>\n    </tr>\n  </tbody>\n</table>\n</div>"
     },
     "execution_count": 25,
     "metadata": {},
     "output_type": "execute_result"
    }
   ]
  },
  {
   "cell_type": "code",
   "source": [
    "# going to factor for population, then run correlation\n",
    "pops = pd.read_excel('nst-est2019-01.xlsx', header=0)\n",
    "population_data2019 = pops\n",
    "pops.head(10)"
   ],
   "metadata": {
    "colab": {
     "base_uri": "https://localhost:8080/",
     "height": 363
    },
    "id": "T-1meTtyNRvo",
    "outputId": "f3c948fa-c3a3-4de3-8261-d7636fe5d80d",
    "ExecuteTime": {
     "end_time": "2023-10-08T20:37:39.228568Z",
     "start_time": "2023-10-08T20:37:39.008798Z"
    }
   },
   "execution_count": 26,
   "outputs": [
    {
     "data": {
      "text/plain": "                  State  Population\n0               Alabama     4903185\n1                Alaska      731545\n2               Arizona     7278717\n3              Arkansas     3017804\n4            California    39512223\n5              Colorado     5758736\n6           Connecticut     3565287\n7              Delaware      973764\n8  District of Columbia      705749\n9               Florida    21477737",
      "text/html": "<div>\n<style scoped>\n    .dataframe tbody tr th:only-of-type {\n        vertical-align: middle;\n    }\n\n    .dataframe tbody tr th {\n        vertical-align: top;\n    }\n\n    .dataframe thead th {\n        text-align: right;\n    }\n</style>\n<table border=\"1\" class=\"dataframe\">\n  <thead>\n    <tr style=\"text-align: right;\">\n      <th></th>\n      <th>State</th>\n      <th>Population</th>\n    </tr>\n  </thead>\n  <tbody>\n    <tr>\n      <th>0</th>\n      <td>Alabama</td>\n      <td>4903185</td>\n    </tr>\n    <tr>\n      <th>1</th>\n      <td>Alaska</td>\n      <td>731545</td>\n    </tr>\n    <tr>\n      <th>2</th>\n      <td>Arizona</td>\n      <td>7278717</td>\n    </tr>\n    <tr>\n      <th>3</th>\n      <td>Arkansas</td>\n      <td>3017804</td>\n    </tr>\n    <tr>\n      <th>4</th>\n      <td>California</td>\n      <td>39512223</td>\n    </tr>\n    <tr>\n      <th>5</th>\n      <td>Colorado</td>\n      <td>5758736</td>\n    </tr>\n    <tr>\n      <th>6</th>\n      <td>Connecticut</td>\n      <td>3565287</td>\n    </tr>\n    <tr>\n      <th>7</th>\n      <td>Delaware</td>\n      <td>973764</td>\n    </tr>\n    <tr>\n      <th>8</th>\n      <td>District of Columbia</td>\n      <td>705749</td>\n    </tr>\n    <tr>\n      <th>9</th>\n      <td>Florida</td>\n      <td>21477737</td>\n    </tr>\n  </tbody>\n</table>\n</div>"
     },
     "execution_count": 26,
     "metadata": {},
     "output_type": "execute_result"
    }
   ]
  },
  {
   "cell_type": "code",
   "source": [
    "# merge df and pops\n",
    "df_pops = pd.merge(df, pops, on='State')\n",
    "df_pops.head(10)"
   ],
   "metadata": {
    "id": "wMfXPAXlObah",
    "colab": {
     "base_uri": "https://localhost:8080/",
     "height": 363
    },
    "outputId": "9955d430-2ef7-4156-d433-797e6cc4b024",
    "ExecuteTime": {
     "end_time": "2023-10-08T20:37:39.331114Z",
     "start_time": "2023-10-08T20:37:39.031273Z"
    }
   },
   "execution_count": 27,
   "outputs": [
    {
     "data": {
      "text/plain": "                  State  Accidents_2018  Accidents_2019  Accidents_2020  \\\n0               Alabama             876             856             852   \n1                Alaska              69              62              53   \n2               Arizona             918             908             967   \n3              Arkansas             476             473             585   \n4            California            3485            3427            3558   \n5              Colorado             588             545             574   \n6           Connecticut             275             233             279   \n7              Delaware             104             122             104   \n8  District of Columbia              30              22              34   \n9               Florida            2917            2952            3098   \n\n   Proportion_smokers  Current_smokers  number_of_veterans  \\\n0            0.184967           761140        3.595064e+05   \n1            0.187964           111288        7.145358e+04   \n2            0.142557           796004        5.081568e+05   \n3            0.196323           491610        2.110032e+05   \n4            0.106327          3203562        1.642998e+06   \n5            0.134601           587137        3.858066e+05   \n6            0.117712           338849        1.719690e+05   \n7            0.153268           124011        7.095816e+04   \n8            0.131734            78869        2.979827e+04   \n9            0.146478          2577420        1.494804e+06   \n\n   Percentage_diabetic  Population  \n0                 12.9     4903185  \n1                  7.4      731545  \n2                  9.7     7278717  \n3                 11.7     3017804  \n4                  9.2    39512223  \n5                  7.1     5758736  \n6                  8.2     3565287  \n7                 10.5      973764  \n8                  8.3      705749  \n9                  9.5    21477737  ",
      "text/html": "<div>\n<style scoped>\n    .dataframe tbody tr th:only-of-type {\n        vertical-align: middle;\n    }\n\n    .dataframe tbody tr th {\n        vertical-align: top;\n    }\n\n    .dataframe thead th {\n        text-align: right;\n    }\n</style>\n<table border=\"1\" class=\"dataframe\">\n  <thead>\n    <tr style=\"text-align: right;\">\n      <th></th>\n      <th>State</th>\n      <th>Accidents_2018</th>\n      <th>Accidents_2019</th>\n      <th>Accidents_2020</th>\n      <th>Proportion_smokers</th>\n      <th>Current_smokers</th>\n      <th>number_of_veterans</th>\n      <th>Percentage_diabetic</th>\n      <th>Population</th>\n    </tr>\n  </thead>\n  <tbody>\n    <tr>\n      <th>0</th>\n      <td>Alabama</td>\n      <td>876</td>\n      <td>856</td>\n      <td>852</td>\n      <td>0.184967</td>\n      <td>761140</td>\n      <td>3.595064e+05</td>\n      <td>12.9</td>\n      <td>4903185</td>\n    </tr>\n    <tr>\n      <th>1</th>\n      <td>Alaska</td>\n      <td>69</td>\n      <td>62</td>\n      <td>53</td>\n      <td>0.187964</td>\n      <td>111288</td>\n      <td>7.145358e+04</td>\n      <td>7.4</td>\n      <td>731545</td>\n    </tr>\n    <tr>\n      <th>2</th>\n      <td>Arizona</td>\n      <td>918</td>\n      <td>908</td>\n      <td>967</td>\n      <td>0.142557</td>\n      <td>796004</td>\n      <td>5.081568e+05</td>\n      <td>9.7</td>\n      <td>7278717</td>\n    </tr>\n    <tr>\n      <th>3</th>\n      <td>Arkansas</td>\n      <td>476</td>\n      <td>473</td>\n      <td>585</td>\n      <td>0.196323</td>\n      <td>491610</td>\n      <td>2.110032e+05</td>\n      <td>11.7</td>\n      <td>3017804</td>\n    </tr>\n    <tr>\n      <th>4</th>\n      <td>California</td>\n      <td>3485</td>\n      <td>3427</td>\n      <td>3558</td>\n      <td>0.106327</td>\n      <td>3203562</td>\n      <td>1.642998e+06</td>\n      <td>9.2</td>\n      <td>39512223</td>\n    </tr>\n    <tr>\n      <th>5</th>\n      <td>Colorado</td>\n      <td>588</td>\n      <td>545</td>\n      <td>574</td>\n      <td>0.134601</td>\n      <td>587137</td>\n      <td>3.858066e+05</td>\n      <td>7.1</td>\n      <td>5758736</td>\n    </tr>\n    <tr>\n      <th>6</th>\n      <td>Connecticut</td>\n      <td>275</td>\n      <td>233</td>\n      <td>279</td>\n      <td>0.117712</td>\n      <td>338849</td>\n      <td>1.719690e+05</td>\n      <td>8.2</td>\n      <td>3565287</td>\n    </tr>\n    <tr>\n      <th>7</th>\n      <td>Delaware</td>\n      <td>104</td>\n      <td>122</td>\n      <td>104</td>\n      <td>0.153268</td>\n      <td>124011</td>\n      <td>7.095816e+04</td>\n      <td>10.5</td>\n      <td>973764</td>\n    </tr>\n    <tr>\n      <th>8</th>\n      <td>District of Columbia</td>\n      <td>30</td>\n      <td>22</td>\n      <td>34</td>\n      <td>0.131734</td>\n      <td>78869</td>\n      <td>2.979827e+04</td>\n      <td>8.3</td>\n      <td>705749</td>\n    </tr>\n    <tr>\n      <th>9</th>\n      <td>Florida</td>\n      <td>2917</td>\n      <td>2952</td>\n      <td>3098</td>\n      <td>0.146478</td>\n      <td>2577420</td>\n      <td>1.494804e+06</td>\n      <td>9.5</td>\n      <td>21477737</td>\n    </tr>\n  </tbody>\n</table>\n</div>"
     },
     "execution_count": 27,
     "metadata": {},
     "output_type": "execute_result"
    }
   ]
  },
  {
   "cell_type": "code",
   "source": [
    "# add rows to account for population\n",
    "df_pops['Accidents_2018_proportion'] = df_pops['Accidents_2018'] / df_pops['Population']\n",
    "df_pops['Accidents_2019_proportion'] = df_pops['Accidents_2019'] / df_pops['Population']\n",
    "df_pops['Accidents_2020_proportion'] = df_pops['Accidents_2020'] / df_pops['Population']\n",
    "df_pops['Current_smokers_proportion'] = df_pops['Current_smokers'] / df_pops['Population']\n",
    "df_pops['number_of_veterans_proportion'] = df_pops['number_of_veterans'] / df_pops['Population']"
   ],
   "metadata": {
    "id": "_72JLKRxQG4Q",
    "ExecuteTime": {
     "end_time": "2023-10-08T20:37:39.352798Z",
     "start_time": "2023-10-08T20:37:39.060653Z"
    }
   },
   "execution_count": 28,
   "outputs": []
  },
  {
   "cell_type": "code",
   "source": [
    "df_pops.head()"
   ],
   "metadata": {
    "colab": {
     "base_uri": "https://localhost:8080/",
     "height": 270
    },
    "id": "zXHJvTBOQcdu",
    "outputId": "2d47bedb-53e3-4b3a-f0ea-5daaaa101d29",
    "ExecuteTime": {
     "end_time": "2023-10-08T20:37:39.354993Z",
     "start_time": "2023-10-08T20:37:39.076155Z"
    }
   },
   "execution_count": 29,
   "outputs": [
    {
     "data": {
      "text/plain": "        State  Accidents_2018  Accidents_2019  Accidents_2020  \\\n0     Alabama             876             856             852   \n1      Alaska              69              62              53   \n2     Arizona             918             908             967   \n3    Arkansas             476             473             585   \n4  California            3485            3427            3558   \n\n   Proportion_smokers  Current_smokers  number_of_veterans  \\\n0            0.184967           761140        3.595064e+05   \n1            0.187964           111288        7.145358e+04   \n2            0.142557           796004        5.081568e+05   \n3            0.196323           491610        2.110032e+05   \n4            0.106327          3203562        1.642998e+06   \n\n   Percentage_diabetic  Population  Accidents_2018_proportion  \\\n0                 12.9     4903185                   0.000179   \n1                  7.4      731545                   0.000094   \n2                  9.7     7278717                   0.000126   \n3                 11.7     3017804                   0.000158   \n4                  9.2    39512223                   0.000088   \n\n   Accidents_2019_proportion  Accidents_2020_proportion  \\\n0                   0.000175                   0.000174   \n1                   0.000085                   0.000072   \n2                   0.000125                   0.000133   \n3                   0.000157                   0.000194   \n4                   0.000087                   0.000090   \n\n   Current_smokers_proportion  number_of_veterans_proportion  \n0                    0.155234                       0.073321  \n1                    0.152127                       0.097675  \n2                    0.109360                       0.069814  \n3                    0.162903                       0.069919  \n4                    0.081078                       0.041582  ",
      "text/html": "<div>\n<style scoped>\n    .dataframe tbody tr th:only-of-type {\n        vertical-align: middle;\n    }\n\n    .dataframe tbody tr th {\n        vertical-align: top;\n    }\n\n    .dataframe thead th {\n        text-align: right;\n    }\n</style>\n<table border=\"1\" class=\"dataframe\">\n  <thead>\n    <tr style=\"text-align: right;\">\n      <th></th>\n      <th>State</th>\n      <th>Accidents_2018</th>\n      <th>Accidents_2019</th>\n      <th>Accidents_2020</th>\n      <th>Proportion_smokers</th>\n      <th>Current_smokers</th>\n      <th>number_of_veterans</th>\n      <th>Percentage_diabetic</th>\n      <th>Population</th>\n      <th>Accidents_2018_proportion</th>\n      <th>Accidents_2019_proportion</th>\n      <th>Accidents_2020_proportion</th>\n      <th>Current_smokers_proportion</th>\n      <th>number_of_veterans_proportion</th>\n    </tr>\n  </thead>\n  <tbody>\n    <tr>\n      <th>0</th>\n      <td>Alabama</td>\n      <td>876</td>\n      <td>856</td>\n      <td>852</td>\n      <td>0.184967</td>\n      <td>761140</td>\n      <td>3.595064e+05</td>\n      <td>12.9</td>\n      <td>4903185</td>\n      <td>0.000179</td>\n      <td>0.000175</td>\n      <td>0.000174</td>\n      <td>0.155234</td>\n      <td>0.073321</td>\n    </tr>\n    <tr>\n      <th>1</th>\n      <td>Alaska</td>\n      <td>69</td>\n      <td>62</td>\n      <td>53</td>\n      <td>0.187964</td>\n      <td>111288</td>\n      <td>7.145358e+04</td>\n      <td>7.4</td>\n      <td>731545</td>\n      <td>0.000094</td>\n      <td>0.000085</td>\n      <td>0.000072</td>\n      <td>0.152127</td>\n      <td>0.097675</td>\n    </tr>\n    <tr>\n      <th>2</th>\n      <td>Arizona</td>\n      <td>918</td>\n      <td>908</td>\n      <td>967</td>\n      <td>0.142557</td>\n      <td>796004</td>\n      <td>5.081568e+05</td>\n      <td>9.7</td>\n      <td>7278717</td>\n      <td>0.000126</td>\n      <td>0.000125</td>\n      <td>0.000133</td>\n      <td>0.109360</td>\n      <td>0.069814</td>\n    </tr>\n    <tr>\n      <th>3</th>\n      <td>Arkansas</td>\n      <td>476</td>\n      <td>473</td>\n      <td>585</td>\n      <td>0.196323</td>\n      <td>491610</td>\n      <td>2.110032e+05</td>\n      <td>11.7</td>\n      <td>3017804</td>\n      <td>0.000158</td>\n      <td>0.000157</td>\n      <td>0.000194</td>\n      <td>0.162903</td>\n      <td>0.069919</td>\n    </tr>\n    <tr>\n      <th>4</th>\n      <td>California</td>\n      <td>3485</td>\n      <td>3427</td>\n      <td>3558</td>\n      <td>0.106327</td>\n      <td>3203562</td>\n      <td>1.642998e+06</td>\n      <td>9.2</td>\n      <td>39512223</td>\n      <td>0.000088</td>\n      <td>0.000087</td>\n      <td>0.000090</td>\n      <td>0.081078</td>\n      <td>0.041582</td>\n    </tr>\n  </tbody>\n</table>\n</div>"
     },
     "execution_count": 29,
     "metadata": {},
     "output_type": "execute_result"
    }
   ]
  },
  {
   "cell_type": "code",
   "source": [
    "# remove non-proportion columns\n",
    "df_proportion = df_pops.drop(columns=['Accidents_2018', 'Accidents_2019', 'Accidents_2020', 'Current_smokers', 'number_of_veterans'])"
   ],
   "metadata": {
    "id": "q3Zy4HOMQe2e",
    "ExecuteTime": {
     "end_time": "2023-10-08T20:37:39.367338Z",
     "start_time": "2023-10-08T20:37:39.083810Z"
    }
   },
   "execution_count": 30,
   "outputs": []
  },
  {
   "cell_type": "code",
   "source": [
    "# now run pearson correlation coeff\n",
    "df.corr(numeric_only=True)"
   ],
   "metadata": {
    "colab": {
     "base_uri": "https://localhost:8080/",
     "height": 269
    },
    "id": "760T_k9SRQ1F",
    "outputId": "844daf4f-8db3-4717-af20-385e45a7366a",
    "ExecuteTime": {
     "end_time": "2023-10-08T20:37:39.368343Z",
     "start_time": "2023-10-08T20:37:39.090049Z"
    }
   },
   "execution_count": 31,
   "outputs": [
    {
     "data": {
      "text/plain": "                     Accidents_2018  Accidents_2019  Accidents_2020  \\\nAccidents_2018             1.000000        0.999275        0.998531   \nAccidents_2019             0.999275        1.000000        0.999095   \nAccidents_2020             0.998531        0.999095        1.000000   \nProportion_smokers        -0.074976       -0.071356       -0.061168   \nCurrent_smokers            0.934505        0.932544        0.937068   \nnumber_of_veterans         0.965402        0.964993        0.964715   \nPercentage_diabetic        0.329473        0.333297        0.339788   \n\n                     Proportion_smokers  Current_smokers  number_of_veterans  \\\nAccidents_2018                -0.074976         0.934505            0.965402   \nAccidents_2019                -0.071356         0.932544            0.964993   \nAccidents_2020                -0.061168         0.937068            0.964715   \nProportion_smokers             1.000000        -0.062484           -0.155825   \nCurrent_smokers               -0.062484         1.000000            0.970834   \nnumber_of_veterans            -0.155825         0.970834            1.000000   \nPercentage_diabetic            0.608510         0.294272            0.230751   \n\n                     Percentage_diabetic  \nAccidents_2018                  0.329473  \nAccidents_2019                  0.333297  \nAccidents_2020                  0.339788  \nProportion_smokers              0.608510  \nCurrent_smokers                 0.294272  \nnumber_of_veterans              0.230751  \nPercentage_diabetic             1.000000  ",
      "text/html": "<div>\n<style scoped>\n    .dataframe tbody tr th:only-of-type {\n        vertical-align: middle;\n    }\n\n    .dataframe tbody tr th {\n        vertical-align: top;\n    }\n\n    .dataframe thead th {\n        text-align: right;\n    }\n</style>\n<table border=\"1\" class=\"dataframe\">\n  <thead>\n    <tr style=\"text-align: right;\">\n      <th></th>\n      <th>Accidents_2018</th>\n      <th>Accidents_2019</th>\n      <th>Accidents_2020</th>\n      <th>Proportion_smokers</th>\n      <th>Current_smokers</th>\n      <th>number_of_veterans</th>\n      <th>Percentage_diabetic</th>\n    </tr>\n  </thead>\n  <tbody>\n    <tr>\n      <th>Accidents_2018</th>\n      <td>1.000000</td>\n      <td>0.999275</td>\n      <td>0.998531</td>\n      <td>-0.074976</td>\n      <td>0.934505</td>\n      <td>0.965402</td>\n      <td>0.329473</td>\n    </tr>\n    <tr>\n      <th>Accidents_2019</th>\n      <td>0.999275</td>\n      <td>1.000000</td>\n      <td>0.999095</td>\n      <td>-0.071356</td>\n      <td>0.932544</td>\n      <td>0.964993</td>\n      <td>0.333297</td>\n    </tr>\n    <tr>\n      <th>Accidents_2020</th>\n      <td>0.998531</td>\n      <td>0.999095</td>\n      <td>1.000000</td>\n      <td>-0.061168</td>\n      <td>0.937068</td>\n      <td>0.964715</td>\n      <td>0.339788</td>\n    </tr>\n    <tr>\n      <th>Proportion_smokers</th>\n      <td>-0.074976</td>\n      <td>-0.071356</td>\n      <td>-0.061168</td>\n      <td>1.000000</td>\n      <td>-0.062484</td>\n      <td>-0.155825</td>\n      <td>0.608510</td>\n    </tr>\n    <tr>\n      <th>Current_smokers</th>\n      <td>0.934505</td>\n      <td>0.932544</td>\n      <td>0.937068</td>\n      <td>-0.062484</td>\n      <td>1.000000</td>\n      <td>0.970834</td>\n      <td>0.294272</td>\n    </tr>\n    <tr>\n      <th>number_of_veterans</th>\n      <td>0.965402</td>\n      <td>0.964993</td>\n      <td>0.964715</td>\n      <td>-0.155825</td>\n      <td>0.970834</td>\n      <td>1.000000</td>\n      <td>0.230751</td>\n    </tr>\n    <tr>\n      <th>Percentage_diabetic</th>\n      <td>0.329473</td>\n      <td>0.333297</td>\n      <td>0.339788</td>\n      <td>0.608510</td>\n      <td>0.294272</td>\n      <td>0.230751</td>\n      <td>1.000000</td>\n    </tr>\n  </tbody>\n</table>\n</div>"
     },
     "execution_count": 31,
     "metadata": {},
     "output_type": "execute_result"
    }
   ]
  },
  {
   "cell_type": "code",
   "source": [
    "# Visuals\n",
    "full_dataframe = df_pops\n",
    "\n",
    "full_dataframe.head()"
   ],
   "metadata": {
    "colab": {
     "base_uri": "https://localhost:8080/",
     "height": 270
    },
    "id": "CAwr3EvuYCkX",
    "outputId": "99cdc994-097d-494d-a1fe-7017b6715a67",
    "ExecuteTime": {
     "end_time": "2023-10-08T20:37:39.368914Z",
     "start_time": "2023-10-08T20:37:39.113910Z"
    }
   },
   "execution_count": 32,
   "outputs": [
    {
     "data": {
      "text/plain": "        State  Accidents_2018  Accidents_2019  Accidents_2020  \\\n0     Alabama             876             856             852   \n1      Alaska              69              62              53   \n2     Arizona             918             908             967   \n3    Arkansas             476             473             585   \n4  California            3485            3427            3558   \n\n   Proportion_smokers  Current_smokers  number_of_veterans  \\\n0            0.184967           761140        3.595064e+05   \n1            0.187964           111288        7.145358e+04   \n2            0.142557           796004        5.081568e+05   \n3            0.196323           491610        2.110032e+05   \n4            0.106327          3203562        1.642998e+06   \n\n   Percentage_diabetic  Population  Accidents_2018_proportion  \\\n0                 12.9     4903185                   0.000179   \n1                  7.4      731545                   0.000094   \n2                  9.7     7278717                   0.000126   \n3                 11.7     3017804                   0.000158   \n4                  9.2    39512223                   0.000088   \n\n   Accidents_2019_proportion  Accidents_2020_proportion  \\\n0                   0.000175                   0.000174   \n1                   0.000085                   0.000072   \n2                   0.000125                   0.000133   \n3                   0.000157                   0.000194   \n4                   0.000087                   0.000090   \n\n   Current_smokers_proportion  number_of_veterans_proportion  \n0                    0.155234                       0.073321  \n1                    0.152127                       0.097675  \n2                    0.109360                       0.069814  \n3                    0.162903                       0.069919  \n4                    0.081078                       0.041582  ",
      "text/html": "<div>\n<style scoped>\n    .dataframe tbody tr th:only-of-type {\n        vertical-align: middle;\n    }\n\n    .dataframe tbody tr th {\n        vertical-align: top;\n    }\n\n    .dataframe thead th {\n        text-align: right;\n    }\n</style>\n<table border=\"1\" class=\"dataframe\">\n  <thead>\n    <tr style=\"text-align: right;\">\n      <th></th>\n      <th>State</th>\n      <th>Accidents_2018</th>\n      <th>Accidents_2019</th>\n      <th>Accidents_2020</th>\n      <th>Proportion_smokers</th>\n      <th>Current_smokers</th>\n      <th>number_of_veterans</th>\n      <th>Percentage_diabetic</th>\n      <th>Population</th>\n      <th>Accidents_2018_proportion</th>\n      <th>Accidents_2019_proportion</th>\n      <th>Accidents_2020_proportion</th>\n      <th>Current_smokers_proportion</th>\n      <th>number_of_veterans_proportion</th>\n    </tr>\n  </thead>\n  <tbody>\n    <tr>\n      <th>0</th>\n      <td>Alabama</td>\n      <td>876</td>\n      <td>856</td>\n      <td>852</td>\n      <td>0.184967</td>\n      <td>761140</td>\n      <td>3.595064e+05</td>\n      <td>12.9</td>\n      <td>4903185</td>\n      <td>0.000179</td>\n      <td>0.000175</td>\n      <td>0.000174</td>\n      <td>0.155234</td>\n      <td>0.073321</td>\n    </tr>\n    <tr>\n      <th>1</th>\n      <td>Alaska</td>\n      <td>69</td>\n      <td>62</td>\n      <td>53</td>\n      <td>0.187964</td>\n      <td>111288</td>\n      <td>7.145358e+04</td>\n      <td>7.4</td>\n      <td>731545</td>\n      <td>0.000094</td>\n      <td>0.000085</td>\n      <td>0.000072</td>\n      <td>0.152127</td>\n      <td>0.097675</td>\n    </tr>\n    <tr>\n      <th>2</th>\n      <td>Arizona</td>\n      <td>918</td>\n      <td>908</td>\n      <td>967</td>\n      <td>0.142557</td>\n      <td>796004</td>\n      <td>5.081568e+05</td>\n      <td>9.7</td>\n      <td>7278717</td>\n      <td>0.000126</td>\n      <td>0.000125</td>\n      <td>0.000133</td>\n      <td>0.109360</td>\n      <td>0.069814</td>\n    </tr>\n    <tr>\n      <th>3</th>\n      <td>Arkansas</td>\n      <td>476</td>\n      <td>473</td>\n      <td>585</td>\n      <td>0.196323</td>\n      <td>491610</td>\n      <td>2.110032e+05</td>\n      <td>11.7</td>\n      <td>3017804</td>\n      <td>0.000158</td>\n      <td>0.000157</td>\n      <td>0.000194</td>\n      <td>0.162903</td>\n      <td>0.069919</td>\n    </tr>\n    <tr>\n      <th>4</th>\n      <td>California</td>\n      <td>3485</td>\n      <td>3427</td>\n      <td>3558</td>\n      <td>0.106327</td>\n      <td>3203562</td>\n      <td>1.642998e+06</td>\n      <td>9.2</td>\n      <td>39512223</td>\n      <td>0.000088</td>\n      <td>0.000087</td>\n      <td>0.000090</td>\n      <td>0.081078</td>\n      <td>0.041582</td>\n    </tr>\n  </tbody>\n</table>\n</div>"
     },
     "execution_count": 32,
     "metadata": {},
     "output_type": "execute_result"
    }
   ]
  },
  {
   "cell_type": "code",
   "source": [
    "#preparing data for analysis\n",
    "full_dataframe['Proportion_diabetic'] = full_dataframe['Percentage_diabetic'] / 100\n",
    "\n",
    "full_dataframe.head()"
   ],
   "metadata": {
    "colab": {
     "base_uri": "https://localhost:8080/",
     "height": 270
    },
    "id": "MBIdkkOwZYOC",
    "outputId": "bbd5fdfa-8c06-443c-b3dc-a16a5b6a0298",
    "ExecuteTime": {
     "end_time": "2023-10-08T20:37:39.369522Z",
     "start_time": "2023-10-08T20:37:39.129796Z"
    }
   },
   "execution_count": 33,
   "outputs": [
    {
     "data": {
      "text/plain": "        State  Accidents_2018  Accidents_2019  Accidents_2020  \\\n0     Alabama             876             856             852   \n1      Alaska              69              62              53   \n2     Arizona             918             908             967   \n3    Arkansas             476             473             585   \n4  California            3485            3427            3558   \n\n   Proportion_smokers  Current_smokers  number_of_veterans  \\\n0            0.184967           761140        3.595064e+05   \n1            0.187964           111288        7.145358e+04   \n2            0.142557           796004        5.081568e+05   \n3            0.196323           491610        2.110032e+05   \n4            0.106327          3203562        1.642998e+06   \n\n   Percentage_diabetic  Population  Accidents_2018_proportion  \\\n0                 12.9     4903185                   0.000179   \n1                  7.4      731545                   0.000094   \n2                  9.7     7278717                   0.000126   \n3                 11.7     3017804                   0.000158   \n4                  9.2    39512223                   0.000088   \n\n   Accidents_2019_proportion  Accidents_2020_proportion  \\\n0                   0.000175                   0.000174   \n1                   0.000085                   0.000072   \n2                   0.000125                   0.000133   \n3                   0.000157                   0.000194   \n4                   0.000087                   0.000090   \n\n   Current_smokers_proportion  number_of_veterans_proportion  \\\n0                    0.155234                       0.073321   \n1                    0.152127                       0.097675   \n2                    0.109360                       0.069814   \n3                    0.162903                       0.069919   \n4                    0.081078                       0.041582   \n\n   Proportion_diabetic  \n0                0.129  \n1                0.074  \n2                0.097  \n3                0.117  \n4                0.092  ",
      "text/html": "<div>\n<style scoped>\n    .dataframe tbody tr th:only-of-type {\n        vertical-align: middle;\n    }\n\n    .dataframe tbody tr th {\n        vertical-align: top;\n    }\n\n    .dataframe thead th {\n        text-align: right;\n    }\n</style>\n<table border=\"1\" class=\"dataframe\">\n  <thead>\n    <tr style=\"text-align: right;\">\n      <th></th>\n      <th>State</th>\n      <th>Accidents_2018</th>\n      <th>Accidents_2019</th>\n      <th>Accidents_2020</th>\n      <th>Proportion_smokers</th>\n      <th>Current_smokers</th>\n      <th>number_of_veterans</th>\n      <th>Percentage_diabetic</th>\n      <th>Population</th>\n      <th>Accidents_2018_proportion</th>\n      <th>Accidents_2019_proportion</th>\n      <th>Accidents_2020_proportion</th>\n      <th>Current_smokers_proportion</th>\n      <th>number_of_veterans_proportion</th>\n      <th>Proportion_diabetic</th>\n    </tr>\n  </thead>\n  <tbody>\n    <tr>\n      <th>0</th>\n      <td>Alabama</td>\n      <td>876</td>\n      <td>856</td>\n      <td>852</td>\n      <td>0.184967</td>\n      <td>761140</td>\n      <td>3.595064e+05</td>\n      <td>12.9</td>\n      <td>4903185</td>\n      <td>0.000179</td>\n      <td>0.000175</td>\n      <td>0.000174</td>\n      <td>0.155234</td>\n      <td>0.073321</td>\n      <td>0.129</td>\n    </tr>\n    <tr>\n      <th>1</th>\n      <td>Alaska</td>\n      <td>69</td>\n      <td>62</td>\n      <td>53</td>\n      <td>0.187964</td>\n      <td>111288</td>\n      <td>7.145358e+04</td>\n      <td>7.4</td>\n      <td>731545</td>\n      <td>0.000094</td>\n      <td>0.000085</td>\n      <td>0.000072</td>\n      <td>0.152127</td>\n      <td>0.097675</td>\n      <td>0.074</td>\n    </tr>\n    <tr>\n      <th>2</th>\n      <td>Arizona</td>\n      <td>918</td>\n      <td>908</td>\n      <td>967</td>\n      <td>0.142557</td>\n      <td>796004</td>\n      <td>5.081568e+05</td>\n      <td>9.7</td>\n      <td>7278717</td>\n      <td>0.000126</td>\n      <td>0.000125</td>\n      <td>0.000133</td>\n      <td>0.109360</td>\n      <td>0.069814</td>\n      <td>0.097</td>\n    </tr>\n    <tr>\n      <th>3</th>\n      <td>Arkansas</td>\n      <td>476</td>\n      <td>473</td>\n      <td>585</td>\n      <td>0.196323</td>\n      <td>491610</td>\n      <td>2.110032e+05</td>\n      <td>11.7</td>\n      <td>3017804</td>\n      <td>0.000158</td>\n      <td>0.000157</td>\n      <td>0.000194</td>\n      <td>0.162903</td>\n      <td>0.069919</td>\n      <td>0.117</td>\n    </tr>\n    <tr>\n      <th>4</th>\n      <td>California</td>\n      <td>3485</td>\n      <td>3427</td>\n      <td>3558</td>\n      <td>0.106327</td>\n      <td>3203562</td>\n      <td>1.642998e+06</td>\n      <td>9.2</td>\n      <td>39512223</td>\n      <td>0.000088</td>\n      <td>0.000087</td>\n      <td>0.000090</td>\n      <td>0.081078</td>\n      <td>0.041582</td>\n      <td>0.092</td>\n    </tr>\n  </tbody>\n</table>\n</div>"
     },
     "execution_count": 33,
     "metadata": {},
     "output_type": "execute_result"
    }
   ]
  },
  {
   "cell_type": "code",
   "source": [
    "proportion_columns = ['State', 'Accidents_2018_proportion', 'Accidents_2019_proportion', 'Accidents_2020_proportion',\n",
    "                      'Current_smokers_proportion', 'number_of_veterans_proportion', 'Proportion_diabetic']\n",
    "\n",
    "df_proportions = full_dataframe[proportion_columns]\n",
    "\n",
    "# Display the new DataFrame\n",
    "df_DA = df_proportions"
   ],
   "metadata": {
    "id": "O_dX_QJFb8w_",
    "ExecuteTime": {
     "end_time": "2023-10-08T20:37:39.432505Z",
     "start_time": "2023-10-08T20:37:39.147485Z"
    }
   },
   "execution_count": 34,
   "outputs": []
  },
  {
   "cell_type": "code",
   "source": [
    "#employing min-max scaling to give all the proportions scores\n",
    "scaler = MinMaxScaler()\n",
    "\n",
    "# Select the columns to be scaled excluding 'State'\n",
    "columns_to_scale = [col for col in df_proportions.columns if col != 'State']\n",
    "\n",
    "# Apply Min-Max scaling to the selected columns\n",
    "scaled_data = scaler.fit_transform(df_proportions[columns_to_scale])\n",
    "\n",
    "# Create a new df with the scaled data and the same column names excluding 'State'\n",
    "df_scaled_values = pd.DataFrame(scaled_data, columns=columns_to_scale)\n",
    "\n",
    "# Add the 'State' column back to the new df\n",
    "df_scaled = pd.concat([df['State'], df_scaled_values], axis=1)\n",
    "\n",
    "# Display\n",
    "df_scaled.head()"
   ],
   "metadata": {
    "colab": {
     "base_uri": "https://localhost:8080/",
     "height": 270
    },
    "id": "bTpWaF_DZ9Cu",
    "outputId": "30d25ad1-712c-4192-8793-981871e29ef7",
    "ExecuteTime": {
     "end_time": "2023-10-08T20:37:39.455389Z",
     "start_time": "2023-10-08T20:37:39.168437Z"
    }
   },
   "execution_count": 35,
   "outputs": [
    {
     "data": {
      "text/plain": "        State  Accidents_2018_proportion  Accidents_2019_proportion  \\\n0     Alabama                   0.863079                   0.814042   \n1      Alaska                   0.328448                   0.304140   \n2     Arizona                   0.530033                   0.531169   \n3    Arkansas                   0.730409                   0.712753   \n4  California                   0.289650                   0.315382   \n\n   Accidents_2020_proportion  Current_smokers_proportion  \\\n0                   0.688806                    0.651212   \n1                   0.136355                    0.630217   \n2                   0.465724                    0.341175   \n3                   0.798325                    0.703046   \n4                   0.232317                    0.150024   \n\n   number_of_veterans_proportion  Proportion_diabetic  \n0                       0.591514             0.968750  \n1                       1.000000             0.109375  \n2                       0.532692             0.468750  \n3                       0.534460             0.781250  \n4                       0.059159             0.390625  ",
      "text/html": "<div>\n<style scoped>\n    .dataframe tbody tr th:only-of-type {\n        vertical-align: middle;\n    }\n\n    .dataframe tbody tr th {\n        vertical-align: top;\n    }\n\n    .dataframe thead th {\n        text-align: right;\n    }\n</style>\n<table border=\"1\" class=\"dataframe\">\n  <thead>\n    <tr style=\"text-align: right;\">\n      <th></th>\n      <th>State</th>\n      <th>Accidents_2018_proportion</th>\n      <th>Accidents_2019_proportion</th>\n      <th>Accidents_2020_proportion</th>\n      <th>Current_smokers_proportion</th>\n      <th>number_of_veterans_proportion</th>\n      <th>Proportion_diabetic</th>\n    </tr>\n  </thead>\n  <tbody>\n    <tr>\n      <th>0</th>\n      <td>Alabama</td>\n      <td>0.863079</td>\n      <td>0.814042</td>\n      <td>0.688806</td>\n      <td>0.651212</td>\n      <td>0.591514</td>\n      <td>0.968750</td>\n    </tr>\n    <tr>\n      <th>1</th>\n      <td>Alaska</td>\n      <td>0.328448</td>\n      <td>0.304140</td>\n      <td>0.136355</td>\n      <td>0.630217</td>\n      <td>1.000000</td>\n      <td>0.109375</td>\n    </tr>\n    <tr>\n      <th>2</th>\n      <td>Arizona</td>\n      <td>0.530033</td>\n      <td>0.531169</td>\n      <td>0.465724</td>\n      <td>0.341175</td>\n      <td>0.532692</td>\n      <td>0.468750</td>\n    </tr>\n    <tr>\n      <th>3</th>\n      <td>Arkansas</td>\n      <td>0.730409</td>\n      <td>0.712753</td>\n      <td>0.798325</td>\n      <td>0.703046</td>\n      <td>0.534460</td>\n      <td>0.781250</td>\n    </tr>\n    <tr>\n      <th>4</th>\n      <td>California</td>\n      <td>0.289650</td>\n      <td>0.315382</td>\n      <td>0.232317</td>\n      <td>0.150024</td>\n      <td>0.059159</td>\n      <td>0.390625</td>\n    </tr>\n  </tbody>\n</table>\n</div>"
     },
     "execution_count": 35,
     "metadata": {},
     "output_type": "execute_result"
    }
   ]
  },
  {
   "cell_type": "code",
   "source": [
    "df_scaled2 = df_scaled\n",
    "df_scaled2.head()"
   ],
   "metadata": {
    "id": "4jnshHC65FT7",
    "colab": {
     "base_uri": "https://localhost:8080/",
     "height": 270
    },
    "outputId": "281ce110-e187-4d2b-eb6b-f14b7af1801f",
    "ExecuteTime": {
     "end_time": "2023-10-08T20:37:39.456707Z",
     "start_time": "2023-10-08T20:37:39.180659Z"
    }
   },
   "execution_count": 36,
   "outputs": [
    {
     "data": {
      "text/plain": "        State  Accidents_2018_proportion  Accidents_2019_proportion  \\\n0     Alabama                   0.863079                   0.814042   \n1      Alaska                   0.328448                   0.304140   \n2     Arizona                   0.530033                   0.531169   \n3    Arkansas                   0.730409                   0.712753   \n4  California                   0.289650                   0.315382   \n\n   Accidents_2020_proportion  Current_smokers_proportion  \\\n0                   0.688806                    0.651212   \n1                   0.136355                    0.630217   \n2                   0.465724                    0.341175   \n3                   0.798325                    0.703046   \n4                   0.232317                    0.150024   \n\n   number_of_veterans_proportion  Proportion_diabetic  \n0                       0.591514             0.968750  \n1                       1.000000             0.109375  \n2                       0.532692             0.468750  \n3                       0.534460             0.781250  \n4                       0.059159             0.390625  ",
      "text/html": "<div>\n<style scoped>\n    .dataframe tbody tr th:only-of-type {\n        vertical-align: middle;\n    }\n\n    .dataframe tbody tr th {\n        vertical-align: top;\n    }\n\n    .dataframe thead th {\n        text-align: right;\n    }\n</style>\n<table border=\"1\" class=\"dataframe\">\n  <thead>\n    <tr style=\"text-align: right;\">\n      <th></th>\n      <th>State</th>\n      <th>Accidents_2018_proportion</th>\n      <th>Accidents_2019_proportion</th>\n      <th>Accidents_2020_proportion</th>\n      <th>Current_smokers_proportion</th>\n      <th>number_of_veterans_proportion</th>\n      <th>Proportion_diabetic</th>\n    </tr>\n  </thead>\n  <tbody>\n    <tr>\n      <th>0</th>\n      <td>Alabama</td>\n      <td>0.863079</td>\n      <td>0.814042</td>\n      <td>0.688806</td>\n      <td>0.651212</td>\n      <td>0.591514</td>\n      <td>0.968750</td>\n    </tr>\n    <tr>\n      <th>1</th>\n      <td>Alaska</td>\n      <td>0.328448</td>\n      <td>0.304140</td>\n      <td>0.136355</td>\n      <td>0.630217</td>\n      <td>1.000000</td>\n      <td>0.109375</td>\n    </tr>\n    <tr>\n      <th>2</th>\n      <td>Arizona</td>\n      <td>0.530033</td>\n      <td>0.531169</td>\n      <td>0.465724</td>\n      <td>0.341175</td>\n      <td>0.532692</td>\n      <td>0.468750</td>\n    </tr>\n    <tr>\n      <th>3</th>\n      <td>Arkansas</td>\n      <td>0.730409</td>\n      <td>0.712753</td>\n      <td>0.798325</td>\n      <td>0.703046</td>\n      <td>0.534460</td>\n      <td>0.781250</td>\n    </tr>\n    <tr>\n      <th>4</th>\n      <td>California</td>\n      <td>0.289650</td>\n      <td>0.315382</td>\n      <td>0.232317</td>\n      <td>0.150024</td>\n      <td>0.059159</td>\n      <td>0.390625</td>\n    </tr>\n  </tbody>\n</table>\n</div>"
     },
     "execution_count": 36,
     "metadata": {},
     "output_type": "execute_result"
    }
   ]
  },
  {
   "cell_type": "code",
   "source": [
    "#Here I want to assign weights based on predictive capabilities: according to my research\n",
    "#Car accidents account for 39% of amputations, Diabetic rates 25%, Smokers 12% and Veterans 7%, other unknown factors are the rest\n",
    "\n",
    "# Create a list of weights\n",
    "# one weight for each column in df\n",
    "weights = [0.13, 0.13, 0.13, 0.12, 0.07, 0.25]\n",
    "\n",
    "weights_dict = {col: weight for col, weight in zip(df_scaled.columns[1:], weights)}\n",
    "\n",
    "# Multiply each column except 'State' in the df by its corresponding weight\n",
    "df_weighted = df_scaled.copy()\n",
    "for col, weight in weights_dict.items():\n",
    "    df_weighted[col] = df_scaled[col] * weight\n",
    "\n",
    "# Display the weighted df\n",
    "df_weighted.head()"
   ],
   "metadata": {
    "colab": {
     "base_uri": "https://localhost:8080/",
     "height": 270
    },
    "id": "7ZCuYI4xdHeG",
    "outputId": "1bdaf130-e1f2-4857-d544-5508cd5305f6",
    "ExecuteTime": {
     "end_time": "2023-10-08T20:37:39.457889Z",
     "start_time": "2023-10-08T20:37:39.198290Z"
    }
   },
   "execution_count": 37,
   "outputs": [
    {
     "data": {
      "text/plain": "        State  Accidents_2018_proportion  Accidents_2019_proportion  \\\n0     Alabama                   0.112200                   0.105825   \n1      Alaska                   0.042698                   0.039538   \n2     Arizona                   0.068904                   0.069052   \n3    Arkansas                   0.094953                   0.092658   \n4  California                   0.037655                   0.041000   \n\n   Accidents_2020_proportion  Current_smokers_proportion  \\\n0                   0.089545                    0.078145   \n1                   0.017726                    0.075626   \n2                   0.060544                    0.040941   \n3                   0.103782                    0.084366   \n4                   0.030201                    0.018003   \n\n   number_of_veterans_proportion  Proportion_diabetic  \n0                       0.041406             0.242188  \n1                       0.070000             0.027344  \n2                       0.037288             0.117187  \n3                       0.037412             0.195312  \n4                       0.004141             0.097656  ",
      "text/html": "<div>\n<style scoped>\n    .dataframe tbody tr th:only-of-type {\n        vertical-align: middle;\n    }\n\n    .dataframe tbody tr th {\n        vertical-align: top;\n    }\n\n    .dataframe thead th {\n        text-align: right;\n    }\n</style>\n<table border=\"1\" class=\"dataframe\">\n  <thead>\n    <tr style=\"text-align: right;\">\n      <th></th>\n      <th>State</th>\n      <th>Accidents_2018_proportion</th>\n      <th>Accidents_2019_proportion</th>\n      <th>Accidents_2020_proportion</th>\n      <th>Current_smokers_proportion</th>\n      <th>number_of_veterans_proportion</th>\n      <th>Proportion_diabetic</th>\n    </tr>\n  </thead>\n  <tbody>\n    <tr>\n      <th>0</th>\n      <td>Alabama</td>\n      <td>0.112200</td>\n      <td>0.105825</td>\n      <td>0.089545</td>\n      <td>0.078145</td>\n      <td>0.041406</td>\n      <td>0.242188</td>\n    </tr>\n    <tr>\n      <th>1</th>\n      <td>Alaska</td>\n      <td>0.042698</td>\n      <td>0.039538</td>\n      <td>0.017726</td>\n      <td>0.075626</td>\n      <td>0.070000</td>\n      <td>0.027344</td>\n    </tr>\n    <tr>\n      <th>2</th>\n      <td>Arizona</td>\n      <td>0.068904</td>\n      <td>0.069052</td>\n      <td>0.060544</td>\n      <td>0.040941</td>\n      <td>0.037288</td>\n      <td>0.117187</td>\n    </tr>\n    <tr>\n      <th>3</th>\n      <td>Arkansas</td>\n      <td>0.094953</td>\n      <td>0.092658</td>\n      <td>0.103782</td>\n      <td>0.084366</td>\n      <td>0.037412</td>\n      <td>0.195312</td>\n    </tr>\n    <tr>\n      <th>4</th>\n      <td>California</td>\n      <td>0.037655</td>\n      <td>0.041000</td>\n      <td>0.030201</td>\n      <td>0.018003</td>\n      <td>0.004141</td>\n      <td>0.097656</td>\n    </tr>\n  </tbody>\n</table>\n</div>"
     },
     "execution_count": 37,
     "metadata": {},
     "output_type": "execute_result"
    }
   ]
  },
  {
   "cell_type": "code",
   "source": [
    "# create a total risk score for amputations and demand score for prosthetics\n",
    "# Compute the total score for each row by summing the values across columns excluding the 'State' column\n",
    "df_weighted['total_score'] = df_weighted.drop('State', axis=1).sum(axis=1)\n",
    "\n",
    "# Display the updated df with the 'total_score' column\n",
    "df_weighted.head()"
   ],
   "metadata": {
    "colab": {
     "base_uri": "https://localhost:8080/",
     "height": 270
    },
    "id": "PVA1d5AFivOl",
    "outputId": "5de8f967-7712-4792-8372-a62dc3eae000",
    "ExecuteTime": {
     "end_time": "2023-10-08T20:37:39.459008Z",
     "start_time": "2023-10-08T20:37:39.214183Z"
    }
   },
   "execution_count": 38,
   "outputs": [
    {
     "data": {
      "text/plain": "        State  Accidents_2018_proportion  Accidents_2019_proportion  \\\n0     Alabama                   0.112200                   0.105825   \n1      Alaska                   0.042698                   0.039538   \n2     Arizona                   0.068904                   0.069052   \n3    Arkansas                   0.094953                   0.092658   \n4  California                   0.037655                   0.041000   \n\n   Accidents_2020_proportion  Current_smokers_proportion  \\\n0                   0.089545                    0.078145   \n1                   0.017726                    0.075626   \n2                   0.060544                    0.040941   \n3                   0.103782                    0.084366   \n4                   0.030201                    0.018003   \n\n   number_of_veterans_proportion  Proportion_diabetic  total_score  \n0                       0.041406             0.242188     0.669309  \n1                       0.070000             0.027344     0.272932  \n2                       0.037288             0.117187     0.393917  \n3                       0.037412             0.195312     0.608483  \n4                       0.004141             0.097656     0.228656  ",
      "text/html": "<div>\n<style scoped>\n    .dataframe tbody tr th:only-of-type {\n        vertical-align: middle;\n    }\n\n    .dataframe tbody tr th {\n        vertical-align: top;\n    }\n\n    .dataframe thead th {\n        text-align: right;\n    }\n</style>\n<table border=\"1\" class=\"dataframe\">\n  <thead>\n    <tr style=\"text-align: right;\">\n      <th></th>\n      <th>State</th>\n      <th>Accidents_2018_proportion</th>\n      <th>Accidents_2019_proportion</th>\n      <th>Accidents_2020_proportion</th>\n      <th>Current_smokers_proportion</th>\n      <th>number_of_veterans_proportion</th>\n      <th>Proportion_diabetic</th>\n      <th>total_score</th>\n    </tr>\n  </thead>\n  <tbody>\n    <tr>\n      <th>0</th>\n      <td>Alabama</td>\n      <td>0.112200</td>\n      <td>0.105825</td>\n      <td>0.089545</td>\n      <td>0.078145</td>\n      <td>0.041406</td>\n      <td>0.242188</td>\n      <td>0.669309</td>\n    </tr>\n    <tr>\n      <th>1</th>\n      <td>Alaska</td>\n      <td>0.042698</td>\n      <td>0.039538</td>\n      <td>0.017726</td>\n      <td>0.075626</td>\n      <td>0.070000</td>\n      <td>0.027344</td>\n      <td>0.272932</td>\n    </tr>\n    <tr>\n      <th>2</th>\n      <td>Arizona</td>\n      <td>0.068904</td>\n      <td>0.069052</td>\n      <td>0.060544</td>\n      <td>0.040941</td>\n      <td>0.037288</td>\n      <td>0.117187</td>\n      <td>0.393917</td>\n    </tr>\n    <tr>\n      <th>3</th>\n      <td>Arkansas</td>\n      <td>0.094953</td>\n      <td>0.092658</td>\n      <td>0.103782</td>\n      <td>0.084366</td>\n      <td>0.037412</td>\n      <td>0.195312</td>\n      <td>0.608483</td>\n    </tr>\n    <tr>\n      <th>4</th>\n      <td>California</td>\n      <td>0.037655</td>\n      <td>0.041000</td>\n      <td>0.030201</td>\n      <td>0.018003</td>\n      <td>0.004141</td>\n      <td>0.097656</td>\n      <td>0.228656</td>\n    </tr>\n  </tbody>\n</table>\n</div>"
     },
     "execution_count": 38,
     "metadata": {},
     "output_type": "execute_result"
    }
   ]
  },
  {
   "cell_type": "code",
   "source": [
    "#Scale the risk score\n",
    "scaler = MinMaxScaler(feature_range=(0, 10))\n",
    "\n",
    "# Reshape the 'total_score' column to a 2D array and apply Min-Max scaling\n",
    "scaled_total_score = scaler.fit_transform(df_weighted[['total_score']])\n",
    "\n",
    "# Replace the 'total_score' column with the scaled data\n",
    "df_weighted['total_score'] = scaled_total_score\n",
    "\n",
    "# Display the updated df with the scaled 'total_score' column\n",
    "df_weighted.head()"
   ],
   "metadata": {
    "colab": {
     "base_uri": "https://localhost:8080/",
     "height": 270
    },
    "id": "GDo9bBCclc4u",
    "outputId": "d21c32c9-2d27-4037-c6e1-6b3a3ca07418",
    "ExecuteTime": {
     "end_time": "2023-10-08T20:37:39.492264Z",
     "start_time": "2023-10-08T20:37:39.233163Z"
    }
   },
   "execution_count": 39,
   "outputs": [
    {
     "data": {
      "text/plain": "        State  Accidents_2018_proportion  Accidents_2019_proportion  \\\n0     Alabama                   0.112200                   0.105825   \n1      Alaska                   0.042698                   0.039538   \n2     Arizona                   0.068904                   0.069052   \n3    Arkansas                   0.094953                   0.092658   \n4  California                   0.037655                   0.041000   \n\n   Accidents_2020_proportion  Current_smokers_proportion  \\\n0                   0.089545                    0.078145   \n1                   0.017726                    0.075626   \n2                   0.060544                    0.040941   \n3                   0.103782                    0.084366   \n4                   0.030201                    0.018003   \n\n   number_of_veterans_proportion  Proportion_diabetic  total_score  \n0                       0.041406             0.242188     8.880613  \n1                       0.070000             0.027344     2.689363  \n2                       0.037288             0.117187     4.579098  \n3                       0.037412             0.195312     7.930537  \n4                       0.004141             0.097656     1.997779  ",
      "text/html": "<div>\n<style scoped>\n    .dataframe tbody tr th:only-of-type {\n        vertical-align: middle;\n    }\n\n    .dataframe tbody tr th {\n        vertical-align: top;\n    }\n\n    .dataframe thead th {\n        text-align: right;\n    }\n</style>\n<table border=\"1\" class=\"dataframe\">\n  <thead>\n    <tr style=\"text-align: right;\">\n      <th></th>\n      <th>State</th>\n      <th>Accidents_2018_proportion</th>\n      <th>Accidents_2019_proportion</th>\n      <th>Accidents_2020_proportion</th>\n      <th>Current_smokers_proportion</th>\n      <th>number_of_veterans_proportion</th>\n      <th>Proportion_diabetic</th>\n      <th>total_score</th>\n    </tr>\n  </thead>\n  <tbody>\n    <tr>\n      <th>0</th>\n      <td>Alabama</td>\n      <td>0.112200</td>\n      <td>0.105825</td>\n      <td>0.089545</td>\n      <td>0.078145</td>\n      <td>0.041406</td>\n      <td>0.242188</td>\n      <td>8.880613</td>\n    </tr>\n    <tr>\n      <th>1</th>\n      <td>Alaska</td>\n      <td>0.042698</td>\n      <td>0.039538</td>\n      <td>0.017726</td>\n      <td>0.075626</td>\n      <td>0.070000</td>\n      <td>0.027344</td>\n      <td>2.689363</td>\n    </tr>\n    <tr>\n      <th>2</th>\n      <td>Arizona</td>\n      <td>0.068904</td>\n      <td>0.069052</td>\n      <td>0.060544</td>\n      <td>0.040941</td>\n      <td>0.037288</td>\n      <td>0.117187</td>\n      <td>4.579098</td>\n    </tr>\n    <tr>\n      <th>3</th>\n      <td>Arkansas</td>\n      <td>0.094953</td>\n      <td>0.092658</td>\n      <td>0.103782</td>\n      <td>0.084366</td>\n      <td>0.037412</td>\n      <td>0.195312</td>\n      <td>7.930537</td>\n    </tr>\n    <tr>\n      <th>4</th>\n      <td>California</td>\n      <td>0.037655</td>\n      <td>0.041000</td>\n      <td>0.030201</td>\n      <td>0.018003</td>\n      <td>0.004141</td>\n      <td>0.097656</td>\n      <td>1.997779</td>\n    </tr>\n  </tbody>\n</table>\n</div>"
     },
     "execution_count": 39,
     "metadata": {},
     "output_type": "execute_result"
    }
   ]
  },
  {
   "cell_type": "code",
   "source": [
    "# Dictionary to map full state names to abbreviations\n",
    "state_abbr = {\n",
    "    'Alabama': 'AL', 'Alaska': 'AK', 'Arizona': 'AZ', 'Arkansas': 'AR', 'California': 'CA', 'Colorado': 'CO',\n",
    "    'Connecticut': 'CT', 'Delaware': 'DE', 'Florida': 'FL', 'Georgia': 'GA', 'Hawaii': 'HI', 'Idaho': 'ID',\n",
    "    'Illinois': 'IL', 'Indiana': 'IN', 'Iowa': 'IA', 'Kansas': 'KS', 'Kentucky': 'KY', 'Louisiana': 'LA',\n",
    "    'Maine': 'ME', 'Maryland': 'MD', 'Massachusetts': 'MA', 'Michigan': 'MI', 'Minnesota': 'MN', 'Mississippi': 'MS',\n",
    "    'Missouri': 'MO', 'Montana': 'MT', 'Nebraska': 'NE', 'Nevada': 'NV', 'New Hampshire': 'NH', 'New Jersey': 'NJ',\n",
    "    'New Mexico': 'NM', 'New York': 'NY', 'North Carolina': 'NC', 'North Dakota': 'ND', 'Ohio': 'OH', 'Oklahoma': 'OK',\n",
    "    'Oregon': 'OR', 'Pennsylvania': 'PA', 'Rhode Island': 'RI', 'South Carolina': 'SC', 'South Dakota': 'SD',\n",
    "    'Tennessee': 'TN', 'Texas': 'TX', 'Utah': 'UT', 'Vermont': 'VT', 'Virginia': 'VA', 'Washington': 'WA',\n",
    "    'West Virginia': 'WV', 'Wisconsin': 'WI', 'Wyoming': 'WY'\n",
    "}\n",
    "\n",
    "# Convert full state names to abbreviations\n",
    "df_weighted['State'] = df_weighted['State'].map(state_abbr)\n",
    "\n",
    "# Create a choropleth map using Plotly Express\n",
    "fig = px.choropleth(df_weighted,\n",
    "                    locations='State',\n",
    "                    locationmode='USA-states',\n",
    "                    color='total_score',\n",
    "                    scope='usa',\n",
    "                    color_continuous_scale='Viridis',\n",
    "                    labels={'total_score': 'Demand Score'},\n",
    "                    title='Demand by State')\n",
    "\n",
    "fig.show()"
   ],
   "metadata": {
    "colab": {
     "base_uri": "https://localhost:8080/",
     "height": 542
    },
    "id": "QQ6IReMjmPMt",
    "outputId": "bdee2de3-86f5-4fc5-862c-3a93ab4d4548",
    "ExecuteTime": {
     "end_time": "2023-10-08T20:38:36.525646Z",
     "start_time": "2023-10-08T20:38:36.390717Z"
    }
   },
   "execution_count": 88,
   "outputs": [
    {
     "data": {
      "application/vnd.plotly.v1+json": {
       "data": [
        {
         "coloraxis": "coloraxis",
         "geo": "geo",
         "hovertemplate": "State=%{location}<br>Demand Score=%{z}<extra></extra>",
         "locationmode": "USA-states",
         "locations": [
          null,
          null,
          null,
          null,
          null,
          null,
          null,
          null,
          null,
          null,
          null,
          null,
          null,
          null,
          null,
          null,
          null,
          null,
          null,
          null,
          null,
          null,
          null,
          null,
          null,
          null,
          null,
          null,
          null,
          null,
          null,
          null,
          null,
          null,
          null,
          null,
          null,
          null,
          null,
          null,
          null,
          null,
          null,
          null,
          null,
          null,
          null,
          null,
          null,
          null,
          null
         ],
         "name": "",
         "z": [
          8.880612912899199,
          2.6893625306396878,
          4.57909806157747,
          7.93053701944161,
          1.997779078647415,
          1.8237167346478877,
          1.1670433518000476,
          4.820278643397055,
          0.1568106411478234,
          4.985175313446798,
          5.533414711628795,
          2.402827307418862,
          2.8571452598175036,
          2.251687174619409,
          5.081815766051057,
          3.084622681328229,
          4.8619915101007045,
          7.297194803049317,
          7.92261097203628,
          3.4368361841110486,
          2.409960742363703,
          0.0,
          4.123672633110786,
          0.7806109900741058,
          10.0,
          5.364945062329609,
          5.161604872231912,
          3.335194452640332,
          3.679619733306822,
          1.7362252221728445,
          0.8338726995325263,
          7.192308369929837,
          0.7308108182723372,
          5.60362156536147,
          4.512375418272471,
          4.469134806298819,
          7.259493353264787,
          3.1537438429490763,
          3.279450563540226,
          1.4228211056679176,
          8.442133554677808,
          3.269860904507726,
          7.790140760277922,
          5.332337618379415,
          0.8000542833797237,
          1.4154793424191918,
          3.7682229423122395,
          1.223364784247882,
          8.489547880099384,
          1.9870627556917675,
          6.120884675989614
         ],
         "type": "choropleth"
        }
       ],
       "layout": {
        "template": {
         "data": {
          "histogram2dcontour": [
           {
            "type": "histogram2dcontour",
            "colorbar": {
             "outlinewidth": 0,
             "ticks": ""
            },
            "colorscale": [
             [
              0.0,
              "#0d0887"
             ],
             [
              0.1111111111111111,
              "#46039f"
             ],
             [
              0.2222222222222222,
              "#7201a8"
             ],
             [
              0.3333333333333333,
              "#9c179e"
             ],
             [
              0.4444444444444444,
              "#bd3786"
             ],
             [
              0.5555555555555556,
              "#d8576b"
             ],
             [
              0.6666666666666666,
              "#ed7953"
             ],
             [
              0.7777777777777778,
              "#fb9f3a"
             ],
             [
              0.8888888888888888,
              "#fdca26"
             ],
             [
              1.0,
              "#f0f921"
             ]
            ]
           }
          ],
          "choropleth": [
           {
            "type": "choropleth",
            "colorbar": {
             "outlinewidth": 0,
             "ticks": ""
            }
           }
          ],
          "histogram2d": [
           {
            "type": "histogram2d",
            "colorbar": {
             "outlinewidth": 0,
             "ticks": ""
            },
            "colorscale": [
             [
              0.0,
              "#0d0887"
             ],
             [
              0.1111111111111111,
              "#46039f"
             ],
             [
              0.2222222222222222,
              "#7201a8"
             ],
             [
              0.3333333333333333,
              "#9c179e"
             ],
             [
              0.4444444444444444,
              "#bd3786"
             ],
             [
              0.5555555555555556,
              "#d8576b"
             ],
             [
              0.6666666666666666,
              "#ed7953"
             ],
             [
              0.7777777777777778,
              "#fb9f3a"
             ],
             [
              0.8888888888888888,
              "#fdca26"
             ],
             [
              1.0,
              "#f0f921"
             ]
            ]
           }
          ],
          "heatmap": [
           {
            "type": "heatmap",
            "colorbar": {
             "outlinewidth": 0,
             "ticks": ""
            },
            "colorscale": [
             [
              0.0,
              "#0d0887"
             ],
             [
              0.1111111111111111,
              "#46039f"
             ],
             [
              0.2222222222222222,
              "#7201a8"
             ],
             [
              0.3333333333333333,
              "#9c179e"
             ],
             [
              0.4444444444444444,
              "#bd3786"
             ],
             [
              0.5555555555555556,
              "#d8576b"
             ],
             [
              0.6666666666666666,
              "#ed7953"
             ],
             [
              0.7777777777777778,
              "#fb9f3a"
             ],
             [
              0.8888888888888888,
              "#fdca26"
             ],
             [
              1.0,
              "#f0f921"
             ]
            ]
           }
          ],
          "heatmapgl": [
           {
            "type": "heatmapgl",
            "colorbar": {
             "outlinewidth": 0,
             "ticks": ""
            },
            "colorscale": [
             [
              0.0,
              "#0d0887"
             ],
             [
              0.1111111111111111,
              "#46039f"
             ],
             [
              0.2222222222222222,
              "#7201a8"
             ],
             [
              0.3333333333333333,
              "#9c179e"
             ],
             [
              0.4444444444444444,
              "#bd3786"
             ],
             [
              0.5555555555555556,
              "#d8576b"
             ],
             [
              0.6666666666666666,
              "#ed7953"
             ],
             [
              0.7777777777777778,
              "#fb9f3a"
             ],
             [
              0.8888888888888888,
              "#fdca26"
             ],
             [
              1.0,
              "#f0f921"
             ]
            ]
           }
          ],
          "contourcarpet": [
           {
            "type": "contourcarpet",
            "colorbar": {
             "outlinewidth": 0,
             "ticks": ""
            }
           }
          ],
          "contour": [
           {
            "type": "contour",
            "colorbar": {
             "outlinewidth": 0,
             "ticks": ""
            },
            "colorscale": [
             [
              0.0,
              "#0d0887"
             ],
             [
              0.1111111111111111,
              "#46039f"
             ],
             [
              0.2222222222222222,
              "#7201a8"
             ],
             [
              0.3333333333333333,
              "#9c179e"
             ],
             [
              0.4444444444444444,
              "#bd3786"
             ],
             [
              0.5555555555555556,
              "#d8576b"
             ],
             [
              0.6666666666666666,
              "#ed7953"
             ],
             [
              0.7777777777777778,
              "#fb9f3a"
             ],
             [
              0.8888888888888888,
              "#fdca26"
             ],
             [
              1.0,
              "#f0f921"
             ]
            ]
           }
          ],
          "surface": [
           {
            "type": "surface",
            "colorbar": {
             "outlinewidth": 0,
             "ticks": ""
            },
            "colorscale": [
             [
              0.0,
              "#0d0887"
             ],
             [
              0.1111111111111111,
              "#46039f"
             ],
             [
              0.2222222222222222,
              "#7201a8"
             ],
             [
              0.3333333333333333,
              "#9c179e"
             ],
             [
              0.4444444444444444,
              "#bd3786"
             ],
             [
              0.5555555555555556,
              "#d8576b"
             ],
             [
              0.6666666666666666,
              "#ed7953"
             ],
             [
              0.7777777777777778,
              "#fb9f3a"
             ],
             [
              0.8888888888888888,
              "#fdca26"
             ],
             [
              1.0,
              "#f0f921"
             ]
            ]
           }
          ],
          "mesh3d": [
           {
            "type": "mesh3d",
            "colorbar": {
             "outlinewidth": 0,
             "ticks": ""
            }
           }
          ],
          "scatter": [
           {
            "marker": {
             "line": {
              "color": "#283442"
             }
            },
            "type": "scatter"
           }
          ],
          "parcoords": [
           {
            "type": "parcoords",
            "line": {
             "colorbar": {
              "outlinewidth": 0,
              "ticks": ""
             }
            }
           }
          ],
          "scatterpolargl": [
           {
            "type": "scatterpolargl",
            "marker": {
             "colorbar": {
              "outlinewidth": 0,
              "ticks": ""
             }
            }
           }
          ],
          "bar": [
           {
            "error_x": {
             "color": "#f2f5fa"
            },
            "error_y": {
             "color": "#f2f5fa"
            },
            "marker": {
             "line": {
              "color": "rgb(17,17,17)",
              "width": 0.5
             },
             "pattern": {
              "fillmode": "overlay",
              "size": 10,
              "solidity": 0.2
             }
            },
            "type": "bar"
           }
          ],
          "scattergeo": [
           {
            "type": "scattergeo",
            "marker": {
             "colorbar": {
              "outlinewidth": 0,
              "ticks": ""
             }
            }
           }
          ],
          "scatterpolar": [
           {
            "type": "scatterpolar",
            "marker": {
             "colorbar": {
              "outlinewidth": 0,
              "ticks": ""
             }
            }
           }
          ],
          "histogram": [
           {
            "marker": {
             "pattern": {
              "fillmode": "overlay",
              "size": 10,
              "solidity": 0.2
             }
            },
            "type": "histogram"
           }
          ],
          "scattergl": [
           {
            "marker": {
             "line": {
              "color": "#283442"
             }
            },
            "type": "scattergl"
           }
          ],
          "scatter3d": [
           {
            "type": "scatter3d",
            "line": {
             "colorbar": {
              "outlinewidth": 0,
              "ticks": ""
             }
            },
            "marker": {
             "colorbar": {
              "outlinewidth": 0,
              "ticks": ""
             }
            }
           }
          ],
          "scattermapbox": [
           {
            "type": "scattermapbox",
            "marker": {
             "colorbar": {
              "outlinewidth": 0,
              "ticks": ""
             }
            }
           }
          ],
          "scatterternary": [
           {
            "type": "scatterternary",
            "marker": {
             "colorbar": {
              "outlinewidth": 0,
              "ticks": ""
             }
            }
           }
          ],
          "scattercarpet": [
           {
            "type": "scattercarpet",
            "marker": {
             "colorbar": {
              "outlinewidth": 0,
              "ticks": ""
             }
            }
           }
          ],
          "carpet": [
           {
            "aaxis": {
             "endlinecolor": "#A2B1C6",
             "gridcolor": "#506784",
             "linecolor": "#506784",
             "minorgridcolor": "#506784",
             "startlinecolor": "#A2B1C6"
            },
            "baxis": {
             "endlinecolor": "#A2B1C6",
             "gridcolor": "#506784",
             "linecolor": "#506784",
             "minorgridcolor": "#506784",
             "startlinecolor": "#A2B1C6"
            },
            "type": "carpet"
           }
          ],
          "table": [
           {
            "cells": {
             "fill": {
              "color": "#506784"
             },
             "line": {
              "color": "rgb(17,17,17)"
             }
            },
            "header": {
             "fill": {
              "color": "#2a3f5f"
             },
             "line": {
              "color": "rgb(17,17,17)"
             }
            },
            "type": "table"
           }
          ],
          "barpolar": [
           {
            "marker": {
             "line": {
              "color": "rgb(17,17,17)",
              "width": 0.5
             },
             "pattern": {
              "fillmode": "overlay",
              "size": 10,
              "solidity": 0.2
             }
            },
            "type": "barpolar"
           }
          ],
          "pie": [
           {
            "automargin": true,
            "type": "pie"
           }
          ]
         },
         "layout": {
          "autotypenumbers": "strict",
          "colorway": [
           "#636efa",
           "#EF553B",
           "#00cc96",
           "#ab63fa",
           "#FFA15A",
           "#19d3f3",
           "#FF6692",
           "#B6E880",
           "#FF97FF",
           "#FECB52"
          ],
          "font": {
           "color": "#f2f5fa"
          },
          "hovermode": "closest",
          "hoverlabel": {
           "align": "left"
          },
          "paper_bgcolor": "rgb(17,17,17)",
          "plot_bgcolor": "rgb(17,17,17)",
          "polar": {
           "bgcolor": "rgb(17,17,17)",
           "angularaxis": {
            "gridcolor": "#506784",
            "linecolor": "#506784",
            "ticks": ""
           },
           "radialaxis": {
            "gridcolor": "#506784",
            "linecolor": "#506784",
            "ticks": ""
           }
          },
          "ternary": {
           "bgcolor": "rgb(17,17,17)",
           "aaxis": {
            "gridcolor": "#506784",
            "linecolor": "#506784",
            "ticks": ""
           },
           "baxis": {
            "gridcolor": "#506784",
            "linecolor": "#506784",
            "ticks": ""
           },
           "caxis": {
            "gridcolor": "#506784",
            "linecolor": "#506784",
            "ticks": ""
           }
          },
          "coloraxis": {
           "colorbar": {
            "outlinewidth": 0,
            "ticks": ""
           }
          },
          "colorscale": {
           "sequential": [
            [
             0.0,
             "#0d0887"
            ],
            [
             0.1111111111111111,
             "#46039f"
            ],
            [
             0.2222222222222222,
             "#7201a8"
            ],
            [
             0.3333333333333333,
             "#9c179e"
            ],
            [
             0.4444444444444444,
             "#bd3786"
            ],
            [
             0.5555555555555556,
             "#d8576b"
            ],
            [
             0.6666666666666666,
             "#ed7953"
            ],
            [
             0.7777777777777778,
             "#fb9f3a"
            ],
            [
             0.8888888888888888,
             "#fdca26"
            ],
            [
             1.0,
             "#f0f921"
            ]
           ],
           "sequentialminus": [
            [
             0.0,
             "#0d0887"
            ],
            [
             0.1111111111111111,
             "#46039f"
            ],
            [
             0.2222222222222222,
             "#7201a8"
            ],
            [
             0.3333333333333333,
             "#9c179e"
            ],
            [
             0.4444444444444444,
             "#bd3786"
            ],
            [
             0.5555555555555556,
             "#d8576b"
            ],
            [
             0.6666666666666666,
             "#ed7953"
            ],
            [
             0.7777777777777778,
             "#fb9f3a"
            ],
            [
             0.8888888888888888,
             "#fdca26"
            ],
            [
             1.0,
             "#f0f921"
            ]
           ],
           "diverging": [
            [
             0,
             "#8e0152"
            ],
            [
             0.1,
             "#c51b7d"
            ],
            [
             0.2,
             "#de77ae"
            ],
            [
             0.3,
             "#f1b6da"
            ],
            [
             0.4,
             "#fde0ef"
            ],
            [
             0.5,
             "#f7f7f7"
            ],
            [
             0.6,
             "#e6f5d0"
            ],
            [
             0.7,
             "#b8e186"
            ],
            [
             0.8,
             "#7fbc41"
            ],
            [
             0.9,
             "#4d9221"
            ],
            [
             1,
             "#276419"
            ]
           ]
          },
          "xaxis": {
           "gridcolor": "#283442",
           "linecolor": "#506784",
           "ticks": "",
           "title": {
            "standoff": 15
           },
           "zerolinecolor": "#283442",
           "automargin": true,
           "zerolinewidth": 2
          },
          "yaxis": {
           "gridcolor": "#283442",
           "linecolor": "#506784",
           "ticks": "",
           "title": {
            "standoff": 15
           },
           "zerolinecolor": "#283442",
           "automargin": true,
           "zerolinewidth": 2
          },
          "scene": {
           "xaxis": {
            "backgroundcolor": "rgb(17,17,17)",
            "gridcolor": "#506784",
            "linecolor": "#506784",
            "showbackground": true,
            "ticks": "",
            "zerolinecolor": "#C8D4E3",
            "gridwidth": 2
           },
           "yaxis": {
            "backgroundcolor": "rgb(17,17,17)",
            "gridcolor": "#506784",
            "linecolor": "#506784",
            "showbackground": true,
            "ticks": "",
            "zerolinecolor": "#C8D4E3",
            "gridwidth": 2
           },
           "zaxis": {
            "backgroundcolor": "rgb(17,17,17)",
            "gridcolor": "#506784",
            "linecolor": "#506784",
            "showbackground": true,
            "ticks": "",
            "zerolinecolor": "#C8D4E3",
            "gridwidth": 2
           }
          },
          "shapedefaults": {
           "line": {
            "color": "#f2f5fa"
           }
          },
          "annotationdefaults": {
           "arrowcolor": "#f2f5fa",
           "arrowhead": 0,
           "arrowwidth": 1
          },
          "geo": {
           "bgcolor": "rgb(17,17,17)",
           "landcolor": "rgb(17,17,17)",
           "subunitcolor": "#506784",
           "showland": true,
           "showlakes": true,
           "lakecolor": "rgb(17,17,17)"
          },
          "title": {
           "x": 0.05
          },
          "updatemenudefaults": {
           "bgcolor": "#506784",
           "borderwidth": 0
          },
          "sliderdefaults": {
           "bgcolor": "#C8D4E3",
           "borderwidth": 1,
           "bordercolor": "rgb(17,17,17)",
           "tickwidth": 0
          },
          "mapbox": {
           "style": "dark"
          }
         }
        },
        "geo": {
         "domain": {
          "x": [
           0.0,
           1.0
          ],
          "y": [
           0.0,
           1.0
          ]
         },
         "center": {},
         "scope": "usa"
        },
        "coloraxis": {
         "colorbar": {
          "title": {
           "text": "Demand Score"
          }
         },
         "colorscale": [
          [
           0.0,
           "#440154"
          ],
          [
           0.1111111111111111,
           "#482878"
          ],
          [
           0.2222222222222222,
           "#3e4989"
          ],
          [
           0.3333333333333333,
           "#31688e"
          ],
          [
           0.4444444444444444,
           "#26828e"
          ],
          [
           0.5555555555555556,
           "#1f9e89"
          ],
          [
           0.6666666666666666,
           "#35b779"
          ],
          [
           0.7777777777777778,
           "#6ece58"
          ],
          [
           0.8888888888888888,
           "#b5de2b"
          ],
          [
           1.0,
           "#fde725"
          ]
         ]
        },
        "legend": {
         "tracegroupgap": 0
        },
        "title": {
         "text": "Demand by State"
        }
       },
       "config": {
        "plotlyServerURL": "https://plot.ly"
       }
      },
      "text/html": "<div>                            <div id=\"f343ff6e-05b3-42b2-9407-c4ccd3b99821\" class=\"plotly-graph-div\" style=\"height:525px; width:100%;\"></div>            <script type=\"text/javascript\">                require([\"plotly\"], function(Plotly) {                    window.PLOTLYENV=window.PLOTLYENV || {};                                    if (document.getElementById(\"f343ff6e-05b3-42b2-9407-c4ccd3b99821\")) {                    Plotly.newPlot(                        \"f343ff6e-05b3-42b2-9407-c4ccd3b99821\",                        [{\"coloraxis\":\"coloraxis\",\"geo\":\"geo\",\"hovertemplate\":\"State=%{location}\\u003cbr\\u003eDemand Score=%{z}\\u003cextra\\u003e\\u003c\\u002fextra\\u003e\",\"locationmode\":\"USA-states\",\"locations\":[null,null,null,null,null,null,null,null,null,null,null,null,null,null,null,null,null,null,null,null,null,null,null,null,null,null,null,null,null,null,null,null,null,null,null,null,null,null,null,null,null,null,null,null,null,null,null,null,null,null,null],\"name\":\"\",\"z\":[8.880612912899199,2.6893625306396878,4.57909806157747,7.93053701944161,1.997779078647415,1.8237167346478877,1.1670433518000476,4.820278643397055,0.1568106411478234,4.985175313446798,5.533414711628795,2.402827307418862,2.8571452598175036,2.251687174619409,5.081815766051057,3.084622681328229,4.8619915101007045,7.297194803049317,7.92261097203628,3.4368361841110486,2.409960742363703,0.0,4.123672633110786,0.7806109900741058,10.0,5.364945062329609,5.161604872231912,3.335194452640332,3.679619733306822,1.7362252221728445,0.8338726995325263,7.192308369929837,0.7308108182723372,5.60362156536147,4.512375418272471,4.469134806298819,7.259493353264787,3.1537438429490763,3.279450563540226,1.4228211056679176,8.442133554677808,3.269860904507726,7.790140760277922,5.332337618379415,0.8000542833797237,1.4154793424191918,3.7682229423122395,1.223364784247882,8.489547880099384,1.9870627556917675,6.120884675989614],\"type\":\"choropleth\"}],                        {\"template\":{\"data\":{\"histogram2dcontour\":[{\"type\":\"histogram2dcontour\",\"colorbar\":{\"outlinewidth\":0,\"ticks\":\"\"},\"colorscale\":[[0.0,\"#0d0887\"],[0.1111111111111111,\"#46039f\"],[0.2222222222222222,\"#7201a8\"],[0.3333333333333333,\"#9c179e\"],[0.4444444444444444,\"#bd3786\"],[0.5555555555555556,\"#d8576b\"],[0.6666666666666666,\"#ed7953\"],[0.7777777777777778,\"#fb9f3a\"],[0.8888888888888888,\"#fdca26\"],[1.0,\"#f0f921\"]]}],\"choropleth\":[{\"type\":\"choropleth\",\"colorbar\":{\"outlinewidth\":0,\"ticks\":\"\"}}],\"histogram2d\":[{\"type\":\"histogram2d\",\"colorbar\":{\"outlinewidth\":0,\"ticks\":\"\"},\"colorscale\":[[0.0,\"#0d0887\"],[0.1111111111111111,\"#46039f\"],[0.2222222222222222,\"#7201a8\"],[0.3333333333333333,\"#9c179e\"],[0.4444444444444444,\"#bd3786\"],[0.5555555555555556,\"#d8576b\"],[0.6666666666666666,\"#ed7953\"],[0.7777777777777778,\"#fb9f3a\"],[0.8888888888888888,\"#fdca26\"],[1.0,\"#f0f921\"]]}],\"heatmap\":[{\"type\":\"heatmap\",\"colorbar\":{\"outlinewidth\":0,\"ticks\":\"\"},\"colorscale\":[[0.0,\"#0d0887\"],[0.1111111111111111,\"#46039f\"],[0.2222222222222222,\"#7201a8\"],[0.3333333333333333,\"#9c179e\"],[0.4444444444444444,\"#bd3786\"],[0.5555555555555556,\"#d8576b\"],[0.6666666666666666,\"#ed7953\"],[0.7777777777777778,\"#fb9f3a\"],[0.8888888888888888,\"#fdca26\"],[1.0,\"#f0f921\"]]}],\"heatmapgl\":[{\"type\":\"heatmapgl\",\"colorbar\":{\"outlinewidth\":0,\"ticks\":\"\"},\"colorscale\":[[0.0,\"#0d0887\"],[0.1111111111111111,\"#46039f\"],[0.2222222222222222,\"#7201a8\"],[0.3333333333333333,\"#9c179e\"],[0.4444444444444444,\"#bd3786\"],[0.5555555555555556,\"#d8576b\"],[0.6666666666666666,\"#ed7953\"],[0.7777777777777778,\"#fb9f3a\"],[0.8888888888888888,\"#fdca26\"],[1.0,\"#f0f921\"]]}],\"contourcarpet\":[{\"type\":\"contourcarpet\",\"colorbar\":{\"outlinewidth\":0,\"ticks\":\"\"}}],\"contour\":[{\"type\":\"contour\",\"colorbar\":{\"outlinewidth\":0,\"ticks\":\"\"},\"colorscale\":[[0.0,\"#0d0887\"],[0.1111111111111111,\"#46039f\"],[0.2222222222222222,\"#7201a8\"],[0.3333333333333333,\"#9c179e\"],[0.4444444444444444,\"#bd3786\"],[0.5555555555555556,\"#d8576b\"],[0.6666666666666666,\"#ed7953\"],[0.7777777777777778,\"#fb9f3a\"],[0.8888888888888888,\"#fdca26\"],[1.0,\"#f0f921\"]]}],\"surface\":[{\"type\":\"surface\",\"colorbar\":{\"outlinewidth\":0,\"ticks\":\"\"},\"colorscale\":[[0.0,\"#0d0887\"],[0.1111111111111111,\"#46039f\"],[0.2222222222222222,\"#7201a8\"],[0.3333333333333333,\"#9c179e\"],[0.4444444444444444,\"#bd3786\"],[0.5555555555555556,\"#d8576b\"],[0.6666666666666666,\"#ed7953\"],[0.7777777777777778,\"#fb9f3a\"],[0.8888888888888888,\"#fdca26\"],[1.0,\"#f0f921\"]]}],\"mesh3d\":[{\"type\":\"mesh3d\",\"colorbar\":{\"outlinewidth\":0,\"ticks\":\"\"}}],\"scatter\":[{\"marker\":{\"line\":{\"color\":\"#283442\"}},\"type\":\"scatter\"}],\"parcoords\":[{\"type\":\"parcoords\",\"line\":{\"colorbar\":{\"outlinewidth\":0,\"ticks\":\"\"}}}],\"scatterpolargl\":[{\"type\":\"scatterpolargl\",\"marker\":{\"colorbar\":{\"outlinewidth\":0,\"ticks\":\"\"}}}],\"bar\":[{\"error_x\":{\"color\":\"#f2f5fa\"},\"error_y\":{\"color\":\"#f2f5fa\"},\"marker\":{\"line\":{\"color\":\"rgb(17,17,17)\",\"width\":0.5},\"pattern\":{\"fillmode\":\"overlay\",\"size\":10,\"solidity\":0.2}},\"type\":\"bar\"}],\"scattergeo\":[{\"type\":\"scattergeo\",\"marker\":{\"colorbar\":{\"outlinewidth\":0,\"ticks\":\"\"}}}],\"scatterpolar\":[{\"type\":\"scatterpolar\",\"marker\":{\"colorbar\":{\"outlinewidth\":0,\"ticks\":\"\"}}}],\"histogram\":[{\"marker\":{\"pattern\":{\"fillmode\":\"overlay\",\"size\":10,\"solidity\":0.2}},\"type\":\"histogram\"}],\"scattergl\":[{\"marker\":{\"line\":{\"color\":\"#283442\"}},\"type\":\"scattergl\"}],\"scatter3d\":[{\"type\":\"scatter3d\",\"line\":{\"colorbar\":{\"outlinewidth\":0,\"ticks\":\"\"}},\"marker\":{\"colorbar\":{\"outlinewidth\":0,\"ticks\":\"\"}}}],\"scattermapbox\":[{\"type\":\"scattermapbox\",\"marker\":{\"colorbar\":{\"outlinewidth\":0,\"ticks\":\"\"}}}],\"scatterternary\":[{\"type\":\"scatterternary\",\"marker\":{\"colorbar\":{\"outlinewidth\":0,\"ticks\":\"\"}}}],\"scattercarpet\":[{\"type\":\"scattercarpet\",\"marker\":{\"colorbar\":{\"outlinewidth\":0,\"ticks\":\"\"}}}],\"carpet\":[{\"aaxis\":{\"endlinecolor\":\"#A2B1C6\",\"gridcolor\":\"#506784\",\"linecolor\":\"#506784\",\"minorgridcolor\":\"#506784\",\"startlinecolor\":\"#A2B1C6\"},\"baxis\":{\"endlinecolor\":\"#A2B1C6\",\"gridcolor\":\"#506784\",\"linecolor\":\"#506784\",\"minorgridcolor\":\"#506784\",\"startlinecolor\":\"#A2B1C6\"},\"type\":\"carpet\"}],\"table\":[{\"cells\":{\"fill\":{\"color\":\"#506784\"},\"line\":{\"color\":\"rgb(17,17,17)\"}},\"header\":{\"fill\":{\"color\":\"#2a3f5f\"},\"line\":{\"color\":\"rgb(17,17,17)\"}},\"type\":\"table\"}],\"barpolar\":[{\"marker\":{\"line\":{\"color\":\"rgb(17,17,17)\",\"width\":0.5},\"pattern\":{\"fillmode\":\"overlay\",\"size\":10,\"solidity\":0.2}},\"type\":\"barpolar\"}],\"pie\":[{\"automargin\":true,\"type\":\"pie\"}]},\"layout\":{\"autotypenumbers\":\"strict\",\"colorway\":[\"#636efa\",\"#EF553B\",\"#00cc96\",\"#ab63fa\",\"#FFA15A\",\"#19d3f3\",\"#FF6692\",\"#B6E880\",\"#FF97FF\",\"#FECB52\"],\"font\":{\"color\":\"#f2f5fa\"},\"hovermode\":\"closest\",\"hoverlabel\":{\"align\":\"left\"},\"paper_bgcolor\":\"rgb(17,17,17)\",\"plot_bgcolor\":\"rgb(17,17,17)\",\"polar\":{\"bgcolor\":\"rgb(17,17,17)\",\"angularaxis\":{\"gridcolor\":\"#506784\",\"linecolor\":\"#506784\",\"ticks\":\"\"},\"radialaxis\":{\"gridcolor\":\"#506784\",\"linecolor\":\"#506784\",\"ticks\":\"\"}},\"ternary\":{\"bgcolor\":\"rgb(17,17,17)\",\"aaxis\":{\"gridcolor\":\"#506784\",\"linecolor\":\"#506784\",\"ticks\":\"\"},\"baxis\":{\"gridcolor\":\"#506784\",\"linecolor\":\"#506784\",\"ticks\":\"\"},\"caxis\":{\"gridcolor\":\"#506784\",\"linecolor\":\"#506784\",\"ticks\":\"\"}},\"coloraxis\":{\"colorbar\":{\"outlinewidth\":0,\"ticks\":\"\"}},\"colorscale\":{\"sequential\":[[0.0,\"#0d0887\"],[0.1111111111111111,\"#46039f\"],[0.2222222222222222,\"#7201a8\"],[0.3333333333333333,\"#9c179e\"],[0.4444444444444444,\"#bd3786\"],[0.5555555555555556,\"#d8576b\"],[0.6666666666666666,\"#ed7953\"],[0.7777777777777778,\"#fb9f3a\"],[0.8888888888888888,\"#fdca26\"],[1.0,\"#f0f921\"]],\"sequentialminus\":[[0.0,\"#0d0887\"],[0.1111111111111111,\"#46039f\"],[0.2222222222222222,\"#7201a8\"],[0.3333333333333333,\"#9c179e\"],[0.4444444444444444,\"#bd3786\"],[0.5555555555555556,\"#d8576b\"],[0.6666666666666666,\"#ed7953\"],[0.7777777777777778,\"#fb9f3a\"],[0.8888888888888888,\"#fdca26\"],[1.0,\"#f0f921\"]],\"diverging\":[[0,\"#8e0152\"],[0.1,\"#c51b7d\"],[0.2,\"#de77ae\"],[0.3,\"#f1b6da\"],[0.4,\"#fde0ef\"],[0.5,\"#f7f7f7\"],[0.6,\"#e6f5d0\"],[0.7,\"#b8e186\"],[0.8,\"#7fbc41\"],[0.9,\"#4d9221\"],[1,\"#276419\"]]},\"xaxis\":{\"gridcolor\":\"#283442\",\"linecolor\":\"#506784\",\"ticks\":\"\",\"title\":{\"standoff\":15},\"zerolinecolor\":\"#283442\",\"automargin\":true,\"zerolinewidth\":2},\"yaxis\":{\"gridcolor\":\"#283442\",\"linecolor\":\"#506784\",\"ticks\":\"\",\"title\":{\"standoff\":15},\"zerolinecolor\":\"#283442\",\"automargin\":true,\"zerolinewidth\":2},\"scene\":{\"xaxis\":{\"backgroundcolor\":\"rgb(17,17,17)\",\"gridcolor\":\"#506784\",\"linecolor\":\"#506784\",\"showbackground\":true,\"ticks\":\"\",\"zerolinecolor\":\"#C8D4E3\",\"gridwidth\":2},\"yaxis\":{\"backgroundcolor\":\"rgb(17,17,17)\",\"gridcolor\":\"#506784\",\"linecolor\":\"#506784\",\"showbackground\":true,\"ticks\":\"\",\"zerolinecolor\":\"#C8D4E3\",\"gridwidth\":2},\"zaxis\":{\"backgroundcolor\":\"rgb(17,17,17)\",\"gridcolor\":\"#506784\",\"linecolor\":\"#506784\",\"showbackground\":true,\"ticks\":\"\",\"zerolinecolor\":\"#C8D4E3\",\"gridwidth\":2}},\"shapedefaults\":{\"line\":{\"color\":\"#f2f5fa\"}},\"annotationdefaults\":{\"arrowcolor\":\"#f2f5fa\",\"arrowhead\":0,\"arrowwidth\":1},\"geo\":{\"bgcolor\":\"rgb(17,17,17)\",\"landcolor\":\"rgb(17,17,17)\",\"subunitcolor\":\"#506784\",\"showland\":true,\"showlakes\":true,\"lakecolor\":\"rgb(17,17,17)\"},\"title\":{\"x\":0.05},\"updatemenudefaults\":{\"bgcolor\":\"#506784\",\"borderwidth\":0},\"sliderdefaults\":{\"bgcolor\":\"#C8D4E3\",\"borderwidth\":1,\"bordercolor\":\"rgb(17,17,17)\",\"tickwidth\":0},\"mapbox\":{\"style\":\"dark\"}}},\"geo\":{\"domain\":{\"x\":[0.0,1.0],\"y\":[0.0,1.0]},\"center\":{},\"scope\":\"usa\"},\"coloraxis\":{\"colorbar\":{\"title\":{\"text\":\"Demand Score\"}},\"colorscale\":[[0.0,\"#440154\"],[0.1111111111111111,\"#482878\"],[0.2222222222222222,\"#3e4989\"],[0.3333333333333333,\"#31688e\"],[0.4444444444444444,\"#26828e\"],[0.5555555555555556,\"#1f9e89\"],[0.6666666666666666,\"#35b779\"],[0.7777777777777778,\"#6ece58\"],[0.8888888888888888,\"#b5de2b\"],[1.0,\"#fde725\"]]},\"legend\":{\"tracegroupgap\":0},\"title\":{\"text\":\"Demand by State\"}},                        {\"responsive\": true}                    ).then(function(){\n                            \nvar gd = document.getElementById('f343ff6e-05b3-42b2-9407-c4ccd3b99821');\nvar x = new MutationObserver(function (mutations, observer) {{\n        var display = window.getComputedStyle(gd).display;\n        if (!display || display === 'none') {{\n            console.log([gd, 'removed!']);\n            Plotly.purge(gd);\n            observer.disconnect();\n        }}\n}});\n\n// Listen for the removal of the full notebook cells\nvar notebookContainer = gd.closest('#notebook-container');\nif (notebookContainer) {{\n    x.observe(notebookContainer, {childList: true});\n}}\n\n// Listen for the clearing of the current output cell\nvar outputEl = gd.closest('.output');\nif (outputEl) {{\n    x.observe(outputEl, {childList: true});\n}}\n\n                        })                };                });            </script>        </div>"
     },
     "metadata": {},
     "output_type": "display_data"
    }
   ]
  },
  {
   "cell_type": "code",
   "source": [
    "#Demand Score 2 using cancer instead of diabetes, gonna replace diabetes with cancer\n",
    "df_scaled2.head()"
   ],
   "metadata": {
    "colab": {
     "base_uri": "https://localhost:8080/",
     "height": 270
    },
    "id": "KhMjtPzg4Zh-",
    "outputId": "537c078a-c56d-4af2-cfdb-367d491a9217",
    "ExecuteTime": {
     "end_time": "2023-10-08T20:38:38.695987Z",
     "start_time": "2023-10-08T20:38:38.647329Z"
    }
   },
   "execution_count": 89,
   "outputs": [
    {
     "data": {
      "text/plain": "        State  Accidents_2018_proportion  Accidents_2019_proportion  \\\n0     Alabama                   0.863079                   0.814042   \n1      Alaska                   0.328448                   0.304140   \n2     Arizona                   0.530033                   0.531169   \n3    Arkansas                   0.730409                   0.712753   \n4  California                   0.289650                   0.315382   \n\n   Accidents_2020_proportion  Current_smokers_proportion  \\\n0                   0.688806                    0.651212   \n1                   0.136355                    0.630217   \n2                   0.465724                    0.341175   \n3                   0.798325                    0.703046   \n4                   0.232317                    0.150024   \n\n   number_of_veterans_proportion  Proportion_diabetic  \n0                       0.591514             0.968750  \n1                       1.000000             0.109375  \n2                       0.532692             0.468750  \n3                       0.534460             0.781250  \n4                       0.059159             0.390625  ",
      "text/html": "<div>\n<style scoped>\n    .dataframe tbody tr th:only-of-type {\n        vertical-align: middle;\n    }\n\n    .dataframe tbody tr th {\n        vertical-align: top;\n    }\n\n    .dataframe thead th {\n        text-align: right;\n    }\n</style>\n<table border=\"1\" class=\"dataframe\">\n  <thead>\n    <tr style=\"text-align: right;\">\n      <th></th>\n      <th>State</th>\n      <th>Accidents_2018_proportion</th>\n      <th>Accidents_2019_proportion</th>\n      <th>Accidents_2020_proportion</th>\n      <th>Current_smokers_proportion</th>\n      <th>number_of_veterans_proportion</th>\n      <th>Proportion_diabetic</th>\n    </tr>\n  </thead>\n  <tbody>\n    <tr>\n      <th>0</th>\n      <td>Alabama</td>\n      <td>0.863079</td>\n      <td>0.814042</td>\n      <td>0.688806</td>\n      <td>0.651212</td>\n      <td>0.591514</td>\n      <td>0.968750</td>\n    </tr>\n    <tr>\n      <th>1</th>\n      <td>Alaska</td>\n      <td>0.328448</td>\n      <td>0.304140</td>\n      <td>0.136355</td>\n      <td>0.630217</td>\n      <td>1.000000</td>\n      <td>0.109375</td>\n    </tr>\n    <tr>\n      <th>2</th>\n      <td>Arizona</td>\n      <td>0.530033</td>\n      <td>0.531169</td>\n      <td>0.465724</td>\n      <td>0.341175</td>\n      <td>0.532692</td>\n      <td>0.468750</td>\n    </tr>\n    <tr>\n      <th>3</th>\n      <td>Arkansas</td>\n      <td>0.730409</td>\n      <td>0.712753</td>\n      <td>0.798325</td>\n      <td>0.703046</td>\n      <td>0.534460</td>\n      <td>0.781250</td>\n    </tr>\n    <tr>\n      <th>4</th>\n      <td>California</td>\n      <td>0.289650</td>\n      <td>0.315382</td>\n      <td>0.232317</td>\n      <td>0.150024</td>\n      <td>0.059159</td>\n      <td>0.390625</td>\n    </tr>\n  </tbody>\n</table>\n</div>"
     },
     "execution_count": 89,
     "metadata": {},
     "output_type": "execute_result"
    }
   ]
  },
  {
   "cell_type": "code",
   "source": [
    "#read the cancer rate file and then convert state abbreviations into state names to merge into file\n",
    "\n",
    "# Function to convert state abbreviation to full name\n",
    "def convert_state_abbreviation_to_full_name(abbreviation):\n",
    "    state_dict = {\n",
    "        'AL': 'Alabama', 'AK': 'Alaska', 'AZ': 'Arizona', 'AR': 'Arkansas', 'CA': 'California',\n",
    "        'CO': 'Colorado', 'CT': 'Connecticut', 'DE': 'Delaware', 'FL': 'Florida', 'GA': 'Georgia',\n",
    "        'HI': 'Hawaii', 'ID': 'Idaho', 'IL': 'Illinois', 'IN': 'Indiana', 'IA': 'Iowa',\n",
    "        'KS': 'Kansas', 'KY': 'Kentucky', 'LA': 'Louisiana', 'ME': 'Maine', 'MD': 'Maryland',\n",
    "        'MA': 'Massachusetts', 'MI': 'Michigan', 'MN': 'Minnesota', 'MS': 'Mississippi',\n",
    "        'MO': 'Missouri', 'MT': 'Montana', 'NE': 'Nebraska', 'NV': 'Nevada', 'NH': 'New Hampshire',\n",
    "        'NJ': 'New Jersey', 'NM': 'New Mexico', 'NY': 'New York', 'NC': 'North Carolina',\n",
    "        'ND': 'North Dakota', 'OH': 'Ohio', 'OK': 'Oklahoma', 'OR': 'Oregon', 'PA': 'Pennsylvania',\n",
    "        'RI': 'Rhode Island', 'SC': 'South Carolina', 'SD': 'South Dakota', 'TN': 'Tennessee',\n",
    "        'TX': 'Texas', 'UT': 'Utah', 'VT': 'Vermont', 'VA': 'Virginia', 'WA': 'Washington',\n",
    "        'WV': 'West Virginia', 'WI': 'Wisconsin', 'WY': 'Wyoming'\n",
    "    }\n",
    "\n",
    "    return state_dict.get(abbreviation, abbreviation)\n",
    "\n",
    "# Read the CSV file\n",
    "data = pd.read_csv(\"data-table.csv\")\n",
    "\n",
    "cancer_data = data\n",
    "\n",
    "# Convert state abbreviations to full names\n",
    "data[\"STATE\"] = data[\"STATE\"].apply(convert_state_abbreviation_to_full_name)\n",
    "\n",
    "data_filtered = data[data[\"YEAR\"] == 2021]\n",
    "\n",
    "data_filtered = data_filtered.drop(columns=['YEAR'])\n",
    "\n",
    "data_filtered.head()"
   ],
   "metadata": {
    "id": "5M6QjMSg5VtE",
    "colab": {
     "base_uri": "https://localhost:8080/",
     "height": 206
    },
    "outputId": "6189c1f0-fa03-41d5-84b6-6a17e661da52",
    "ExecuteTime": {
     "end_time": "2023-10-08T20:38:39.480744Z",
     "start_time": "2023-10-08T20:38:39.380999Z"
    }
   },
   "execution_count": 90,
   "outputs": [
    {
     "data": {
      "text/plain": "        STATE   RATE DEATHS                                       URL\n0     Alabama  160.2  10429     /nchs/pressroom/states/alabama/al.htm\n1      Alaska  156.0   1093      /nchs/pressroom/states/alaska/ak.htm\n2     Arizona  134.7  12813     /nchs/pressroom/states/arizona/az.htm\n3    Arkansas  168.2   6516    /nchs/pressroom/states/arkansas/ar.htm\n4  California  132.4  59503  /nchs/pressroom/states/california/ca.htm",
      "text/html": "<div>\n<style scoped>\n    .dataframe tbody tr th:only-of-type {\n        vertical-align: middle;\n    }\n\n    .dataframe tbody tr th {\n        vertical-align: top;\n    }\n\n    .dataframe thead th {\n        text-align: right;\n    }\n</style>\n<table border=\"1\" class=\"dataframe\">\n  <thead>\n    <tr style=\"text-align: right;\">\n      <th></th>\n      <th>STATE</th>\n      <th>RATE</th>\n      <th>DEATHS</th>\n      <th>URL</th>\n    </tr>\n  </thead>\n  <tbody>\n    <tr>\n      <th>0</th>\n      <td>Alabama</td>\n      <td>160.2</td>\n      <td>10429</td>\n      <td>/nchs/pressroom/states/alabama/al.htm</td>\n    </tr>\n    <tr>\n      <th>1</th>\n      <td>Alaska</td>\n      <td>156.0</td>\n      <td>1093</td>\n      <td>/nchs/pressroom/states/alaska/ak.htm</td>\n    </tr>\n    <tr>\n      <th>2</th>\n      <td>Arizona</td>\n      <td>134.7</td>\n      <td>12813</td>\n      <td>/nchs/pressroom/states/arizona/az.htm</td>\n    </tr>\n    <tr>\n      <th>3</th>\n      <td>Arkansas</td>\n      <td>168.2</td>\n      <td>6516</td>\n      <td>/nchs/pressroom/states/arkansas/ar.htm</td>\n    </tr>\n    <tr>\n      <th>4</th>\n      <td>California</td>\n      <td>132.4</td>\n      <td>59503</td>\n      <td>/nchs/pressroom/states/california/ca.htm</td>\n    </tr>\n  </tbody>\n</table>\n</div>"
     },
     "execution_count": 90,
     "metadata": {},
     "output_type": "execute_result"
    }
   ]
  },
  {
   "cell_type": "code",
   "source": [
    "# Rename the 'STATE' column to 'State'\n",
    "data_filtered = data_filtered.rename(columns={'STATE': 'State'})\n",
    "\n",
    "# Merge data with df_scaled2 on the 'State' column\n",
    "cancer_file = pd.merge(data_filtered, df_scaled2, on='State')\n",
    "\n",
    "# Display the merged data\n",
    "cancer_file = cancer_file.drop(columns=['URL', 'DEATHS'])\n",
    "cancer_file.head()"
   ],
   "metadata": {
    "id": "urvb4Pfprtmu",
    "colab": {
     "base_uri": "https://localhost:8080/",
     "height": 270
    },
    "outputId": "beece1c0-d6c5-4ccf-e36f-dac3739ce8bf",
    "ExecuteTime": {
     "end_time": "2023-10-08T20:38:40.006006Z",
     "start_time": "2023-10-08T20:38:39.985389Z"
    }
   },
   "execution_count": 91,
   "outputs": [
    {
     "data": {
      "text/plain": "        State   RATE  Accidents_2018_proportion  Accidents_2019_proportion  \\\n0     Alabama  160.2                   0.863079                   0.814042   \n1      Alaska  156.0                   0.328448                   0.304140   \n2     Arizona  134.7                   0.530033                   0.531169   \n3    Arkansas  168.2                   0.730409                   0.712753   \n4  California  132.4                   0.289650                   0.315382   \n\n   Accidents_2020_proportion  Current_smokers_proportion  \\\n0                   0.688806                    0.651212   \n1                   0.136355                    0.630217   \n2                   0.465724                    0.341175   \n3                   0.798325                    0.703046   \n4                   0.232317                    0.150024   \n\n   number_of_veterans_proportion  Proportion_diabetic  \n0                       0.591514             0.968750  \n1                       1.000000             0.109375  \n2                       0.532692             0.468750  \n3                       0.534460             0.781250  \n4                       0.059159             0.390625  ",
      "text/html": "<div>\n<style scoped>\n    .dataframe tbody tr th:only-of-type {\n        vertical-align: middle;\n    }\n\n    .dataframe tbody tr th {\n        vertical-align: top;\n    }\n\n    .dataframe thead th {\n        text-align: right;\n    }\n</style>\n<table border=\"1\" class=\"dataframe\">\n  <thead>\n    <tr style=\"text-align: right;\">\n      <th></th>\n      <th>State</th>\n      <th>RATE</th>\n      <th>Accidents_2018_proportion</th>\n      <th>Accidents_2019_proportion</th>\n      <th>Accidents_2020_proportion</th>\n      <th>Current_smokers_proportion</th>\n      <th>number_of_veterans_proportion</th>\n      <th>Proportion_diabetic</th>\n    </tr>\n  </thead>\n  <tbody>\n    <tr>\n      <th>0</th>\n      <td>Alabama</td>\n      <td>160.2</td>\n      <td>0.863079</td>\n      <td>0.814042</td>\n      <td>0.688806</td>\n      <td>0.651212</td>\n      <td>0.591514</td>\n      <td>0.968750</td>\n    </tr>\n    <tr>\n      <th>1</th>\n      <td>Alaska</td>\n      <td>156.0</td>\n      <td>0.328448</td>\n      <td>0.304140</td>\n      <td>0.136355</td>\n      <td>0.630217</td>\n      <td>1.000000</td>\n      <td>0.109375</td>\n    </tr>\n    <tr>\n      <th>2</th>\n      <td>Arizona</td>\n      <td>134.7</td>\n      <td>0.530033</td>\n      <td>0.531169</td>\n      <td>0.465724</td>\n      <td>0.341175</td>\n      <td>0.532692</td>\n      <td>0.468750</td>\n    </tr>\n    <tr>\n      <th>3</th>\n      <td>Arkansas</td>\n      <td>168.2</td>\n      <td>0.730409</td>\n      <td>0.712753</td>\n      <td>0.798325</td>\n      <td>0.703046</td>\n      <td>0.534460</td>\n      <td>0.781250</td>\n    </tr>\n    <tr>\n      <th>4</th>\n      <td>California</td>\n      <td>132.4</td>\n      <td>0.289650</td>\n      <td>0.315382</td>\n      <td>0.232317</td>\n      <td>0.150024</td>\n      <td>0.059159</td>\n      <td>0.390625</td>\n    </tr>\n  </tbody>\n</table>\n</div>"
     },
     "execution_count": 91,
     "metadata": {},
     "output_type": "execute_result"
    }
   ]
  },
  {
   "cell_type": "code",
   "source": [
    "#going to min max scale again with different proportions,\n",
    "#this time, car accidents will be 38%, cancer 25%, smoking 11%, veterans 6%, diabetics 2%)\n",
    "\n",
    "# Initialize the MinMaxScaler with the desired range\n",
    "scaler = MinMaxScaler(feature_range=(0, 10))\n",
    "\n",
    "# List of columns to scale\n",
    "columns_to_scale = [\n",
    "    'RATE', 'Accidents_2018_proportion', 'Accidents_2019_proportion',\n",
    "    'Accidents_2020_proportion', 'Current_smokers_proportion',\n",
    "    'number_of_veterans_proportion', 'Proportion_diabetic'\n",
    "]\n",
    "\n",
    "# Scale the columns\n",
    "cancer_file[columns_to_scale] = scaler.fit_transform(cancer_file[columns_to_scale])\n",
    "\n",
    "# Display the scaled cancer_file\n",
    "cancer_file.head()"
   ],
   "metadata": {
    "colab": {
     "base_uri": "https://localhost:8080/",
     "height": 270
    },
    "id": "9996nSwU8zy3",
    "outputId": "996e1aff-ceb4-4189-8f18-758c44ab0f11",
    "ExecuteTime": {
     "end_time": "2023-10-08T20:38:40.606720Z",
     "start_time": "2023-10-08T20:38:40.583743Z"
    }
   },
   "execution_count": 92,
   "outputs": [
    {
     "data": {
      "text/plain": "        State      RATE  Accidents_2018_proportion  Accidents_2019_proportion  \\\n0     Alabama  6.153846                   8.592696                   7.979732   \n1      Alaska  5.494505                   3.097643                   2.440100   \n2     Arizona  2.150706                   5.169578                   4.906565   \n3    Arkansas  7.409733                   7.229085                   6.879313   \n4  California  1.789639                   2.698872                   2.562237   \n\n   Accidents_2020_proportion  Current_smokers_proportion  \\\n0                   6.888059                    6.512118   \n1                   1.363555                    6.302167   \n2                   4.657240                    3.411746   \n3                   7.983250                    7.030460   \n4                   2.323174                    1.500242   \n\n   number_of_veterans_proportion  Proportion_diabetic  \n0                       5.915141              9.68750  \n1                      10.000000              1.09375  \n2                       5.326925              4.68750  \n3                       5.344605              7.81250  \n4                       0.591588              3.90625  ",
      "text/html": "<div>\n<style scoped>\n    .dataframe tbody tr th:only-of-type {\n        vertical-align: middle;\n    }\n\n    .dataframe tbody tr th {\n        vertical-align: top;\n    }\n\n    .dataframe thead th {\n        text-align: right;\n    }\n</style>\n<table border=\"1\" class=\"dataframe\">\n  <thead>\n    <tr style=\"text-align: right;\">\n      <th></th>\n      <th>State</th>\n      <th>RATE</th>\n      <th>Accidents_2018_proportion</th>\n      <th>Accidents_2019_proportion</th>\n      <th>Accidents_2020_proportion</th>\n      <th>Current_smokers_proportion</th>\n      <th>number_of_veterans_proportion</th>\n      <th>Proportion_diabetic</th>\n    </tr>\n  </thead>\n  <tbody>\n    <tr>\n      <th>0</th>\n      <td>Alabama</td>\n      <td>6.153846</td>\n      <td>8.592696</td>\n      <td>7.979732</td>\n      <td>6.888059</td>\n      <td>6.512118</td>\n      <td>5.915141</td>\n      <td>9.68750</td>\n    </tr>\n    <tr>\n      <th>1</th>\n      <td>Alaska</td>\n      <td>5.494505</td>\n      <td>3.097643</td>\n      <td>2.440100</td>\n      <td>1.363555</td>\n      <td>6.302167</td>\n      <td>10.000000</td>\n      <td>1.09375</td>\n    </tr>\n    <tr>\n      <th>2</th>\n      <td>Arizona</td>\n      <td>2.150706</td>\n      <td>5.169578</td>\n      <td>4.906565</td>\n      <td>4.657240</td>\n      <td>3.411746</td>\n      <td>5.326925</td>\n      <td>4.68750</td>\n    </tr>\n    <tr>\n      <th>3</th>\n      <td>Arkansas</td>\n      <td>7.409733</td>\n      <td>7.229085</td>\n      <td>6.879313</td>\n      <td>7.983250</td>\n      <td>7.030460</td>\n      <td>5.344605</td>\n      <td>7.81250</td>\n    </tr>\n    <tr>\n      <th>4</th>\n      <td>California</td>\n      <td>1.789639</td>\n      <td>2.698872</td>\n      <td>2.562237</td>\n      <td>2.323174</td>\n      <td>1.500242</td>\n      <td>0.591588</td>\n      <td>3.90625</td>\n    </tr>\n  </tbody>\n</table>\n</div>"
     },
     "execution_count": 92,
     "metadata": {},
     "output_type": "execute_result"
    }
   ]
  },
  {
   "cell_type": "code",
   "source": [
    "#now weighing each column\n",
    "# Define the weights\n",
    "weights = {\n",
    "    'RATE': 0.25,\n",
    "    'Accidents_2018_proportion': 0.126,\n",
    "    'Accidents_2019_proportion': 0.126,\n",
    "    'Accidents_2020_proportion': 0.126,\n",
    "    'Current_smokers_proportion': 0.11,\n",
    "    'number_of_veterans_proportion': 0.06,\n",
    "    'Proportion_diabetic': 0.02,\n",
    "}\n",
    "\n",
    "# Apply the weights to the columns\n",
    "for column, weight in weights.items():\n",
    "    cancer_file[column] = cancer_file[column] * weight"
   ],
   "metadata": {
    "id": "FU4WVMoJ9ZC9",
    "ExecuteTime": {
     "end_time": "2023-10-08T20:38:41.179984Z",
     "start_time": "2023-10-08T20:38:41.149347Z"
    }
   },
   "execution_count": 93,
   "outputs": []
  },
  {
   "cell_type": "code",
   "source": [
    "#creating score to map and then rescaling the score\n",
    "cancer_file['total_score_cancer'] = cancer_file.drop(columns=['State']).sum(axis=1)\n",
    "\n",
    "# Initialize the MinMaxScaler with the desired range\n",
    "scaler = MinMaxScaler(feature_range=(0, 10))\n",
    "\n",
    "# Apply the scaling to the 'total_score_cancer' column\n",
    "cancer_file['total_score_cancer'] = scaler.fit_transform(cancer_file[['total_score_cancer']])"
   ],
   "metadata": {
    "id": "xFYkrfOa95AY",
    "ExecuteTime": {
     "end_time": "2023-10-08T20:38:41.715450Z",
     "start_time": "2023-10-08T20:38:41.685005Z"
    }
   },
   "execution_count": 94,
   "outputs": []
  },
  {
   "cell_type": "code",
   "source": [
    "# Dictionary to map full state names to abbreviations\n",
    "state_abbr = {\n",
    "    'Alabama': 'AL', 'Alaska': 'AK', 'Arizona': 'AZ', 'Arkansas': 'AR', 'California': 'CA', 'Colorado': 'CO',\n",
    "    'Connecticut': 'CT', 'Delaware': 'DE', 'Florida': 'FL', 'Georgia': 'GA', 'Hawaii': 'HI', 'Idaho': 'ID',\n",
    "    'Illinois': 'IL', 'Indiana': 'IN', 'Iowa': 'IA', 'Kansas': 'KS', 'Kentucky': 'KY', 'Louisiana': 'LA',\n",
    "    'Maine': 'ME', 'Maryland': 'MD', 'Massachusetts': 'MA', 'Michigan': 'MI', 'Minnesota': 'MN', 'Mississippi': 'MS',\n",
    "    'Missouri': 'MO', 'Montana': 'MT', 'Nebraska': 'NE', 'Nevada': 'NV', 'New Hampshire': 'NH', 'New Jersey': 'NJ',\n",
    "    'New Mexico': 'NM', 'New York': 'NY', 'North Carolina': 'NC', 'North Dakota': 'ND', 'Ohio': 'OH', 'Oklahoma': 'OK',\n",
    "    'Oregon': 'OR', 'Pennsylvania': 'PA', 'Rhode Island': 'RI', 'South Carolina': 'SC', 'South Dakota': 'SD',\n",
    "    'Tennessee': 'TN', 'Texas': 'TX', 'Utah': 'UT', 'Vermont': 'VT', 'Virginia': 'VA', 'Washington': 'WA',\n",
    "    'West Virginia': 'WV', 'Wisconsin': 'WI', 'Wyoming': 'WY'\n",
    "}\n",
    "\n",
    "# Convert full state names to abbreviations\n",
    "cancer_file['State'] = cancer_file['State'].map(state_abbr)\n",
    "\n",
    "# Create a choropleth map using Plotly Express\n",
    "fig = px.choropleth(cancer_file,\n",
    "                    locations='State',\n",
    "                    locationmode='USA-states',\n",
    "                    color='total_score_cancer',\n",
    "                    scope='usa',\n",
    "                    color_continuous_scale='Viridis',\n",
    "                    labels={'total_score_cancer': 'Demand Score'},\n",
    "                    title='Demand Score by State with Cancer Factor')\n",
    "\n",
    "fig.show()"
   ],
   "metadata": {
    "colab": {
     "base_uri": "https://localhost:8080/",
     "height": 542
    },
    "id": "Q0OmjbfB-Wzx",
    "outputId": "09a7aef1-28ca-4d20-b8a3-8ca421b8f88c",
    "ExecuteTime": {
     "end_time": "2023-10-08T20:38:43.099196Z",
     "start_time": "2023-10-08T20:38:43.068691Z"
    }
   },
   "execution_count": 95,
   "outputs": [
    {
     "data": {
      "application/vnd.plotly.v1+json": {
       "data": [
        {
         "coloraxis": "coloraxis",
         "geo": "geo",
         "hovertemplate": "State=%{location}<br>Demand Score=%{z}<extra></extra>",
         "locationmode": "USA-states",
         "locations": [
          "AL",
          "AK",
          "AZ",
          "AR",
          "CA",
          "CO",
          "CT",
          "DE",
          "FL",
          "GA",
          "HI",
          "ID",
          "IL",
          "IN",
          "IA",
          "KS",
          "KY",
          "LA",
          "ME",
          "MD",
          "MA",
          "MI",
          "MN",
          "MS",
          "MO",
          "MT",
          "NE",
          "NV",
          "NH",
          "NJ",
          "NM",
          "NY",
          "NC",
          "ND",
          "OH",
          "OK",
          "OR",
          "PA",
          "RI",
          "SC",
          "SD",
          "TN",
          "TX",
          "UT",
          "VT",
          "VA",
          "WA",
          "WV",
          "WI",
          "WY"
         ],
         "name": "",
         "z": [
          7.741217663918306,
          4.43197791425221,
          3.867356873725749,
          7.931824112851034,
          1.610657476067375,
          2.1451384454652125,
          1.3771140655340615,
          4.742608820534764,
          4.766390303163909,
          5.23418624801926,
          1.3167098409613143,
          3.527349289825558,
          2.7827043568236745,
          5.955777840093642,
          3.7649042011276213,
          4.919994192201852,
          8.248613876176373,
          7.154825437065167,
          5.031781041056254,
          2.388258480088243,
          0.7538210920489061,
          4.431784518655103,
          1.7654836211782694,
          10.0,
          6.484858940710284,
          5.844054869995263,
          4.06739968773498,
          3.4752033535924176,
          2.934409112104787,
          0.6893803374403702,
          5.827200148867911,
          0.0,
          5.2586023497049545,
          4.174505285127195,
          4.744614670701834,
          7.601836122627212,
          4.4018672984860014,
          3.6164843624354144,
          1.6441788621695412,
          7.572369508097349,
          5.189645083712639,
          7.2681052434917195,
          3.8417752181101563,
          0.18051872803572033,
          3.5575833932431755,
          3.913119169555993,
          2.466277436809997,
          8.635832363373753,
          3.2533253955497936,
          7.8017023364890505
         ],
         "type": "choropleth"
        }
       ],
       "layout": {
        "template": {
         "data": {
          "histogram2dcontour": [
           {
            "type": "histogram2dcontour",
            "colorbar": {
             "outlinewidth": 0,
             "ticks": ""
            },
            "colorscale": [
             [
              0.0,
              "#0d0887"
             ],
             [
              0.1111111111111111,
              "#46039f"
             ],
             [
              0.2222222222222222,
              "#7201a8"
             ],
             [
              0.3333333333333333,
              "#9c179e"
             ],
             [
              0.4444444444444444,
              "#bd3786"
             ],
             [
              0.5555555555555556,
              "#d8576b"
             ],
             [
              0.6666666666666666,
              "#ed7953"
             ],
             [
              0.7777777777777778,
              "#fb9f3a"
             ],
             [
              0.8888888888888888,
              "#fdca26"
             ],
             [
              1.0,
              "#f0f921"
             ]
            ]
           }
          ],
          "choropleth": [
           {
            "type": "choropleth",
            "colorbar": {
             "outlinewidth": 0,
             "ticks": ""
            }
           }
          ],
          "histogram2d": [
           {
            "type": "histogram2d",
            "colorbar": {
             "outlinewidth": 0,
             "ticks": ""
            },
            "colorscale": [
             [
              0.0,
              "#0d0887"
             ],
             [
              0.1111111111111111,
              "#46039f"
             ],
             [
              0.2222222222222222,
              "#7201a8"
             ],
             [
              0.3333333333333333,
              "#9c179e"
             ],
             [
              0.4444444444444444,
              "#bd3786"
             ],
             [
              0.5555555555555556,
              "#d8576b"
             ],
             [
              0.6666666666666666,
              "#ed7953"
             ],
             [
              0.7777777777777778,
              "#fb9f3a"
             ],
             [
              0.8888888888888888,
              "#fdca26"
             ],
             [
              1.0,
              "#f0f921"
             ]
            ]
           }
          ],
          "heatmap": [
           {
            "type": "heatmap",
            "colorbar": {
             "outlinewidth": 0,
             "ticks": ""
            },
            "colorscale": [
             [
              0.0,
              "#0d0887"
             ],
             [
              0.1111111111111111,
              "#46039f"
             ],
             [
              0.2222222222222222,
              "#7201a8"
             ],
             [
              0.3333333333333333,
              "#9c179e"
             ],
             [
              0.4444444444444444,
              "#bd3786"
             ],
             [
              0.5555555555555556,
              "#d8576b"
             ],
             [
              0.6666666666666666,
              "#ed7953"
             ],
             [
              0.7777777777777778,
              "#fb9f3a"
             ],
             [
              0.8888888888888888,
              "#fdca26"
             ],
             [
              1.0,
              "#f0f921"
             ]
            ]
           }
          ],
          "heatmapgl": [
           {
            "type": "heatmapgl",
            "colorbar": {
             "outlinewidth": 0,
             "ticks": ""
            },
            "colorscale": [
             [
              0.0,
              "#0d0887"
             ],
             [
              0.1111111111111111,
              "#46039f"
             ],
             [
              0.2222222222222222,
              "#7201a8"
             ],
             [
              0.3333333333333333,
              "#9c179e"
             ],
             [
              0.4444444444444444,
              "#bd3786"
             ],
             [
              0.5555555555555556,
              "#d8576b"
             ],
             [
              0.6666666666666666,
              "#ed7953"
             ],
             [
              0.7777777777777778,
              "#fb9f3a"
             ],
             [
              0.8888888888888888,
              "#fdca26"
             ],
             [
              1.0,
              "#f0f921"
             ]
            ]
           }
          ],
          "contourcarpet": [
           {
            "type": "contourcarpet",
            "colorbar": {
             "outlinewidth": 0,
             "ticks": ""
            }
           }
          ],
          "contour": [
           {
            "type": "contour",
            "colorbar": {
             "outlinewidth": 0,
             "ticks": ""
            },
            "colorscale": [
             [
              0.0,
              "#0d0887"
             ],
             [
              0.1111111111111111,
              "#46039f"
             ],
             [
              0.2222222222222222,
              "#7201a8"
             ],
             [
              0.3333333333333333,
              "#9c179e"
             ],
             [
              0.4444444444444444,
              "#bd3786"
             ],
             [
              0.5555555555555556,
              "#d8576b"
             ],
             [
              0.6666666666666666,
              "#ed7953"
             ],
             [
              0.7777777777777778,
              "#fb9f3a"
             ],
             [
              0.8888888888888888,
              "#fdca26"
             ],
             [
              1.0,
              "#f0f921"
             ]
            ]
           }
          ],
          "surface": [
           {
            "type": "surface",
            "colorbar": {
             "outlinewidth": 0,
             "ticks": ""
            },
            "colorscale": [
             [
              0.0,
              "#0d0887"
             ],
             [
              0.1111111111111111,
              "#46039f"
             ],
             [
              0.2222222222222222,
              "#7201a8"
             ],
             [
              0.3333333333333333,
              "#9c179e"
             ],
             [
              0.4444444444444444,
              "#bd3786"
             ],
             [
              0.5555555555555556,
              "#d8576b"
             ],
             [
              0.6666666666666666,
              "#ed7953"
             ],
             [
              0.7777777777777778,
              "#fb9f3a"
             ],
             [
              0.8888888888888888,
              "#fdca26"
             ],
             [
              1.0,
              "#f0f921"
             ]
            ]
           }
          ],
          "mesh3d": [
           {
            "type": "mesh3d",
            "colorbar": {
             "outlinewidth": 0,
             "ticks": ""
            }
           }
          ],
          "scatter": [
           {
            "marker": {
             "line": {
              "color": "#283442"
             }
            },
            "type": "scatter"
           }
          ],
          "parcoords": [
           {
            "type": "parcoords",
            "line": {
             "colorbar": {
              "outlinewidth": 0,
              "ticks": ""
             }
            }
           }
          ],
          "scatterpolargl": [
           {
            "type": "scatterpolargl",
            "marker": {
             "colorbar": {
              "outlinewidth": 0,
              "ticks": ""
             }
            }
           }
          ],
          "bar": [
           {
            "error_x": {
             "color": "#f2f5fa"
            },
            "error_y": {
             "color": "#f2f5fa"
            },
            "marker": {
             "line": {
              "color": "rgb(17,17,17)",
              "width": 0.5
             },
             "pattern": {
              "fillmode": "overlay",
              "size": 10,
              "solidity": 0.2
             }
            },
            "type": "bar"
           }
          ],
          "scattergeo": [
           {
            "type": "scattergeo",
            "marker": {
             "colorbar": {
              "outlinewidth": 0,
              "ticks": ""
             }
            }
           }
          ],
          "scatterpolar": [
           {
            "type": "scatterpolar",
            "marker": {
             "colorbar": {
              "outlinewidth": 0,
              "ticks": ""
             }
            }
           }
          ],
          "histogram": [
           {
            "marker": {
             "pattern": {
              "fillmode": "overlay",
              "size": 10,
              "solidity": 0.2
             }
            },
            "type": "histogram"
           }
          ],
          "scattergl": [
           {
            "marker": {
             "line": {
              "color": "#283442"
             }
            },
            "type": "scattergl"
           }
          ],
          "scatter3d": [
           {
            "type": "scatter3d",
            "line": {
             "colorbar": {
              "outlinewidth": 0,
              "ticks": ""
             }
            },
            "marker": {
             "colorbar": {
              "outlinewidth": 0,
              "ticks": ""
             }
            }
           }
          ],
          "scattermapbox": [
           {
            "type": "scattermapbox",
            "marker": {
             "colorbar": {
              "outlinewidth": 0,
              "ticks": ""
             }
            }
           }
          ],
          "scatterternary": [
           {
            "type": "scatterternary",
            "marker": {
             "colorbar": {
              "outlinewidth": 0,
              "ticks": ""
             }
            }
           }
          ],
          "scattercarpet": [
           {
            "type": "scattercarpet",
            "marker": {
             "colorbar": {
              "outlinewidth": 0,
              "ticks": ""
             }
            }
           }
          ],
          "carpet": [
           {
            "aaxis": {
             "endlinecolor": "#A2B1C6",
             "gridcolor": "#506784",
             "linecolor": "#506784",
             "minorgridcolor": "#506784",
             "startlinecolor": "#A2B1C6"
            },
            "baxis": {
             "endlinecolor": "#A2B1C6",
             "gridcolor": "#506784",
             "linecolor": "#506784",
             "minorgridcolor": "#506784",
             "startlinecolor": "#A2B1C6"
            },
            "type": "carpet"
           }
          ],
          "table": [
           {
            "cells": {
             "fill": {
              "color": "#506784"
             },
             "line": {
              "color": "rgb(17,17,17)"
             }
            },
            "header": {
             "fill": {
              "color": "#2a3f5f"
             },
             "line": {
              "color": "rgb(17,17,17)"
             }
            },
            "type": "table"
           }
          ],
          "barpolar": [
           {
            "marker": {
             "line": {
              "color": "rgb(17,17,17)",
              "width": 0.5
             },
             "pattern": {
              "fillmode": "overlay",
              "size": 10,
              "solidity": 0.2
             }
            },
            "type": "barpolar"
           }
          ],
          "pie": [
           {
            "automargin": true,
            "type": "pie"
           }
          ]
         },
         "layout": {
          "autotypenumbers": "strict",
          "colorway": [
           "#636efa",
           "#EF553B",
           "#00cc96",
           "#ab63fa",
           "#FFA15A",
           "#19d3f3",
           "#FF6692",
           "#B6E880",
           "#FF97FF",
           "#FECB52"
          ],
          "font": {
           "color": "#f2f5fa"
          },
          "hovermode": "closest",
          "hoverlabel": {
           "align": "left"
          },
          "paper_bgcolor": "rgb(17,17,17)",
          "plot_bgcolor": "rgb(17,17,17)",
          "polar": {
           "bgcolor": "rgb(17,17,17)",
           "angularaxis": {
            "gridcolor": "#506784",
            "linecolor": "#506784",
            "ticks": ""
           },
           "radialaxis": {
            "gridcolor": "#506784",
            "linecolor": "#506784",
            "ticks": ""
           }
          },
          "ternary": {
           "bgcolor": "rgb(17,17,17)",
           "aaxis": {
            "gridcolor": "#506784",
            "linecolor": "#506784",
            "ticks": ""
           },
           "baxis": {
            "gridcolor": "#506784",
            "linecolor": "#506784",
            "ticks": ""
           },
           "caxis": {
            "gridcolor": "#506784",
            "linecolor": "#506784",
            "ticks": ""
           }
          },
          "coloraxis": {
           "colorbar": {
            "outlinewidth": 0,
            "ticks": ""
           }
          },
          "colorscale": {
           "sequential": [
            [
             0.0,
             "#0d0887"
            ],
            [
             0.1111111111111111,
             "#46039f"
            ],
            [
             0.2222222222222222,
             "#7201a8"
            ],
            [
             0.3333333333333333,
             "#9c179e"
            ],
            [
             0.4444444444444444,
             "#bd3786"
            ],
            [
             0.5555555555555556,
             "#d8576b"
            ],
            [
             0.6666666666666666,
             "#ed7953"
            ],
            [
             0.7777777777777778,
             "#fb9f3a"
            ],
            [
             0.8888888888888888,
             "#fdca26"
            ],
            [
             1.0,
             "#f0f921"
            ]
           ],
           "sequentialminus": [
            [
             0.0,
             "#0d0887"
            ],
            [
             0.1111111111111111,
             "#46039f"
            ],
            [
             0.2222222222222222,
             "#7201a8"
            ],
            [
             0.3333333333333333,
             "#9c179e"
            ],
            [
             0.4444444444444444,
             "#bd3786"
            ],
            [
             0.5555555555555556,
             "#d8576b"
            ],
            [
             0.6666666666666666,
             "#ed7953"
            ],
            [
             0.7777777777777778,
             "#fb9f3a"
            ],
            [
             0.8888888888888888,
             "#fdca26"
            ],
            [
             1.0,
             "#f0f921"
            ]
           ],
           "diverging": [
            [
             0,
             "#8e0152"
            ],
            [
             0.1,
             "#c51b7d"
            ],
            [
             0.2,
             "#de77ae"
            ],
            [
             0.3,
             "#f1b6da"
            ],
            [
             0.4,
             "#fde0ef"
            ],
            [
             0.5,
             "#f7f7f7"
            ],
            [
             0.6,
             "#e6f5d0"
            ],
            [
             0.7,
             "#b8e186"
            ],
            [
             0.8,
             "#7fbc41"
            ],
            [
             0.9,
             "#4d9221"
            ],
            [
             1,
             "#276419"
            ]
           ]
          },
          "xaxis": {
           "gridcolor": "#283442",
           "linecolor": "#506784",
           "ticks": "",
           "title": {
            "standoff": 15
           },
           "zerolinecolor": "#283442",
           "automargin": true,
           "zerolinewidth": 2
          },
          "yaxis": {
           "gridcolor": "#283442",
           "linecolor": "#506784",
           "ticks": "",
           "title": {
            "standoff": 15
           },
           "zerolinecolor": "#283442",
           "automargin": true,
           "zerolinewidth": 2
          },
          "scene": {
           "xaxis": {
            "backgroundcolor": "rgb(17,17,17)",
            "gridcolor": "#506784",
            "linecolor": "#506784",
            "showbackground": true,
            "ticks": "",
            "zerolinecolor": "#C8D4E3",
            "gridwidth": 2
           },
           "yaxis": {
            "backgroundcolor": "rgb(17,17,17)",
            "gridcolor": "#506784",
            "linecolor": "#506784",
            "showbackground": true,
            "ticks": "",
            "zerolinecolor": "#C8D4E3",
            "gridwidth": 2
           },
           "zaxis": {
            "backgroundcolor": "rgb(17,17,17)",
            "gridcolor": "#506784",
            "linecolor": "#506784",
            "showbackground": true,
            "ticks": "",
            "zerolinecolor": "#C8D4E3",
            "gridwidth": 2
           }
          },
          "shapedefaults": {
           "line": {
            "color": "#f2f5fa"
           }
          },
          "annotationdefaults": {
           "arrowcolor": "#f2f5fa",
           "arrowhead": 0,
           "arrowwidth": 1
          },
          "geo": {
           "bgcolor": "rgb(17,17,17)",
           "landcolor": "rgb(17,17,17)",
           "subunitcolor": "#506784",
           "showland": true,
           "showlakes": true,
           "lakecolor": "rgb(17,17,17)"
          },
          "title": {
           "x": 0.05
          },
          "updatemenudefaults": {
           "bgcolor": "#506784",
           "borderwidth": 0
          },
          "sliderdefaults": {
           "bgcolor": "#C8D4E3",
           "borderwidth": 1,
           "bordercolor": "rgb(17,17,17)",
           "tickwidth": 0
          },
          "mapbox": {
           "style": "dark"
          }
         }
        },
        "geo": {
         "domain": {
          "x": [
           0.0,
           1.0
          ],
          "y": [
           0.0,
           1.0
          ]
         },
         "center": {},
         "scope": "usa"
        },
        "coloraxis": {
         "colorbar": {
          "title": {
           "text": "Demand Score"
          }
         },
         "colorscale": [
          [
           0.0,
           "#440154"
          ],
          [
           0.1111111111111111,
           "#482878"
          ],
          [
           0.2222222222222222,
           "#3e4989"
          ],
          [
           0.3333333333333333,
           "#31688e"
          ],
          [
           0.4444444444444444,
           "#26828e"
          ],
          [
           0.5555555555555556,
           "#1f9e89"
          ],
          [
           0.6666666666666666,
           "#35b779"
          ],
          [
           0.7777777777777778,
           "#6ece58"
          ],
          [
           0.8888888888888888,
           "#b5de2b"
          ],
          [
           1.0,
           "#fde725"
          ]
         ]
        },
        "legend": {
         "tracegroupgap": 0
        },
        "title": {
         "text": "Demand Score by State with Cancer Factor"
        }
       },
       "config": {
        "plotlyServerURL": "https://plot.ly"
       }
      },
      "text/html": "<div>                            <div id=\"d26a5ec3-a055-47f4-8531-a7b6a2a788b8\" class=\"plotly-graph-div\" style=\"height:525px; width:100%;\"></div>            <script type=\"text/javascript\">                require([\"plotly\"], function(Plotly) {                    window.PLOTLYENV=window.PLOTLYENV || {};                                    if (document.getElementById(\"d26a5ec3-a055-47f4-8531-a7b6a2a788b8\")) {                    Plotly.newPlot(                        \"d26a5ec3-a055-47f4-8531-a7b6a2a788b8\",                        [{\"coloraxis\":\"coloraxis\",\"geo\":\"geo\",\"hovertemplate\":\"State=%{location}\\u003cbr\\u003eDemand Score=%{z}\\u003cextra\\u003e\\u003c\\u002fextra\\u003e\",\"locationmode\":\"USA-states\",\"locations\":[\"AL\",\"AK\",\"AZ\",\"AR\",\"CA\",\"CO\",\"CT\",\"DE\",\"FL\",\"GA\",\"HI\",\"ID\",\"IL\",\"IN\",\"IA\",\"KS\",\"KY\",\"LA\",\"ME\",\"MD\",\"MA\",\"MI\",\"MN\",\"MS\",\"MO\",\"MT\",\"NE\",\"NV\",\"NH\",\"NJ\",\"NM\",\"NY\",\"NC\",\"ND\",\"OH\",\"OK\",\"OR\",\"PA\",\"RI\",\"SC\",\"SD\",\"TN\",\"TX\",\"UT\",\"VT\",\"VA\",\"WA\",\"WV\",\"WI\",\"WY\"],\"name\":\"\",\"z\":[7.741217663918306,4.43197791425221,3.867356873725749,7.931824112851034,1.610657476067375,2.1451384454652125,1.3771140655340615,4.742608820534764,4.766390303163909,5.23418624801926,1.3167098409613143,3.527349289825558,2.7827043568236745,5.955777840093642,3.7649042011276213,4.919994192201852,8.248613876176373,7.154825437065167,5.031781041056254,2.388258480088243,0.7538210920489061,4.431784518655103,1.7654836211782694,10.0,6.484858940710284,5.844054869995263,4.06739968773498,3.4752033535924176,2.934409112104787,0.6893803374403702,5.827200148867911,0.0,5.2586023497049545,4.174505285127195,4.744614670701834,7.601836122627212,4.4018672984860014,3.6164843624354144,1.6441788621695412,7.572369508097349,5.189645083712639,7.2681052434917195,3.8417752181101563,0.18051872803572033,3.5575833932431755,3.913119169555993,2.466277436809997,8.635832363373753,3.2533253955497936,7.8017023364890505],\"type\":\"choropleth\"}],                        {\"template\":{\"data\":{\"histogram2dcontour\":[{\"type\":\"histogram2dcontour\",\"colorbar\":{\"outlinewidth\":0,\"ticks\":\"\"},\"colorscale\":[[0.0,\"#0d0887\"],[0.1111111111111111,\"#46039f\"],[0.2222222222222222,\"#7201a8\"],[0.3333333333333333,\"#9c179e\"],[0.4444444444444444,\"#bd3786\"],[0.5555555555555556,\"#d8576b\"],[0.6666666666666666,\"#ed7953\"],[0.7777777777777778,\"#fb9f3a\"],[0.8888888888888888,\"#fdca26\"],[1.0,\"#f0f921\"]]}],\"choropleth\":[{\"type\":\"choropleth\",\"colorbar\":{\"outlinewidth\":0,\"ticks\":\"\"}}],\"histogram2d\":[{\"type\":\"histogram2d\",\"colorbar\":{\"outlinewidth\":0,\"ticks\":\"\"},\"colorscale\":[[0.0,\"#0d0887\"],[0.1111111111111111,\"#46039f\"],[0.2222222222222222,\"#7201a8\"],[0.3333333333333333,\"#9c179e\"],[0.4444444444444444,\"#bd3786\"],[0.5555555555555556,\"#d8576b\"],[0.6666666666666666,\"#ed7953\"],[0.7777777777777778,\"#fb9f3a\"],[0.8888888888888888,\"#fdca26\"],[1.0,\"#f0f921\"]]}],\"heatmap\":[{\"type\":\"heatmap\",\"colorbar\":{\"outlinewidth\":0,\"ticks\":\"\"},\"colorscale\":[[0.0,\"#0d0887\"],[0.1111111111111111,\"#46039f\"],[0.2222222222222222,\"#7201a8\"],[0.3333333333333333,\"#9c179e\"],[0.4444444444444444,\"#bd3786\"],[0.5555555555555556,\"#d8576b\"],[0.6666666666666666,\"#ed7953\"],[0.7777777777777778,\"#fb9f3a\"],[0.8888888888888888,\"#fdca26\"],[1.0,\"#f0f921\"]]}],\"heatmapgl\":[{\"type\":\"heatmapgl\",\"colorbar\":{\"outlinewidth\":0,\"ticks\":\"\"},\"colorscale\":[[0.0,\"#0d0887\"],[0.1111111111111111,\"#46039f\"],[0.2222222222222222,\"#7201a8\"],[0.3333333333333333,\"#9c179e\"],[0.4444444444444444,\"#bd3786\"],[0.5555555555555556,\"#d8576b\"],[0.6666666666666666,\"#ed7953\"],[0.7777777777777778,\"#fb9f3a\"],[0.8888888888888888,\"#fdca26\"],[1.0,\"#f0f921\"]]}],\"contourcarpet\":[{\"type\":\"contourcarpet\",\"colorbar\":{\"outlinewidth\":0,\"ticks\":\"\"}}],\"contour\":[{\"type\":\"contour\",\"colorbar\":{\"outlinewidth\":0,\"ticks\":\"\"},\"colorscale\":[[0.0,\"#0d0887\"],[0.1111111111111111,\"#46039f\"],[0.2222222222222222,\"#7201a8\"],[0.3333333333333333,\"#9c179e\"],[0.4444444444444444,\"#bd3786\"],[0.5555555555555556,\"#d8576b\"],[0.6666666666666666,\"#ed7953\"],[0.7777777777777778,\"#fb9f3a\"],[0.8888888888888888,\"#fdca26\"],[1.0,\"#f0f921\"]]}],\"surface\":[{\"type\":\"surface\",\"colorbar\":{\"outlinewidth\":0,\"ticks\":\"\"},\"colorscale\":[[0.0,\"#0d0887\"],[0.1111111111111111,\"#46039f\"],[0.2222222222222222,\"#7201a8\"],[0.3333333333333333,\"#9c179e\"],[0.4444444444444444,\"#bd3786\"],[0.5555555555555556,\"#d8576b\"],[0.6666666666666666,\"#ed7953\"],[0.7777777777777778,\"#fb9f3a\"],[0.8888888888888888,\"#fdca26\"],[1.0,\"#f0f921\"]]}],\"mesh3d\":[{\"type\":\"mesh3d\",\"colorbar\":{\"outlinewidth\":0,\"ticks\":\"\"}}],\"scatter\":[{\"marker\":{\"line\":{\"color\":\"#283442\"}},\"type\":\"scatter\"}],\"parcoords\":[{\"type\":\"parcoords\",\"line\":{\"colorbar\":{\"outlinewidth\":0,\"ticks\":\"\"}}}],\"scatterpolargl\":[{\"type\":\"scatterpolargl\",\"marker\":{\"colorbar\":{\"outlinewidth\":0,\"ticks\":\"\"}}}],\"bar\":[{\"error_x\":{\"color\":\"#f2f5fa\"},\"error_y\":{\"color\":\"#f2f5fa\"},\"marker\":{\"line\":{\"color\":\"rgb(17,17,17)\",\"width\":0.5},\"pattern\":{\"fillmode\":\"overlay\",\"size\":10,\"solidity\":0.2}},\"type\":\"bar\"}],\"scattergeo\":[{\"type\":\"scattergeo\",\"marker\":{\"colorbar\":{\"outlinewidth\":0,\"ticks\":\"\"}}}],\"scatterpolar\":[{\"type\":\"scatterpolar\",\"marker\":{\"colorbar\":{\"outlinewidth\":0,\"ticks\":\"\"}}}],\"histogram\":[{\"marker\":{\"pattern\":{\"fillmode\":\"overlay\",\"size\":10,\"solidity\":0.2}},\"type\":\"histogram\"}],\"scattergl\":[{\"marker\":{\"line\":{\"color\":\"#283442\"}},\"type\":\"scattergl\"}],\"scatter3d\":[{\"type\":\"scatter3d\",\"line\":{\"colorbar\":{\"outlinewidth\":0,\"ticks\":\"\"}},\"marker\":{\"colorbar\":{\"outlinewidth\":0,\"ticks\":\"\"}}}],\"scattermapbox\":[{\"type\":\"scattermapbox\",\"marker\":{\"colorbar\":{\"outlinewidth\":0,\"ticks\":\"\"}}}],\"scatterternary\":[{\"type\":\"scatterternary\",\"marker\":{\"colorbar\":{\"outlinewidth\":0,\"ticks\":\"\"}}}],\"scattercarpet\":[{\"type\":\"scattercarpet\",\"marker\":{\"colorbar\":{\"outlinewidth\":0,\"ticks\":\"\"}}}],\"carpet\":[{\"aaxis\":{\"endlinecolor\":\"#A2B1C6\",\"gridcolor\":\"#506784\",\"linecolor\":\"#506784\",\"minorgridcolor\":\"#506784\",\"startlinecolor\":\"#A2B1C6\"},\"baxis\":{\"endlinecolor\":\"#A2B1C6\",\"gridcolor\":\"#506784\",\"linecolor\":\"#506784\",\"minorgridcolor\":\"#506784\",\"startlinecolor\":\"#A2B1C6\"},\"type\":\"carpet\"}],\"table\":[{\"cells\":{\"fill\":{\"color\":\"#506784\"},\"line\":{\"color\":\"rgb(17,17,17)\"}},\"header\":{\"fill\":{\"color\":\"#2a3f5f\"},\"line\":{\"color\":\"rgb(17,17,17)\"}},\"type\":\"table\"}],\"barpolar\":[{\"marker\":{\"line\":{\"color\":\"rgb(17,17,17)\",\"width\":0.5},\"pattern\":{\"fillmode\":\"overlay\",\"size\":10,\"solidity\":0.2}},\"type\":\"barpolar\"}],\"pie\":[{\"automargin\":true,\"type\":\"pie\"}]},\"layout\":{\"autotypenumbers\":\"strict\",\"colorway\":[\"#636efa\",\"#EF553B\",\"#00cc96\",\"#ab63fa\",\"#FFA15A\",\"#19d3f3\",\"#FF6692\",\"#B6E880\",\"#FF97FF\",\"#FECB52\"],\"font\":{\"color\":\"#f2f5fa\"},\"hovermode\":\"closest\",\"hoverlabel\":{\"align\":\"left\"},\"paper_bgcolor\":\"rgb(17,17,17)\",\"plot_bgcolor\":\"rgb(17,17,17)\",\"polar\":{\"bgcolor\":\"rgb(17,17,17)\",\"angularaxis\":{\"gridcolor\":\"#506784\",\"linecolor\":\"#506784\",\"ticks\":\"\"},\"radialaxis\":{\"gridcolor\":\"#506784\",\"linecolor\":\"#506784\",\"ticks\":\"\"}},\"ternary\":{\"bgcolor\":\"rgb(17,17,17)\",\"aaxis\":{\"gridcolor\":\"#506784\",\"linecolor\":\"#506784\",\"ticks\":\"\"},\"baxis\":{\"gridcolor\":\"#506784\",\"linecolor\":\"#506784\",\"ticks\":\"\"},\"caxis\":{\"gridcolor\":\"#506784\",\"linecolor\":\"#506784\",\"ticks\":\"\"}},\"coloraxis\":{\"colorbar\":{\"outlinewidth\":0,\"ticks\":\"\"}},\"colorscale\":{\"sequential\":[[0.0,\"#0d0887\"],[0.1111111111111111,\"#46039f\"],[0.2222222222222222,\"#7201a8\"],[0.3333333333333333,\"#9c179e\"],[0.4444444444444444,\"#bd3786\"],[0.5555555555555556,\"#d8576b\"],[0.6666666666666666,\"#ed7953\"],[0.7777777777777778,\"#fb9f3a\"],[0.8888888888888888,\"#fdca26\"],[1.0,\"#f0f921\"]],\"sequentialminus\":[[0.0,\"#0d0887\"],[0.1111111111111111,\"#46039f\"],[0.2222222222222222,\"#7201a8\"],[0.3333333333333333,\"#9c179e\"],[0.4444444444444444,\"#bd3786\"],[0.5555555555555556,\"#d8576b\"],[0.6666666666666666,\"#ed7953\"],[0.7777777777777778,\"#fb9f3a\"],[0.8888888888888888,\"#fdca26\"],[1.0,\"#f0f921\"]],\"diverging\":[[0,\"#8e0152\"],[0.1,\"#c51b7d\"],[0.2,\"#de77ae\"],[0.3,\"#f1b6da\"],[0.4,\"#fde0ef\"],[0.5,\"#f7f7f7\"],[0.6,\"#e6f5d0\"],[0.7,\"#b8e186\"],[0.8,\"#7fbc41\"],[0.9,\"#4d9221\"],[1,\"#276419\"]]},\"xaxis\":{\"gridcolor\":\"#283442\",\"linecolor\":\"#506784\",\"ticks\":\"\",\"title\":{\"standoff\":15},\"zerolinecolor\":\"#283442\",\"automargin\":true,\"zerolinewidth\":2},\"yaxis\":{\"gridcolor\":\"#283442\",\"linecolor\":\"#506784\",\"ticks\":\"\",\"title\":{\"standoff\":15},\"zerolinecolor\":\"#283442\",\"automargin\":true,\"zerolinewidth\":2},\"scene\":{\"xaxis\":{\"backgroundcolor\":\"rgb(17,17,17)\",\"gridcolor\":\"#506784\",\"linecolor\":\"#506784\",\"showbackground\":true,\"ticks\":\"\",\"zerolinecolor\":\"#C8D4E3\",\"gridwidth\":2},\"yaxis\":{\"backgroundcolor\":\"rgb(17,17,17)\",\"gridcolor\":\"#506784\",\"linecolor\":\"#506784\",\"showbackground\":true,\"ticks\":\"\",\"zerolinecolor\":\"#C8D4E3\",\"gridwidth\":2},\"zaxis\":{\"backgroundcolor\":\"rgb(17,17,17)\",\"gridcolor\":\"#506784\",\"linecolor\":\"#506784\",\"showbackground\":true,\"ticks\":\"\",\"zerolinecolor\":\"#C8D4E3\",\"gridwidth\":2}},\"shapedefaults\":{\"line\":{\"color\":\"#f2f5fa\"}},\"annotationdefaults\":{\"arrowcolor\":\"#f2f5fa\",\"arrowhead\":0,\"arrowwidth\":1},\"geo\":{\"bgcolor\":\"rgb(17,17,17)\",\"landcolor\":\"rgb(17,17,17)\",\"subunitcolor\":\"#506784\",\"showland\":true,\"showlakes\":true,\"lakecolor\":\"rgb(17,17,17)\"},\"title\":{\"x\":0.05},\"updatemenudefaults\":{\"bgcolor\":\"#506784\",\"borderwidth\":0},\"sliderdefaults\":{\"bgcolor\":\"#C8D4E3\",\"borderwidth\":1,\"bordercolor\":\"rgb(17,17,17)\",\"tickwidth\":0},\"mapbox\":{\"style\":\"dark\"}}},\"geo\":{\"domain\":{\"x\":[0.0,1.0],\"y\":[0.0,1.0]},\"center\":{},\"scope\":\"usa\"},\"coloraxis\":{\"colorbar\":{\"title\":{\"text\":\"Demand Score\"}},\"colorscale\":[[0.0,\"#440154\"],[0.1111111111111111,\"#482878\"],[0.2222222222222222,\"#3e4989\"],[0.3333333333333333,\"#31688e\"],[0.4444444444444444,\"#26828e\"],[0.5555555555555556,\"#1f9e89\"],[0.6666666666666666,\"#35b779\"],[0.7777777777777778,\"#6ece58\"],[0.8888888888888888,\"#b5de2b\"],[1.0,\"#fde725\"]]},\"legend\":{\"tracegroupgap\":0},\"title\":{\"text\":\"Demand Score by State with Cancer Factor\"}},                        {\"responsive\": true}                    ).then(function(){\n                            \nvar gd = document.getElementById('d26a5ec3-a055-47f4-8531-a7b6a2a788b8');\nvar x = new MutationObserver(function (mutations, observer) {{\n        var display = window.getComputedStyle(gd).display;\n        if (!display || display === 'none') {{\n            console.log([gd, 'removed!']);\n            Plotly.purge(gd);\n            observer.disconnect();\n        }}\n}});\n\n// Listen for the removal of the full notebook cells\nvar notebookContainer = gd.closest('#notebook-container');\nif (notebookContainer) {{\n    x.observe(notebookContainer, {childList: true});\n}}\n\n// Listen for the clearing of the current output cell\nvar outputEl = gd.closest('.output');\nif (outputEl) {{\n    x.observe(outputEl, {childList: true});\n}}\n\n                        })                };                });            </script>        </div>"
     },
     "metadata": {},
     "output_type": "display_data"
    }
   ]
  },
  {
   "cell_type": "code",
   "source": [
    "# pio.write_html(fig, file='Demand_with_cancer_graph.html', auto_open=False)"
   ],
   "metadata": {
    "id": "IDst7fQtAnWY",
    "ExecuteTime": {
     "end_time": "2023-10-08T20:38:43.731670Z",
     "start_time": "2023-10-08T20:38:43.694921Z"
    }
   },
   "execution_count": 96,
   "outputs": []
  },
  {
   "cell_type": "code",
   "source": [
    "df_weighted.head()"
   ],
   "metadata": {
    "colab": {
     "base_uri": "https://localhost:8080/",
     "height": 270
    },
    "id": "ZF7ecoOD__Rm",
    "outputId": "35ca26c8-8806-41d2-8b39-760cb5b4b345",
    "ExecuteTime": {
     "end_time": "2023-10-08T20:38:44.392324Z",
     "start_time": "2023-10-08T20:38:44.364857Z"
    }
   },
   "execution_count": 97,
   "outputs": [
    {
     "data": {
      "text/plain": "  State  Accidents_2018_proportion  Accidents_2019_proportion  \\\n0   NaN                   0.112200                   0.105825   \n1   NaN                   0.042698                   0.039538   \n2   NaN                   0.068904                   0.069052   \n3   NaN                   0.094953                   0.092658   \n4   NaN                   0.037655                   0.041000   \n\n   Accidents_2020_proportion  Current_smokers_proportion  \\\n0                   0.089545                    0.078145   \n1                   0.017726                    0.075626   \n2                   0.060544                    0.040941   \n3                   0.103782                    0.084366   \n4                   0.030201                    0.018003   \n\n   number_of_veterans_proportion  Proportion_diabetic  total_score  \n0                       0.041406             0.242188     8.880613  \n1                       0.070000             0.027344     2.689363  \n2                       0.037288             0.117187     4.579098  \n3                       0.037412             0.195312     7.930537  \n4                       0.004141             0.097656     1.997779  ",
      "text/html": "<div>\n<style scoped>\n    .dataframe tbody tr th:only-of-type {\n        vertical-align: middle;\n    }\n\n    .dataframe tbody tr th {\n        vertical-align: top;\n    }\n\n    .dataframe thead th {\n        text-align: right;\n    }\n</style>\n<table border=\"1\" class=\"dataframe\">\n  <thead>\n    <tr style=\"text-align: right;\">\n      <th></th>\n      <th>State</th>\n      <th>Accidents_2018_proportion</th>\n      <th>Accidents_2019_proportion</th>\n      <th>Accidents_2020_proportion</th>\n      <th>Current_smokers_proportion</th>\n      <th>number_of_veterans_proportion</th>\n      <th>Proportion_diabetic</th>\n      <th>total_score</th>\n    </tr>\n  </thead>\n  <tbody>\n    <tr>\n      <th>0</th>\n      <td>NaN</td>\n      <td>0.112200</td>\n      <td>0.105825</td>\n      <td>0.089545</td>\n      <td>0.078145</td>\n      <td>0.041406</td>\n      <td>0.242188</td>\n      <td>8.880613</td>\n    </tr>\n    <tr>\n      <th>1</th>\n      <td>NaN</td>\n      <td>0.042698</td>\n      <td>0.039538</td>\n      <td>0.017726</td>\n      <td>0.075626</td>\n      <td>0.070000</td>\n      <td>0.027344</td>\n      <td>2.689363</td>\n    </tr>\n    <tr>\n      <th>2</th>\n      <td>NaN</td>\n      <td>0.068904</td>\n      <td>0.069052</td>\n      <td>0.060544</td>\n      <td>0.040941</td>\n      <td>0.037288</td>\n      <td>0.117187</td>\n      <td>4.579098</td>\n    </tr>\n    <tr>\n      <th>3</th>\n      <td>NaN</td>\n      <td>0.094953</td>\n      <td>0.092658</td>\n      <td>0.103782</td>\n      <td>0.084366</td>\n      <td>0.037412</td>\n      <td>0.195312</td>\n      <td>7.930537</td>\n    </tr>\n    <tr>\n      <th>4</th>\n      <td>NaN</td>\n      <td>0.037655</td>\n      <td>0.041000</td>\n      <td>0.030201</td>\n      <td>0.018003</td>\n      <td>0.004141</td>\n      <td>0.097656</td>\n      <td>1.997779</td>\n    </tr>\n  </tbody>\n</table>\n</div>"
     },
     "execution_count": 97,
     "metadata": {},
     "output_type": "execute_result"
    }
   ]
  },
  {
   "cell_type": "code",
   "source": [
    "df_pops = df_pops.reset_index()"
   ],
   "metadata": {
    "id": "Ja2ozxa6vDRc",
    "ExecuteTime": {
     "end_time": "2023-10-08T20:38:44.970820Z",
     "start_time": "2023-10-08T20:38:44.914872Z"
    }
   },
   "execution_count": 98,
   "outputs": []
  },
  {
   "cell_type": "code",
   "source": [
    "# get data by year\n",
    "df_pops.head()\n",
    "accidents = df_pops[[\"State\", \"Accidents_2018_proportion\", \"Accidents_2019_proportion\", \"Accidents_2020_proportion\"]]\n",
    "accidents.head()\n",
    "\n",
    "# Select the columns to be scaled excluding the 'State' column\n",
    "columns_to_scale = [col for col in accidents.columns if col != 'State']\n",
    "\n",
    "# Apply Min-Max scaling to the selected columns\n",
    "scaled_data = scaler.fit_transform(accidents[columns_to_scale])\n",
    "\n",
    "# Create a new df with the scaled data and the same column names excluding 'State'\n",
    "df_scaled_values = pd.DataFrame(scaled_data, columns=columns_to_scale)\n",
    "\n",
    "# Add the 'State' column back to the new DataFrame\n",
    "df_scaled = pd.concat([df['State'], df_scaled_values], axis=1)\n",
    "\n",
    "# Display the scaled df\n",
    "df_scaled.head()\n",
    "\n",
    "accidents_scaled = df_scaled\n",
    "accidents_scaled\n",
    "\n",
    "newcolnames = {'Accidents_2018_proportion': '2018', 'Accidents_2019_proportion': '2019', 'Accidents_2020_proportion': '2020'}\n",
    "accidents_scaled = accidents_scaled.rename(columns=newcolnames)\n",
    "accidents_scaled.head()\n",
    "\n",
    "accidents_scaled[\"change\"] = accidents_scaled[\"2020\"] - accidents_scaled[\"2018\"]\n",
    "acc = accidents_scaled\n",
    "acc.head()"
   ],
   "metadata": {
    "colab": {
     "base_uri": "https://localhost:8080/",
     "height": 206
    },
    "id": "MJ_kfJQqRf09",
    "outputId": "5f8c0a52-feda-4ab6-be9a-72568ee9f6e7",
    "ExecuteTime": {
     "end_time": "2023-10-08T20:38:45.500662Z",
     "start_time": "2023-10-08T20:38:45.419069Z"
    }
   },
   "execution_count": 99,
   "outputs": [
    {
     "data": {
      "text/plain": "        State      2018      2019      2020    change\n0     Alabama  8.630789  8.140420  6.888059 -1.742729\n1      Alaska  3.284478  3.041397  1.363555 -1.920923\n2     Arizona  5.300329  5.311685  4.657240 -0.643089\n3    Arkansas  7.304089  7.127526  7.983250  0.679161\n4  California  2.896501  3.153820  2.323174 -0.573327",
      "text/html": "<div>\n<style scoped>\n    .dataframe tbody tr th:only-of-type {\n        vertical-align: middle;\n    }\n\n    .dataframe tbody tr th {\n        vertical-align: top;\n    }\n\n    .dataframe thead th {\n        text-align: right;\n    }\n</style>\n<table border=\"1\" class=\"dataframe\">\n  <thead>\n    <tr style=\"text-align: right;\">\n      <th></th>\n      <th>State</th>\n      <th>2018</th>\n      <th>2019</th>\n      <th>2020</th>\n      <th>change</th>\n    </tr>\n  </thead>\n  <tbody>\n    <tr>\n      <th>0</th>\n      <td>Alabama</td>\n      <td>8.630789</td>\n      <td>8.140420</td>\n      <td>6.888059</td>\n      <td>-1.742729</td>\n    </tr>\n    <tr>\n      <th>1</th>\n      <td>Alaska</td>\n      <td>3.284478</td>\n      <td>3.041397</td>\n      <td>1.363555</td>\n      <td>-1.920923</td>\n    </tr>\n    <tr>\n      <th>2</th>\n      <td>Arizona</td>\n      <td>5.300329</td>\n      <td>5.311685</td>\n      <td>4.657240</td>\n      <td>-0.643089</td>\n    </tr>\n    <tr>\n      <th>3</th>\n      <td>Arkansas</td>\n      <td>7.304089</td>\n      <td>7.127526</td>\n      <td>7.983250</td>\n      <td>0.679161</td>\n    </tr>\n    <tr>\n      <th>4</th>\n      <td>California</td>\n      <td>2.896501</td>\n      <td>3.153820</td>\n      <td>2.323174</td>\n      <td>-0.573327</td>\n    </tr>\n  </tbody>\n</table>\n</div>"
     },
     "execution_count": 99,
     "metadata": {},
     "output_type": "execute_result"
    }
   ]
  },
  {
   "cell_type": "code",
   "source": [
    "# finding supply side data\n",
    "# Read the Excel file\n",
    "file_path = 'ProsthOrth_Data.xlsx'\n",
    "supply_df = pd.read_excel(file_path, skiprows=5, nrows=48)\n",
    "\n",
    "supply_df.head()"
   ],
   "metadata": {
    "colab": {
     "base_uri": "https://localhost:8080/",
     "height": 206
    },
    "id": "Y1BEgD_neFa0",
    "outputId": "9a733145-8162-47ca-9399-732529ffdbcc",
    "ExecuteTime": {
     "end_time": "2023-10-08T20:38:45.917233Z",
     "start_time": "2023-10-08T20:38:45.859143Z"
    }
   },
   "execution_count": 100,
   "outputs": [
    {
     "data": {
      "text/plain": "    Area Name Employment(1) Employment percent relative standard error(3)\n0     Alabama           170                                          29.1\n1      Alaska             -                                             -\n2     Arizona           230                                          24.7\n3    Arkansas           160                                          38.4\n4  California          1060                                          18.8",
      "text/html": "<div>\n<style scoped>\n    .dataframe tbody tr th:only-of-type {\n        vertical-align: middle;\n    }\n\n    .dataframe tbody tr th {\n        vertical-align: top;\n    }\n\n    .dataframe thead th {\n        text-align: right;\n    }\n</style>\n<table border=\"1\" class=\"dataframe\">\n  <thead>\n    <tr style=\"text-align: right;\">\n      <th></th>\n      <th>Area Name</th>\n      <th>Employment(1)</th>\n      <th>Employment percent relative standard error(3)</th>\n    </tr>\n  </thead>\n  <tbody>\n    <tr>\n      <th>0</th>\n      <td>Alabama</td>\n      <td>170</td>\n      <td>29.1</td>\n    </tr>\n    <tr>\n      <th>1</th>\n      <td>Alaska</td>\n      <td>-</td>\n      <td>-</td>\n    </tr>\n    <tr>\n      <th>2</th>\n      <td>Arizona</td>\n      <td>230</td>\n      <td>24.7</td>\n    </tr>\n    <tr>\n      <th>3</th>\n      <td>Arkansas</td>\n      <td>160</td>\n      <td>38.4</td>\n    </tr>\n    <tr>\n      <th>4</th>\n      <td>California</td>\n      <td>1060</td>\n      <td>18.8</td>\n    </tr>\n  </tbody>\n</table>\n</div>"
     },
     "execution_count": 100,
     "metadata": {},
     "output_type": "execute_result"
    }
   ]
  },
  {
   "cell_type": "code",
   "source": [
    "# wrangling\n",
    "\n",
    "supply_df = supply_df.rename(columns={'Area Name': 'State'})\n",
    "\n",
    "supply_df.head()"
   ],
   "metadata": {
    "id": "JGB4bVZmgB5s",
    "colab": {
     "base_uri": "https://localhost:8080/",
     "height": 206
    },
    "outputId": "4fa96e55-955f-4905-d4f2-e052dd39b195",
    "ExecuteTime": {
     "end_time": "2023-10-08T20:38:46.367713Z",
     "start_time": "2023-10-08T20:38:46.335454Z"
    }
   },
   "execution_count": 101,
   "outputs": [
    {
     "data": {
      "text/plain": "        State Employment(1) Employment percent relative standard error(3)\n0     Alabama           170                                          29.1\n1      Alaska             -                                             -\n2     Arizona           230                                          24.7\n3    Arkansas           160                                          38.4\n4  California          1060                                          18.8",
      "text/html": "<div>\n<style scoped>\n    .dataframe tbody tr th:only-of-type {\n        vertical-align: middle;\n    }\n\n    .dataframe tbody tr th {\n        vertical-align: top;\n    }\n\n    .dataframe thead th {\n        text-align: right;\n    }\n</style>\n<table border=\"1\" class=\"dataframe\">\n  <thead>\n    <tr style=\"text-align: right;\">\n      <th></th>\n      <th>State</th>\n      <th>Employment(1)</th>\n      <th>Employment percent relative standard error(3)</th>\n    </tr>\n  </thead>\n  <tbody>\n    <tr>\n      <th>0</th>\n      <td>Alabama</td>\n      <td>170</td>\n      <td>29.1</td>\n    </tr>\n    <tr>\n      <th>1</th>\n      <td>Alaska</td>\n      <td>-</td>\n      <td>-</td>\n    </tr>\n    <tr>\n      <th>2</th>\n      <td>Arizona</td>\n      <td>230</td>\n      <td>24.7</td>\n    </tr>\n    <tr>\n      <th>3</th>\n      <td>Arkansas</td>\n      <td>160</td>\n      <td>38.4</td>\n    </tr>\n    <tr>\n      <th>4</th>\n      <td>California</td>\n      <td>1060</td>\n      <td>18.8</td>\n    </tr>\n  </tbody>\n</table>\n</div>"
     },
     "execution_count": 101,
     "metadata": {},
     "output_type": "execute_result"
    }
   ]
  },
  {
   "cell_type": "code",
   "source": [
    "# clean the data of any state values that are blank or list them as 0(?)\n",
    "\n",
    "# List of states to drop\n",
    "states_to_drop = ['Alaska', 'Colorado', 'Delaware', 'Vermont', 'Wisconsin', 'District of Columbia']\n",
    "\n",
    "# Remove rows containing the specified states\n",
    "cleaned_supply_df = supply_df[~supply_df['State'].isin(states_to_drop)]\n",
    "\n",
    "# Reset the index after removing the rows\n",
    "cleaned_supply_df.reset_index(drop=True, inplace=True)\n",
    "\n",
    "# Display the cleaned dataframe\n",
    "# print(cleaned_supply_df)\n",
    "\n",
    "# rename columns\n",
    "\n",
    "# Rename the 'Employment(1)' column\n",
    "cleaned_supply_df = cleaned_supply_df.rename(columns={'Employment(1)': 'Number of Prosthetists'})\n",
    "\n",
    "# Display the updated dataframe\n",
    "cleaned_supply_df.head()"
   ],
   "metadata": {
    "id": "SXKZzP8wgDXf",
    "colab": {
     "base_uri": "https://localhost:8080/",
     "height": 206
    },
    "outputId": "be118c12-7fd5-4511-d42a-b0c0854bae38",
    "ExecuteTime": {
     "end_time": "2023-10-08T20:38:46.877625Z",
     "start_time": "2023-10-08T20:38:46.848507Z"
    }
   },
   "execution_count": 102,
   "outputs": [
    {
     "data": {
      "text/plain": "         State Number of Prosthetists  \\\n0      Alabama                    170   \n1      Arizona                    230   \n2     Arkansas                    160   \n3   California                   1060   \n4  Connecticut                     70   \n\n  Employment percent relative standard error(3)  \n0                                          29.1  \n1                                          24.7  \n2                                          38.4  \n3                                          18.8  \n4                                          25.0  ",
      "text/html": "<div>\n<style scoped>\n    .dataframe tbody tr th:only-of-type {\n        vertical-align: middle;\n    }\n\n    .dataframe tbody tr th {\n        vertical-align: top;\n    }\n\n    .dataframe thead th {\n        text-align: right;\n    }\n</style>\n<table border=\"1\" class=\"dataframe\">\n  <thead>\n    <tr style=\"text-align: right;\">\n      <th></th>\n      <th>State</th>\n      <th>Number of Prosthetists</th>\n      <th>Employment percent relative standard error(3)</th>\n    </tr>\n  </thead>\n  <tbody>\n    <tr>\n      <th>0</th>\n      <td>Alabama</td>\n      <td>170</td>\n      <td>29.1</td>\n    </tr>\n    <tr>\n      <th>1</th>\n      <td>Arizona</td>\n      <td>230</td>\n      <td>24.7</td>\n    </tr>\n    <tr>\n      <th>2</th>\n      <td>Arkansas</td>\n      <td>160</td>\n      <td>38.4</td>\n    </tr>\n    <tr>\n      <th>3</th>\n      <td>California</td>\n      <td>1060</td>\n      <td>18.8</td>\n    </tr>\n    <tr>\n      <th>4</th>\n      <td>Connecticut</td>\n      <td>70</td>\n      <td>25.0</td>\n    </tr>\n  </tbody>\n</table>\n</div>"
     },
     "execution_count": 102,
     "metadata": {},
     "output_type": "execute_result"
    }
   ]
  },
  {
   "cell_type": "code",
   "source": [
    "# scale these values by population\n",
    "\n",
    "cleaned_supply_df = cleaned_supply_df.merge(pops, on='State')"
   ],
   "metadata": {
    "id": "YXHkQEnVTvRj",
    "ExecuteTime": {
     "end_time": "2023-10-08T20:38:47.448999Z",
     "start_time": "2023-10-08T20:38:47.410704Z"
    }
   },
   "execution_count": 103,
   "outputs": []
  },
  {
   "cell_type": "code",
   "source": [
    "cleaned_supply_df.head()"
   ],
   "metadata": {
    "id": "YSEHz6CXT6ys",
    "colab": {
     "base_uri": "https://localhost:8080/",
     "height": 206
    },
    "outputId": "426db3d1-f4bc-48d7-ad06-182b016b4e8b",
    "ExecuteTime": {
     "end_time": "2023-10-08T20:38:47.942173Z",
     "start_time": "2023-10-08T20:38:47.912673Z"
    }
   },
   "execution_count": 104,
   "outputs": [
    {
     "data": {
      "text/plain": "         State Number of Prosthetists  \\\n0      Alabama                    170   \n1      Arizona                    230   \n2     Arkansas                    160   \n3   California                   1060   \n4  Connecticut                     70   \n\n  Employment percent relative standard error(3)  Population  \n0                                          29.1     4903185  \n1                                          24.7     7278717  \n2                                          38.4     3017804  \n3                                          18.8    39512223  \n4                                          25.0     3565287  ",
      "text/html": "<div>\n<style scoped>\n    .dataframe tbody tr th:only-of-type {\n        vertical-align: middle;\n    }\n\n    .dataframe tbody tr th {\n        vertical-align: top;\n    }\n\n    .dataframe thead th {\n        text-align: right;\n    }\n</style>\n<table border=\"1\" class=\"dataframe\">\n  <thead>\n    <tr style=\"text-align: right;\">\n      <th></th>\n      <th>State</th>\n      <th>Number of Prosthetists</th>\n      <th>Employment percent relative standard error(3)</th>\n      <th>Population</th>\n    </tr>\n  </thead>\n  <tbody>\n    <tr>\n      <th>0</th>\n      <td>Alabama</td>\n      <td>170</td>\n      <td>29.1</td>\n      <td>4903185</td>\n    </tr>\n    <tr>\n      <th>1</th>\n      <td>Arizona</td>\n      <td>230</td>\n      <td>24.7</td>\n      <td>7278717</td>\n    </tr>\n    <tr>\n      <th>2</th>\n      <td>Arkansas</td>\n      <td>160</td>\n      <td>38.4</td>\n      <td>3017804</td>\n    </tr>\n    <tr>\n      <th>3</th>\n      <td>California</td>\n      <td>1060</td>\n      <td>18.8</td>\n      <td>39512223</td>\n    </tr>\n    <tr>\n      <th>4</th>\n      <td>Connecticut</td>\n      <td>70</td>\n      <td>25.0</td>\n      <td>3565287</td>\n    </tr>\n  </tbody>\n</table>\n</div>"
     },
     "execution_count": 104,
     "metadata": {},
     "output_type": "execute_result"
    }
   ]
  },
  {
   "cell_type": "code",
   "source": [
    "#now add a column to find the prosthetists by capita\n",
    "\n",
    "cleaned_supply_df['Number of Prosthetists'] = pd.to_numeric(cleaned_supply_df['Number of Prosthetists'], errors='coerce')\n",
    "cleaned_supply_df['Population'] = pd.to_numeric(cleaned_supply_df['Population'], errors='coerce')\n",
    "\n",
    "# Calculate the 'prosthetists per capita' column\n",
    "cleaned_supply_df['prosthetists per capita'] = cleaned_supply_df['Number of Prosthetists'] / cleaned_supply_df['Population']\n",
    "\n",
    "# Display the updated df\n",
    "cleaned_supply_df.head()"
   ],
   "metadata": {
    "id": "mzf9Jg9IT8nP",
    "colab": {
     "base_uri": "https://localhost:8080/",
     "height": 206
    },
    "outputId": "1500e695-6d22-4d2a-d368-b9239d5953e9",
    "ExecuteTime": {
     "end_time": "2023-10-08T20:38:48.450577Z",
     "start_time": "2023-10-08T20:38:48.415495Z"
    }
   },
   "execution_count": 105,
   "outputs": [
    {
     "data": {
      "text/plain": "         State  Number of Prosthetists  \\\n0      Alabama                     170   \n1      Arizona                     230   \n2     Arkansas                     160   \n3   California                    1060   \n4  Connecticut                      70   \n\n  Employment percent relative standard error(3)  Population  \\\n0                                          29.1     4903185   \n1                                          24.7     7278717   \n2                                          38.4     3017804   \n3                                          18.8    39512223   \n4                                          25.0     3565287   \n\n   prosthetists per capita  \n0                 0.000035  \n1                 0.000032  \n2                 0.000053  \n3                 0.000027  \n4                 0.000020  ",
      "text/html": "<div>\n<style scoped>\n    .dataframe tbody tr th:only-of-type {\n        vertical-align: middle;\n    }\n\n    .dataframe tbody tr th {\n        vertical-align: top;\n    }\n\n    .dataframe thead th {\n        text-align: right;\n    }\n</style>\n<table border=\"1\" class=\"dataframe\">\n  <thead>\n    <tr style=\"text-align: right;\">\n      <th></th>\n      <th>State</th>\n      <th>Number of Prosthetists</th>\n      <th>Employment percent relative standard error(3)</th>\n      <th>Population</th>\n      <th>prosthetists per capita</th>\n    </tr>\n  </thead>\n  <tbody>\n    <tr>\n      <th>0</th>\n      <td>Alabama</td>\n      <td>170</td>\n      <td>29.1</td>\n      <td>4903185</td>\n      <td>0.000035</td>\n    </tr>\n    <tr>\n      <th>1</th>\n      <td>Arizona</td>\n      <td>230</td>\n      <td>24.7</td>\n      <td>7278717</td>\n      <td>0.000032</td>\n    </tr>\n    <tr>\n      <th>2</th>\n      <td>Arkansas</td>\n      <td>160</td>\n      <td>38.4</td>\n      <td>3017804</td>\n      <td>0.000053</td>\n    </tr>\n    <tr>\n      <th>3</th>\n      <td>California</td>\n      <td>1060</td>\n      <td>18.8</td>\n      <td>39512223</td>\n      <td>0.000027</td>\n    </tr>\n    <tr>\n      <th>4</th>\n      <td>Connecticut</td>\n      <td>70</td>\n      <td>25.0</td>\n      <td>3565287</td>\n      <td>0.000020</td>\n    </tr>\n  </tbody>\n</table>\n</div>"
     },
     "execution_count": 105,
     "metadata": {},
     "output_type": "execute_result"
    }
   ]
  },
  {
   "cell_type": "code",
   "source": [
    "#min max scale\n",
    "\n",
    "scaler = MinMaxScaler(feature_range=(0, 10))\n",
    "\n",
    "# Scale the 'prosthetists per capita' column using the scaler and create the 'Supply Score' column with the scaled values\n",
    "cleaned_supply_df['Supply Score'] = scaler.fit_transform(cleaned_supply_df[['prosthetists per capita']])"
   ],
   "metadata": {
    "id": "Y1Xlh0HMUAU7",
    "ExecuteTime": {
     "end_time": "2023-10-08T20:38:48.980746Z",
     "start_time": "2023-10-08T20:38:48.929604Z"
    }
   },
   "execution_count": 106,
   "outputs": []
  },
  {
   "cell_type": "code",
   "source": [
    "cleaned_supply_df.head()"
   ],
   "metadata": {
    "id": "ObdyhImIUC6m",
    "colab": {
     "base_uri": "https://localhost:8080/",
     "height": 206
    },
    "outputId": "237f8513-fcd9-47da-96bf-75ae8e1cc302",
    "ExecuteTime": {
     "end_time": "2023-10-08T20:38:49.407643Z",
     "start_time": "2023-10-08T20:38:49.378424Z"
    }
   },
   "execution_count": 107,
   "outputs": [
    {
     "data": {
      "text/plain": "         State  Number of Prosthetists  \\\n0      Alabama                     170   \n1      Arizona                     230   \n2     Arkansas                     160   \n3   California                    1060   \n4  Connecticut                      70   \n\n  Employment percent relative standard error(3)  Population  \\\n0                                          29.1     4903185   \n1                                          24.7     7278717   \n2                                          38.4     3017804   \n3                                          18.8    39512223   \n4                                          25.0     3565287   \n\n   prosthetists per capita  Supply Score  \n0                 0.000035      4.062962  \n1                 0.000032      3.482162  \n2                 0.000053      7.531347  \n3                 0.000027      2.580093  \n4                 0.000020      1.220256  ",
      "text/html": "<div>\n<style scoped>\n    .dataframe tbody tr th:only-of-type {\n        vertical-align: middle;\n    }\n\n    .dataframe tbody tr th {\n        vertical-align: top;\n    }\n\n    .dataframe thead th {\n        text-align: right;\n    }\n</style>\n<table border=\"1\" class=\"dataframe\">\n  <thead>\n    <tr style=\"text-align: right;\">\n      <th></th>\n      <th>State</th>\n      <th>Number of Prosthetists</th>\n      <th>Employment percent relative standard error(3)</th>\n      <th>Population</th>\n      <th>prosthetists per capita</th>\n      <th>Supply Score</th>\n    </tr>\n  </thead>\n  <tbody>\n    <tr>\n      <th>0</th>\n      <td>Alabama</td>\n      <td>170</td>\n      <td>29.1</td>\n      <td>4903185</td>\n      <td>0.000035</td>\n      <td>4.062962</td>\n    </tr>\n    <tr>\n      <th>1</th>\n      <td>Arizona</td>\n      <td>230</td>\n      <td>24.7</td>\n      <td>7278717</td>\n      <td>0.000032</td>\n      <td>3.482162</td>\n    </tr>\n    <tr>\n      <th>2</th>\n      <td>Arkansas</td>\n      <td>160</td>\n      <td>38.4</td>\n      <td>3017804</td>\n      <td>0.000053</td>\n      <td>7.531347</td>\n    </tr>\n    <tr>\n      <th>3</th>\n      <td>California</td>\n      <td>1060</td>\n      <td>18.8</td>\n      <td>39512223</td>\n      <td>0.000027</td>\n      <td>2.580093</td>\n    </tr>\n    <tr>\n      <th>4</th>\n      <td>Connecticut</td>\n      <td>70</td>\n      <td>25.0</td>\n      <td>3565287</td>\n      <td>0.000020</td>\n      <td>1.220256</td>\n    </tr>\n  </tbody>\n</table>\n</div>"
     },
     "execution_count": 107,
     "metadata": {},
     "output_type": "execute_result"
    }
   ]
  },
  {
   "cell_type": "code",
   "source": [
    "# Convert full state names to abbreviations\n",
    "cleaned_supply_df['State'] = cleaned_supply_df['State'].map(state_abbr)\n",
    "\n",
    "# Create a choropleth map using Plotly Express\n",
    "fig = px.choropleth(cleaned_supply_df,\n",
    "                    locations='State',\n",
    "                    locationmode='USA-states',\n",
    "                    color='Supply Score',\n",
    "                    scope='usa',\n",
    "                    color_continuous_scale='Viridis',\n",
    "                    labels={'Supply Score': 'Supply Score'},\n",
    "                    title='Supply Scores by State')\n",
    "\n",
    "# Show the plot\n",
    "fig.show()\n",
    "# 10 = lots of prostethists"
   ],
   "metadata": {
    "id": "rFQXZZRTUG-i",
    "colab": {
     "base_uri": "https://localhost:8080/",
     "height": 542
    },
    "outputId": "177494bf-11d6-4988-bfb9-d3f48b04fe61",
    "ExecuteTime": {
     "end_time": "2023-10-08T20:38:49.960703Z",
     "start_time": "2023-10-08T20:38:49.907369Z"
    }
   },
   "execution_count": 108,
   "outputs": [
    {
     "data": {
      "application/vnd.plotly.v1+json": {
       "data": [
        {
         "coloraxis": "coloraxis",
         "geo": "geo",
         "hovertemplate": "State=%{location}<br>Supply Score=%{z}<extra></extra>",
         "locationmode": "USA-states",
         "locations": [
          "AL",
          "AZ",
          "AR",
          "CA",
          "CT",
          "FL",
          "GA",
          "IL",
          "IN",
          "IA",
          "KS",
          "KY",
          "LA",
          "ME",
          "MD",
          "MA",
          "MI",
          "MN",
          "MS",
          "MO",
          "MT",
          "NE",
          "NV",
          "NH",
          "NJ",
          "NM",
          "NY",
          "NC",
          "OH",
          "OK",
          "OR",
          "PA",
          "RI",
          "SC",
          "TN",
          "TX",
          "UT",
          "VA",
          "WA",
          "WV"
         ],
         "name": "",
         "z": [
          4.062961973363402,
          3.4821615071100074,
          7.5313465826281885,
          2.580093318701952,
          1.2202559719108845,
          2.085559618071756,
          0.7135344868588889,
          3.62512870305444,
          6.213460647287006,
          0.5045019419534724,
          3.9975218318992867,
          3.0093619675906225,
          2.795050935653135,
          7.352974725188496,
          0.9482361169964992,
          1.6227249344384416,
          5.45882158287383,
          6.5590713441556225,
          0.6846052542382051,
          2.128866523832198,
          9.889939071418423,
          2.3949397688192904,
          5.487249680987196,
          5.850465661503369,
          3.89360333356136,
          4.721106707066141,
          0.618289287954549,
          3.6369412299493757,
          5.756582020432953,
          5.630258575362779,
          3.335322742518532,
          7.845213396769026,
          9.999999999999998,
          2.648925548847417,
          0.0,
          4.02823829977744,
          2.225907331454709,
          1.495231044583892,
          5.9492056707885315,
          7.002111607160286
         ],
         "type": "choropleth"
        }
       ],
       "layout": {
        "template": {
         "data": {
          "histogram2dcontour": [
           {
            "type": "histogram2dcontour",
            "colorbar": {
             "outlinewidth": 0,
             "ticks": ""
            },
            "colorscale": [
             [
              0.0,
              "#0d0887"
             ],
             [
              0.1111111111111111,
              "#46039f"
             ],
             [
              0.2222222222222222,
              "#7201a8"
             ],
             [
              0.3333333333333333,
              "#9c179e"
             ],
             [
              0.4444444444444444,
              "#bd3786"
             ],
             [
              0.5555555555555556,
              "#d8576b"
             ],
             [
              0.6666666666666666,
              "#ed7953"
             ],
             [
              0.7777777777777778,
              "#fb9f3a"
             ],
             [
              0.8888888888888888,
              "#fdca26"
             ],
             [
              1.0,
              "#f0f921"
             ]
            ]
           }
          ],
          "choropleth": [
           {
            "type": "choropleth",
            "colorbar": {
             "outlinewidth": 0,
             "ticks": ""
            }
           }
          ],
          "histogram2d": [
           {
            "type": "histogram2d",
            "colorbar": {
             "outlinewidth": 0,
             "ticks": ""
            },
            "colorscale": [
             [
              0.0,
              "#0d0887"
             ],
             [
              0.1111111111111111,
              "#46039f"
             ],
             [
              0.2222222222222222,
              "#7201a8"
             ],
             [
              0.3333333333333333,
              "#9c179e"
             ],
             [
              0.4444444444444444,
              "#bd3786"
             ],
             [
              0.5555555555555556,
              "#d8576b"
             ],
             [
              0.6666666666666666,
              "#ed7953"
             ],
             [
              0.7777777777777778,
              "#fb9f3a"
             ],
             [
              0.8888888888888888,
              "#fdca26"
             ],
             [
              1.0,
              "#f0f921"
             ]
            ]
           }
          ],
          "heatmap": [
           {
            "type": "heatmap",
            "colorbar": {
             "outlinewidth": 0,
             "ticks": ""
            },
            "colorscale": [
             [
              0.0,
              "#0d0887"
             ],
             [
              0.1111111111111111,
              "#46039f"
             ],
             [
              0.2222222222222222,
              "#7201a8"
             ],
             [
              0.3333333333333333,
              "#9c179e"
             ],
             [
              0.4444444444444444,
              "#bd3786"
             ],
             [
              0.5555555555555556,
              "#d8576b"
             ],
             [
              0.6666666666666666,
              "#ed7953"
             ],
             [
              0.7777777777777778,
              "#fb9f3a"
             ],
             [
              0.8888888888888888,
              "#fdca26"
             ],
             [
              1.0,
              "#f0f921"
             ]
            ]
           }
          ],
          "heatmapgl": [
           {
            "type": "heatmapgl",
            "colorbar": {
             "outlinewidth": 0,
             "ticks": ""
            },
            "colorscale": [
             [
              0.0,
              "#0d0887"
             ],
             [
              0.1111111111111111,
              "#46039f"
             ],
             [
              0.2222222222222222,
              "#7201a8"
             ],
             [
              0.3333333333333333,
              "#9c179e"
             ],
             [
              0.4444444444444444,
              "#bd3786"
             ],
             [
              0.5555555555555556,
              "#d8576b"
             ],
             [
              0.6666666666666666,
              "#ed7953"
             ],
             [
              0.7777777777777778,
              "#fb9f3a"
             ],
             [
              0.8888888888888888,
              "#fdca26"
             ],
             [
              1.0,
              "#f0f921"
             ]
            ]
           }
          ],
          "contourcarpet": [
           {
            "type": "contourcarpet",
            "colorbar": {
             "outlinewidth": 0,
             "ticks": ""
            }
           }
          ],
          "contour": [
           {
            "type": "contour",
            "colorbar": {
             "outlinewidth": 0,
             "ticks": ""
            },
            "colorscale": [
             [
              0.0,
              "#0d0887"
             ],
             [
              0.1111111111111111,
              "#46039f"
             ],
             [
              0.2222222222222222,
              "#7201a8"
             ],
             [
              0.3333333333333333,
              "#9c179e"
             ],
             [
              0.4444444444444444,
              "#bd3786"
             ],
             [
              0.5555555555555556,
              "#d8576b"
             ],
             [
              0.6666666666666666,
              "#ed7953"
             ],
             [
              0.7777777777777778,
              "#fb9f3a"
             ],
             [
              0.8888888888888888,
              "#fdca26"
             ],
             [
              1.0,
              "#f0f921"
             ]
            ]
           }
          ],
          "surface": [
           {
            "type": "surface",
            "colorbar": {
             "outlinewidth": 0,
             "ticks": ""
            },
            "colorscale": [
             [
              0.0,
              "#0d0887"
             ],
             [
              0.1111111111111111,
              "#46039f"
             ],
             [
              0.2222222222222222,
              "#7201a8"
             ],
             [
              0.3333333333333333,
              "#9c179e"
             ],
             [
              0.4444444444444444,
              "#bd3786"
             ],
             [
              0.5555555555555556,
              "#d8576b"
             ],
             [
              0.6666666666666666,
              "#ed7953"
             ],
             [
              0.7777777777777778,
              "#fb9f3a"
             ],
             [
              0.8888888888888888,
              "#fdca26"
             ],
             [
              1.0,
              "#f0f921"
             ]
            ]
           }
          ],
          "mesh3d": [
           {
            "type": "mesh3d",
            "colorbar": {
             "outlinewidth": 0,
             "ticks": ""
            }
           }
          ],
          "scatter": [
           {
            "marker": {
             "line": {
              "color": "#283442"
             }
            },
            "type": "scatter"
           }
          ],
          "parcoords": [
           {
            "type": "parcoords",
            "line": {
             "colorbar": {
              "outlinewidth": 0,
              "ticks": ""
             }
            }
           }
          ],
          "scatterpolargl": [
           {
            "type": "scatterpolargl",
            "marker": {
             "colorbar": {
              "outlinewidth": 0,
              "ticks": ""
             }
            }
           }
          ],
          "bar": [
           {
            "error_x": {
             "color": "#f2f5fa"
            },
            "error_y": {
             "color": "#f2f5fa"
            },
            "marker": {
             "line": {
              "color": "rgb(17,17,17)",
              "width": 0.5
             },
             "pattern": {
              "fillmode": "overlay",
              "size": 10,
              "solidity": 0.2
             }
            },
            "type": "bar"
           }
          ],
          "scattergeo": [
           {
            "type": "scattergeo",
            "marker": {
             "colorbar": {
              "outlinewidth": 0,
              "ticks": ""
             }
            }
           }
          ],
          "scatterpolar": [
           {
            "type": "scatterpolar",
            "marker": {
             "colorbar": {
              "outlinewidth": 0,
              "ticks": ""
             }
            }
           }
          ],
          "histogram": [
           {
            "marker": {
             "pattern": {
              "fillmode": "overlay",
              "size": 10,
              "solidity": 0.2
             }
            },
            "type": "histogram"
           }
          ],
          "scattergl": [
           {
            "marker": {
             "line": {
              "color": "#283442"
             }
            },
            "type": "scattergl"
           }
          ],
          "scatter3d": [
           {
            "type": "scatter3d",
            "line": {
             "colorbar": {
              "outlinewidth": 0,
              "ticks": ""
             }
            },
            "marker": {
             "colorbar": {
              "outlinewidth": 0,
              "ticks": ""
             }
            }
           }
          ],
          "scattermapbox": [
           {
            "type": "scattermapbox",
            "marker": {
             "colorbar": {
              "outlinewidth": 0,
              "ticks": ""
             }
            }
           }
          ],
          "scatterternary": [
           {
            "type": "scatterternary",
            "marker": {
             "colorbar": {
              "outlinewidth": 0,
              "ticks": ""
             }
            }
           }
          ],
          "scattercarpet": [
           {
            "type": "scattercarpet",
            "marker": {
             "colorbar": {
              "outlinewidth": 0,
              "ticks": ""
             }
            }
           }
          ],
          "carpet": [
           {
            "aaxis": {
             "endlinecolor": "#A2B1C6",
             "gridcolor": "#506784",
             "linecolor": "#506784",
             "minorgridcolor": "#506784",
             "startlinecolor": "#A2B1C6"
            },
            "baxis": {
             "endlinecolor": "#A2B1C6",
             "gridcolor": "#506784",
             "linecolor": "#506784",
             "minorgridcolor": "#506784",
             "startlinecolor": "#A2B1C6"
            },
            "type": "carpet"
           }
          ],
          "table": [
           {
            "cells": {
             "fill": {
              "color": "#506784"
             },
             "line": {
              "color": "rgb(17,17,17)"
             }
            },
            "header": {
             "fill": {
              "color": "#2a3f5f"
             },
             "line": {
              "color": "rgb(17,17,17)"
             }
            },
            "type": "table"
           }
          ],
          "barpolar": [
           {
            "marker": {
             "line": {
              "color": "rgb(17,17,17)",
              "width": 0.5
             },
             "pattern": {
              "fillmode": "overlay",
              "size": 10,
              "solidity": 0.2
             }
            },
            "type": "barpolar"
           }
          ],
          "pie": [
           {
            "automargin": true,
            "type": "pie"
           }
          ]
         },
         "layout": {
          "autotypenumbers": "strict",
          "colorway": [
           "#636efa",
           "#EF553B",
           "#00cc96",
           "#ab63fa",
           "#FFA15A",
           "#19d3f3",
           "#FF6692",
           "#B6E880",
           "#FF97FF",
           "#FECB52"
          ],
          "font": {
           "color": "#f2f5fa"
          },
          "hovermode": "closest",
          "hoverlabel": {
           "align": "left"
          },
          "paper_bgcolor": "rgb(17,17,17)",
          "plot_bgcolor": "rgb(17,17,17)",
          "polar": {
           "bgcolor": "rgb(17,17,17)",
           "angularaxis": {
            "gridcolor": "#506784",
            "linecolor": "#506784",
            "ticks": ""
           },
           "radialaxis": {
            "gridcolor": "#506784",
            "linecolor": "#506784",
            "ticks": ""
           }
          },
          "ternary": {
           "bgcolor": "rgb(17,17,17)",
           "aaxis": {
            "gridcolor": "#506784",
            "linecolor": "#506784",
            "ticks": ""
           },
           "baxis": {
            "gridcolor": "#506784",
            "linecolor": "#506784",
            "ticks": ""
           },
           "caxis": {
            "gridcolor": "#506784",
            "linecolor": "#506784",
            "ticks": ""
           }
          },
          "coloraxis": {
           "colorbar": {
            "outlinewidth": 0,
            "ticks": ""
           }
          },
          "colorscale": {
           "sequential": [
            [
             0.0,
             "#0d0887"
            ],
            [
             0.1111111111111111,
             "#46039f"
            ],
            [
             0.2222222222222222,
             "#7201a8"
            ],
            [
             0.3333333333333333,
             "#9c179e"
            ],
            [
             0.4444444444444444,
             "#bd3786"
            ],
            [
             0.5555555555555556,
             "#d8576b"
            ],
            [
             0.6666666666666666,
             "#ed7953"
            ],
            [
             0.7777777777777778,
             "#fb9f3a"
            ],
            [
             0.8888888888888888,
             "#fdca26"
            ],
            [
             1.0,
             "#f0f921"
            ]
           ],
           "sequentialminus": [
            [
             0.0,
             "#0d0887"
            ],
            [
             0.1111111111111111,
             "#46039f"
            ],
            [
             0.2222222222222222,
             "#7201a8"
            ],
            [
             0.3333333333333333,
             "#9c179e"
            ],
            [
             0.4444444444444444,
             "#bd3786"
            ],
            [
             0.5555555555555556,
             "#d8576b"
            ],
            [
             0.6666666666666666,
             "#ed7953"
            ],
            [
             0.7777777777777778,
             "#fb9f3a"
            ],
            [
             0.8888888888888888,
             "#fdca26"
            ],
            [
             1.0,
             "#f0f921"
            ]
           ],
           "diverging": [
            [
             0,
             "#8e0152"
            ],
            [
             0.1,
             "#c51b7d"
            ],
            [
             0.2,
             "#de77ae"
            ],
            [
             0.3,
             "#f1b6da"
            ],
            [
             0.4,
             "#fde0ef"
            ],
            [
             0.5,
             "#f7f7f7"
            ],
            [
             0.6,
             "#e6f5d0"
            ],
            [
             0.7,
             "#b8e186"
            ],
            [
             0.8,
             "#7fbc41"
            ],
            [
             0.9,
             "#4d9221"
            ],
            [
             1,
             "#276419"
            ]
           ]
          },
          "xaxis": {
           "gridcolor": "#283442",
           "linecolor": "#506784",
           "ticks": "",
           "title": {
            "standoff": 15
           },
           "zerolinecolor": "#283442",
           "automargin": true,
           "zerolinewidth": 2
          },
          "yaxis": {
           "gridcolor": "#283442",
           "linecolor": "#506784",
           "ticks": "",
           "title": {
            "standoff": 15
           },
           "zerolinecolor": "#283442",
           "automargin": true,
           "zerolinewidth": 2
          },
          "scene": {
           "xaxis": {
            "backgroundcolor": "rgb(17,17,17)",
            "gridcolor": "#506784",
            "linecolor": "#506784",
            "showbackground": true,
            "ticks": "",
            "zerolinecolor": "#C8D4E3",
            "gridwidth": 2
           },
           "yaxis": {
            "backgroundcolor": "rgb(17,17,17)",
            "gridcolor": "#506784",
            "linecolor": "#506784",
            "showbackground": true,
            "ticks": "",
            "zerolinecolor": "#C8D4E3",
            "gridwidth": 2
           },
           "zaxis": {
            "backgroundcolor": "rgb(17,17,17)",
            "gridcolor": "#506784",
            "linecolor": "#506784",
            "showbackground": true,
            "ticks": "",
            "zerolinecolor": "#C8D4E3",
            "gridwidth": 2
           }
          },
          "shapedefaults": {
           "line": {
            "color": "#f2f5fa"
           }
          },
          "annotationdefaults": {
           "arrowcolor": "#f2f5fa",
           "arrowhead": 0,
           "arrowwidth": 1
          },
          "geo": {
           "bgcolor": "rgb(17,17,17)",
           "landcolor": "rgb(17,17,17)",
           "subunitcolor": "#506784",
           "showland": true,
           "showlakes": true,
           "lakecolor": "rgb(17,17,17)"
          },
          "title": {
           "x": 0.05
          },
          "updatemenudefaults": {
           "bgcolor": "#506784",
           "borderwidth": 0
          },
          "sliderdefaults": {
           "bgcolor": "#C8D4E3",
           "borderwidth": 1,
           "bordercolor": "rgb(17,17,17)",
           "tickwidth": 0
          },
          "mapbox": {
           "style": "dark"
          }
         }
        },
        "geo": {
         "domain": {
          "x": [
           0.0,
           1.0
          ],
          "y": [
           0.0,
           1.0
          ]
         },
         "center": {},
         "scope": "usa"
        },
        "coloraxis": {
         "colorbar": {
          "title": {
           "text": "Supply Score"
          }
         },
         "colorscale": [
          [
           0.0,
           "#440154"
          ],
          [
           0.1111111111111111,
           "#482878"
          ],
          [
           0.2222222222222222,
           "#3e4989"
          ],
          [
           0.3333333333333333,
           "#31688e"
          ],
          [
           0.4444444444444444,
           "#26828e"
          ],
          [
           0.5555555555555556,
           "#1f9e89"
          ],
          [
           0.6666666666666666,
           "#35b779"
          ],
          [
           0.7777777777777778,
           "#6ece58"
          ],
          [
           0.8888888888888888,
           "#b5de2b"
          ],
          [
           1.0,
           "#fde725"
          ]
         ]
        },
        "legend": {
         "tracegroupgap": 0
        },
        "title": {
         "text": "Supply Scores by State"
        }
       },
       "config": {
        "plotlyServerURL": "https://plot.ly"
       }
      },
      "text/html": "<div>                            <div id=\"dd27cb8e-e11c-41ff-bc19-f9d1df6793be\" class=\"plotly-graph-div\" style=\"height:525px; width:100%;\"></div>            <script type=\"text/javascript\">                require([\"plotly\"], function(Plotly) {                    window.PLOTLYENV=window.PLOTLYENV || {};                                    if (document.getElementById(\"dd27cb8e-e11c-41ff-bc19-f9d1df6793be\")) {                    Plotly.newPlot(                        \"dd27cb8e-e11c-41ff-bc19-f9d1df6793be\",                        [{\"coloraxis\":\"coloraxis\",\"geo\":\"geo\",\"hovertemplate\":\"State=%{location}\\u003cbr\\u003eSupply Score=%{z}\\u003cextra\\u003e\\u003c\\u002fextra\\u003e\",\"locationmode\":\"USA-states\",\"locations\":[\"AL\",\"AZ\",\"AR\",\"CA\",\"CT\",\"FL\",\"GA\",\"IL\",\"IN\",\"IA\",\"KS\",\"KY\",\"LA\",\"ME\",\"MD\",\"MA\",\"MI\",\"MN\",\"MS\",\"MO\",\"MT\",\"NE\",\"NV\",\"NH\",\"NJ\",\"NM\",\"NY\",\"NC\",\"OH\",\"OK\",\"OR\",\"PA\",\"RI\",\"SC\",\"TN\",\"TX\",\"UT\",\"VA\",\"WA\",\"WV\"],\"name\":\"\",\"z\":[4.062961973363402,3.4821615071100074,7.5313465826281885,2.580093318701952,1.2202559719108845,2.085559618071756,0.7135344868588889,3.62512870305444,6.213460647287006,0.5045019419534724,3.9975218318992867,3.0093619675906225,2.795050935653135,7.352974725188496,0.9482361169964992,1.6227249344384416,5.45882158287383,6.5590713441556225,0.6846052542382051,2.128866523832198,9.889939071418423,2.3949397688192904,5.487249680987196,5.850465661503369,3.89360333356136,4.721106707066141,0.618289287954549,3.6369412299493757,5.756582020432953,5.630258575362779,3.335322742518532,7.845213396769026,9.999999999999998,2.648925548847417,0.0,4.02823829977744,2.225907331454709,1.495231044583892,5.9492056707885315,7.002111607160286],\"type\":\"choropleth\"}],                        {\"template\":{\"data\":{\"histogram2dcontour\":[{\"type\":\"histogram2dcontour\",\"colorbar\":{\"outlinewidth\":0,\"ticks\":\"\"},\"colorscale\":[[0.0,\"#0d0887\"],[0.1111111111111111,\"#46039f\"],[0.2222222222222222,\"#7201a8\"],[0.3333333333333333,\"#9c179e\"],[0.4444444444444444,\"#bd3786\"],[0.5555555555555556,\"#d8576b\"],[0.6666666666666666,\"#ed7953\"],[0.7777777777777778,\"#fb9f3a\"],[0.8888888888888888,\"#fdca26\"],[1.0,\"#f0f921\"]]}],\"choropleth\":[{\"type\":\"choropleth\",\"colorbar\":{\"outlinewidth\":0,\"ticks\":\"\"}}],\"histogram2d\":[{\"type\":\"histogram2d\",\"colorbar\":{\"outlinewidth\":0,\"ticks\":\"\"},\"colorscale\":[[0.0,\"#0d0887\"],[0.1111111111111111,\"#46039f\"],[0.2222222222222222,\"#7201a8\"],[0.3333333333333333,\"#9c179e\"],[0.4444444444444444,\"#bd3786\"],[0.5555555555555556,\"#d8576b\"],[0.6666666666666666,\"#ed7953\"],[0.7777777777777778,\"#fb9f3a\"],[0.8888888888888888,\"#fdca26\"],[1.0,\"#f0f921\"]]}],\"heatmap\":[{\"type\":\"heatmap\",\"colorbar\":{\"outlinewidth\":0,\"ticks\":\"\"},\"colorscale\":[[0.0,\"#0d0887\"],[0.1111111111111111,\"#46039f\"],[0.2222222222222222,\"#7201a8\"],[0.3333333333333333,\"#9c179e\"],[0.4444444444444444,\"#bd3786\"],[0.5555555555555556,\"#d8576b\"],[0.6666666666666666,\"#ed7953\"],[0.7777777777777778,\"#fb9f3a\"],[0.8888888888888888,\"#fdca26\"],[1.0,\"#f0f921\"]]}],\"heatmapgl\":[{\"type\":\"heatmapgl\",\"colorbar\":{\"outlinewidth\":0,\"ticks\":\"\"},\"colorscale\":[[0.0,\"#0d0887\"],[0.1111111111111111,\"#46039f\"],[0.2222222222222222,\"#7201a8\"],[0.3333333333333333,\"#9c179e\"],[0.4444444444444444,\"#bd3786\"],[0.5555555555555556,\"#d8576b\"],[0.6666666666666666,\"#ed7953\"],[0.7777777777777778,\"#fb9f3a\"],[0.8888888888888888,\"#fdca26\"],[1.0,\"#f0f921\"]]}],\"contourcarpet\":[{\"type\":\"contourcarpet\",\"colorbar\":{\"outlinewidth\":0,\"ticks\":\"\"}}],\"contour\":[{\"type\":\"contour\",\"colorbar\":{\"outlinewidth\":0,\"ticks\":\"\"},\"colorscale\":[[0.0,\"#0d0887\"],[0.1111111111111111,\"#46039f\"],[0.2222222222222222,\"#7201a8\"],[0.3333333333333333,\"#9c179e\"],[0.4444444444444444,\"#bd3786\"],[0.5555555555555556,\"#d8576b\"],[0.6666666666666666,\"#ed7953\"],[0.7777777777777778,\"#fb9f3a\"],[0.8888888888888888,\"#fdca26\"],[1.0,\"#f0f921\"]]}],\"surface\":[{\"type\":\"surface\",\"colorbar\":{\"outlinewidth\":0,\"ticks\":\"\"},\"colorscale\":[[0.0,\"#0d0887\"],[0.1111111111111111,\"#46039f\"],[0.2222222222222222,\"#7201a8\"],[0.3333333333333333,\"#9c179e\"],[0.4444444444444444,\"#bd3786\"],[0.5555555555555556,\"#d8576b\"],[0.6666666666666666,\"#ed7953\"],[0.7777777777777778,\"#fb9f3a\"],[0.8888888888888888,\"#fdca26\"],[1.0,\"#f0f921\"]]}],\"mesh3d\":[{\"type\":\"mesh3d\",\"colorbar\":{\"outlinewidth\":0,\"ticks\":\"\"}}],\"scatter\":[{\"marker\":{\"line\":{\"color\":\"#283442\"}},\"type\":\"scatter\"}],\"parcoords\":[{\"type\":\"parcoords\",\"line\":{\"colorbar\":{\"outlinewidth\":0,\"ticks\":\"\"}}}],\"scatterpolargl\":[{\"type\":\"scatterpolargl\",\"marker\":{\"colorbar\":{\"outlinewidth\":0,\"ticks\":\"\"}}}],\"bar\":[{\"error_x\":{\"color\":\"#f2f5fa\"},\"error_y\":{\"color\":\"#f2f5fa\"},\"marker\":{\"line\":{\"color\":\"rgb(17,17,17)\",\"width\":0.5},\"pattern\":{\"fillmode\":\"overlay\",\"size\":10,\"solidity\":0.2}},\"type\":\"bar\"}],\"scattergeo\":[{\"type\":\"scattergeo\",\"marker\":{\"colorbar\":{\"outlinewidth\":0,\"ticks\":\"\"}}}],\"scatterpolar\":[{\"type\":\"scatterpolar\",\"marker\":{\"colorbar\":{\"outlinewidth\":0,\"ticks\":\"\"}}}],\"histogram\":[{\"marker\":{\"pattern\":{\"fillmode\":\"overlay\",\"size\":10,\"solidity\":0.2}},\"type\":\"histogram\"}],\"scattergl\":[{\"marker\":{\"line\":{\"color\":\"#283442\"}},\"type\":\"scattergl\"}],\"scatter3d\":[{\"type\":\"scatter3d\",\"line\":{\"colorbar\":{\"outlinewidth\":0,\"ticks\":\"\"}},\"marker\":{\"colorbar\":{\"outlinewidth\":0,\"ticks\":\"\"}}}],\"scattermapbox\":[{\"type\":\"scattermapbox\",\"marker\":{\"colorbar\":{\"outlinewidth\":0,\"ticks\":\"\"}}}],\"scatterternary\":[{\"type\":\"scatterternary\",\"marker\":{\"colorbar\":{\"outlinewidth\":0,\"ticks\":\"\"}}}],\"scattercarpet\":[{\"type\":\"scattercarpet\",\"marker\":{\"colorbar\":{\"outlinewidth\":0,\"ticks\":\"\"}}}],\"carpet\":[{\"aaxis\":{\"endlinecolor\":\"#A2B1C6\",\"gridcolor\":\"#506784\",\"linecolor\":\"#506784\",\"minorgridcolor\":\"#506784\",\"startlinecolor\":\"#A2B1C6\"},\"baxis\":{\"endlinecolor\":\"#A2B1C6\",\"gridcolor\":\"#506784\",\"linecolor\":\"#506784\",\"minorgridcolor\":\"#506784\",\"startlinecolor\":\"#A2B1C6\"},\"type\":\"carpet\"}],\"table\":[{\"cells\":{\"fill\":{\"color\":\"#506784\"},\"line\":{\"color\":\"rgb(17,17,17)\"}},\"header\":{\"fill\":{\"color\":\"#2a3f5f\"},\"line\":{\"color\":\"rgb(17,17,17)\"}},\"type\":\"table\"}],\"barpolar\":[{\"marker\":{\"line\":{\"color\":\"rgb(17,17,17)\",\"width\":0.5},\"pattern\":{\"fillmode\":\"overlay\",\"size\":10,\"solidity\":0.2}},\"type\":\"barpolar\"}],\"pie\":[{\"automargin\":true,\"type\":\"pie\"}]},\"layout\":{\"autotypenumbers\":\"strict\",\"colorway\":[\"#636efa\",\"#EF553B\",\"#00cc96\",\"#ab63fa\",\"#FFA15A\",\"#19d3f3\",\"#FF6692\",\"#B6E880\",\"#FF97FF\",\"#FECB52\"],\"font\":{\"color\":\"#f2f5fa\"},\"hovermode\":\"closest\",\"hoverlabel\":{\"align\":\"left\"},\"paper_bgcolor\":\"rgb(17,17,17)\",\"plot_bgcolor\":\"rgb(17,17,17)\",\"polar\":{\"bgcolor\":\"rgb(17,17,17)\",\"angularaxis\":{\"gridcolor\":\"#506784\",\"linecolor\":\"#506784\",\"ticks\":\"\"},\"radialaxis\":{\"gridcolor\":\"#506784\",\"linecolor\":\"#506784\",\"ticks\":\"\"}},\"ternary\":{\"bgcolor\":\"rgb(17,17,17)\",\"aaxis\":{\"gridcolor\":\"#506784\",\"linecolor\":\"#506784\",\"ticks\":\"\"},\"baxis\":{\"gridcolor\":\"#506784\",\"linecolor\":\"#506784\",\"ticks\":\"\"},\"caxis\":{\"gridcolor\":\"#506784\",\"linecolor\":\"#506784\",\"ticks\":\"\"}},\"coloraxis\":{\"colorbar\":{\"outlinewidth\":0,\"ticks\":\"\"}},\"colorscale\":{\"sequential\":[[0.0,\"#0d0887\"],[0.1111111111111111,\"#46039f\"],[0.2222222222222222,\"#7201a8\"],[0.3333333333333333,\"#9c179e\"],[0.4444444444444444,\"#bd3786\"],[0.5555555555555556,\"#d8576b\"],[0.6666666666666666,\"#ed7953\"],[0.7777777777777778,\"#fb9f3a\"],[0.8888888888888888,\"#fdca26\"],[1.0,\"#f0f921\"]],\"sequentialminus\":[[0.0,\"#0d0887\"],[0.1111111111111111,\"#46039f\"],[0.2222222222222222,\"#7201a8\"],[0.3333333333333333,\"#9c179e\"],[0.4444444444444444,\"#bd3786\"],[0.5555555555555556,\"#d8576b\"],[0.6666666666666666,\"#ed7953\"],[0.7777777777777778,\"#fb9f3a\"],[0.8888888888888888,\"#fdca26\"],[1.0,\"#f0f921\"]],\"diverging\":[[0,\"#8e0152\"],[0.1,\"#c51b7d\"],[0.2,\"#de77ae\"],[0.3,\"#f1b6da\"],[0.4,\"#fde0ef\"],[0.5,\"#f7f7f7\"],[0.6,\"#e6f5d0\"],[0.7,\"#b8e186\"],[0.8,\"#7fbc41\"],[0.9,\"#4d9221\"],[1,\"#276419\"]]},\"xaxis\":{\"gridcolor\":\"#283442\",\"linecolor\":\"#506784\",\"ticks\":\"\",\"title\":{\"standoff\":15},\"zerolinecolor\":\"#283442\",\"automargin\":true,\"zerolinewidth\":2},\"yaxis\":{\"gridcolor\":\"#283442\",\"linecolor\":\"#506784\",\"ticks\":\"\",\"title\":{\"standoff\":15},\"zerolinecolor\":\"#283442\",\"automargin\":true,\"zerolinewidth\":2},\"scene\":{\"xaxis\":{\"backgroundcolor\":\"rgb(17,17,17)\",\"gridcolor\":\"#506784\",\"linecolor\":\"#506784\",\"showbackground\":true,\"ticks\":\"\",\"zerolinecolor\":\"#C8D4E3\",\"gridwidth\":2},\"yaxis\":{\"backgroundcolor\":\"rgb(17,17,17)\",\"gridcolor\":\"#506784\",\"linecolor\":\"#506784\",\"showbackground\":true,\"ticks\":\"\",\"zerolinecolor\":\"#C8D4E3\",\"gridwidth\":2},\"zaxis\":{\"backgroundcolor\":\"rgb(17,17,17)\",\"gridcolor\":\"#506784\",\"linecolor\":\"#506784\",\"showbackground\":true,\"ticks\":\"\",\"zerolinecolor\":\"#C8D4E3\",\"gridwidth\":2}},\"shapedefaults\":{\"line\":{\"color\":\"#f2f5fa\"}},\"annotationdefaults\":{\"arrowcolor\":\"#f2f5fa\",\"arrowhead\":0,\"arrowwidth\":1},\"geo\":{\"bgcolor\":\"rgb(17,17,17)\",\"landcolor\":\"rgb(17,17,17)\",\"subunitcolor\":\"#506784\",\"showland\":true,\"showlakes\":true,\"lakecolor\":\"rgb(17,17,17)\"},\"title\":{\"x\":0.05},\"updatemenudefaults\":{\"bgcolor\":\"#506784\",\"borderwidth\":0},\"sliderdefaults\":{\"bgcolor\":\"#C8D4E3\",\"borderwidth\":1,\"bordercolor\":\"rgb(17,17,17)\",\"tickwidth\":0},\"mapbox\":{\"style\":\"dark\"}}},\"geo\":{\"domain\":{\"x\":[0.0,1.0],\"y\":[0.0,1.0]},\"center\":{},\"scope\":\"usa\"},\"coloraxis\":{\"colorbar\":{\"title\":{\"text\":\"Supply Score\"}},\"colorscale\":[[0.0,\"#440154\"],[0.1111111111111111,\"#482878\"],[0.2222222222222222,\"#3e4989\"],[0.3333333333333333,\"#31688e\"],[0.4444444444444444,\"#26828e\"],[0.5555555555555556,\"#1f9e89\"],[0.6666666666666666,\"#35b779\"],[0.7777777777777778,\"#6ece58\"],[0.8888888888888888,\"#b5de2b\"],[1.0,\"#fde725\"]]},\"legend\":{\"tracegroupgap\":0},\"title\":{\"text\":\"Supply Scores by State\"}},                        {\"responsive\": true}                    ).then(function(){\n                            \nvar gd = document.getElementById('dd27cb8e-e11c-41ff-bc19-f9d1df6793be');\nvar x = new MutationObserver(function (mutations, observer) {{\n        var display = window.getComputedStyle(gd).display;\n        if (!display || display === 'none') {{\n            console.log([gd, 'removed!']);\n            Plotly.purge(gd);\n            observer.disconnect();\n        }}\n}});\n\n// Listen for the removal of the full notebook cells\nvar notebookContainer = gd.closest('#notebook-container');\nif (notebookContainer) {{\n    x.observe(notebookContainer, {childList: true});\n}}\n\n// Listen for the clearing of the current output cell\nvar outputEl = gd.closest('.output');\nif (outputEl) {{\n    x.observe(outputEl, {childList: true});\n}}\n\n                        })                };                });            </script>        </div>"
     },
     "metadata": {},
     "output_type": "display_data"
    }
   ]
  },
  {
   "cell_type": "code",
   "source": [
    "#fig.write_html(\"visual_four.html\")\n",
    "#pio.write_image(fig, \"visual_four.png\", format='png', engine='kaleido')"
   ],
   "metadata": {
    "id": "YZ4-vV8Zyy6K",
    "ExecuteTime": {
     "end_time": "2023-10-08T20:38:50.549744Z",
     "start_time": "2023-10-08T20:38:50.486085Z"
    }
   },
   "execution_count": 109,
   "outputs": []
  },
  {
   "cell_type": "code",
   "source": [
    "cleaned_supply_df.head()"
   ],
   "metadata": {
    "id": "UL1xZ_-BUM75",
    "colab": {
     "base_uri": "https://localhost:8080/",
     "height": 206
    },
    "outputId": "f0afde6d-81c3-4ad0-c2e6-ccfdec3e3c58",
    "ExecuteTime": {
     "end_time": "2023-10-08T20:38:50.952323Z",
     "start_time": "2023-10-08T20:38:50.921495Z"
    }
   },
   "execution_count": 110,
   "outputs": [
    {
     "data": {
      "text/plain": "  State  Number of Prosthetists Employment percent relative standard error(3)  \\\n0    AL                     170                                          29.1   \n1    AZ                     230                                          24.7   \n2    AR                     160                                          38.4   \n3    CA                    1060                                          18.8   \n4    CT                      70                                          25.0   \n\n   Population  prosthetists per capita  Supply Score  \n0     4903185                 0.000035      4.062962  \n1     7278717                 0.000032      3.482162  \n2     3017804                 0.000053      7.531347  \n3    39512223                 0.000027      2.580093  \n4     3565287                 0.000020      1.220256  ",
      "text/html": "<div>\n<style scoped>\n    .dataframe tbody tr th:only-of-type {\n        vertical-align: middle;\n    }\n\n    .dataframe tbody tr th {\n        vertical-align: top;\n    }\n\n    .dataframe thead th {\n        text-align: right;\n    }\n</style>\n<table border=\"1\" class=\"dataframe\">\n  <thead>\n    <tr style=\"text-align: right;\">\n      <th></th>\n      <th>State</th>\n      <th>Number of Prosthetists</th>\n      <th>Employment percent relative standard error(3)</th>\n      <th>Population</th>\n      <th>prosthetists per capita</th>\n      <th>Supply Score</th>\n    </tr>\n  </thead>\n  <tbody>\n    <tr>\n      <th>0</th>\n      <td>AL</td>\n      <td>170</td>\n      <td>29.1</td>\n      <td>4903185</td>\n      <td>0.000035</td>\n      <td>4.062962</td>\n    </tr>\n    <tr>\n      <th>1</th>\n      <td>AZ</td>\n      <td>230</td>\n      <td>24.7</td>\n      <td>7278717</td>\n      <td>0.000032</td>\n      <td>3.482162</td>\n    </tr>\n    <tr>\n      <th>2</th>\n      <td>AR</td>\n      <td>160</td>\n      <td>38.4</td>\n      <td>3017804</td>\n      <td>0.000053</td>\n      <td>7.531347</td>\n    </tr>\n    <tr>\n      <th>3</th>\n      <td>CA</td>\n      <td>1060</td>\n      <td>18.8</td>\n      <td>39512223</td>\n      <td>0.000027</td>\n      <td>2.580093</td>\n    </tr>\n    <tr>\n      <th>4</th>\n      <td>CT</td>\n      <td>70</td>\n      <td>25.0</td>\n      <td>3565287</td>\n      <td>0.000020</td>\n      <td>1.220256</td>\n    </tr>\n  </tbody>\n</table>\n</div>"
     },
     "execution_count": 110,
     "metadata": {},
     "output_type": "execute_result"
    }
   ]
  },
  {
   "cell_type": "code",
   "source": [
    "df_weighted.head()"
   ],
   "metadata": {
    "id": "cBeCcyDEUP2G",
    "colab": {
     "base_uri": "https://localhost:8080/",
     "height": 270
    },
    "outputId": "15783635-3286-4828-8e93-cc8fe78a7a23",
    "ExecuteTime": {
     "end_time": "2023-10-08T20:38:51.474432Z",
     "start_time": "2023-10-08T20:38:51.420676Z"
    }
   },
   "execution_count": 111,
   "outputs": [
    {
     "data": {
      "text/plain": "  State  Accidents_2018_proportion  Accidents_2019_proportion  \\\n0   NaN                   0.112200                   0.105825   \n1   NaN                   0.042698                   0.039538   \n2   NaN                   0.068904                   0.069052   \n3   NaN                   0.094953                   0.092658   \n4   NaN                   0.037655                   0.041000   \n\n   Accidents_2020_proportion  Current_smokers_proportion  \\\n0                   0.089545                    0.078145   \n1                   0.017726                    0.075626   \n2                   0.060544                    0.040941   \n3                   0.103782                    0.084366   \n4                   0.030201                    0.018003   \n\n   number_of_veterans_proportion  Proportion_diabetic  total_score  \n0                       0.041406             0.242188     8.880613  \n1                       0.070000             0.027344     2.689363  \n2                       0.037288             0.117187     4.579098  \n3                       0.037412             0.195312     7.930537  \n4                       0.004141             0.097656     1.997779  ",
      "text/html": "<div>\n<style scoped>\n    .dataframe tbody tr th:only-of-type {\n        vertical-align: middle;\n    }\n\n    .dataframe tbody tr th {\n        vertical-align: top;\n    }\n\n    .dataframe thead th {\n        text-align: right;\n    }\n</style>\n<table border=\"1\" class=\"dataframe\">\n  <thead>\n    <tr style=\"text-align: right;\">\n      <th></th>\n      <th>State</th>\n      <th>Accidents_2018_proportion</th>\n      <th>Accidents_2019_proportion</th>\n      <th>Accidents_2020_proportion</th>\n      <th>Current_smokers_proportion</th>\n      <th>number_of_veterans_proportion</th>\n      <th>Proportion_diabetic</th>\n      <th>total_score</th>\n    </tr>\n  </thead>\n  <tbody>\n    <tr>\n      <th>0</th>\n      <td>NaN</td>\n      <td>0.112200</td>\n      <td>0.105825</td>\n      <td>0.089545</td>\n      <td>0.078145</td>\n      <td>0.041406</td>\n      <td>0.242188</td>\n      <td>8.880613</td>\n    </tr>\n    <tr>\n      <th>1</th>\n      <td>NaN</td>\n      <td>0.042698</td>\n      <td>0.039538</td>\n      <td>0.017726</td>\n      <td>0.075626</td>\n      <td>0.070000</td>\n      <td>0.027344</td>\n      <td>2.689363</td>\n    </tr>\n    <tr>\n      <th>2</th>\n      <td>NaN</td>\n      <td>0.068904</td>\n      <td>0.069052</td>\n      <td>0.060544</td>\n      <td>0.040941</td>\n      <td>0.037288</td>\n      <td>0.117187</td>\n      <td>4.579098</td>\n    </tr>\n    <tr>\n      <th>3</th>\n      <td>NaN</td>\n      <td>0.094953</td>\n      <td>0.092658</td>\n      <td>0.103782</td>\n      <td>0.084366</td>\n      <td>0.037412</td>\n      <td>0.195312</td>\n      <td>7.930537</td>\n    </tr>\n    <tr>\n      <th>4</th>\n      <td>NaN</td>\n      <td>0.037655</td>\n      <td>0.041000</td>\n      <td>0.030201</td>\n      <td>0.018003</td>\n      <td>0.004141</td>\n      <td>0.097656</td>\n      <td>1.997779</td>\n    </tr>\n  </tbody>\n</table>\n</div>"
     },
     "execution_count": 111,
     "metadata": {},
     "output_type": "execute_result"
    }
   ]
  },
  {
   "cell_type": "code",
   "source": [
    "# create a df that has supply and demand scores so we can compare/contrast them\n",
    "\n",
    "# Merge the df on the \"State\" column\n",
    "SupplyVSDemand_df = pd.merge(df_weighted, cleaned_supply_df, on='State')\n",
    "\n",
    "# Display the new df\n",
    "SupplyVSDemand_df.head()"
   ],
   "metadata": {
    "id": "ugtFkOwXURZp",
    "colab": {
     "base_uri": "https://localhost:8080/",
     "height": 340
    },
    "outputId": "38d3a4db-23eb-4ccf-ad9f-679612191c8e",
    "ExecuteTime": {
     "end_time": "2023-10-08T20:38:51.980562Z",
     "start_time": "2023-10-08T20:38:51.949730Z"
    }
   },
   "execution_count": 112,
   "outputs": [
    {
     "data": {
      "text/plain": "Empty DataFrame\nColumns: [State, Accidents_2018_proportion, Accidents_2019_proportion, Accidents_2020_proportion, Current_smokers_proportion, number_of_veterans_proportion, Proportion_diabetic, total_score, Number of Prosthetists, Employment percent relative standard error(3), Population, prosthetists per capita, Supply Score]\nIndex: []",
      "text/html": "<div>\n<style scoped>\n    .dataframe tbody tr th:only-of-type {\n        vertical-align: middle;\n    }\n\n    .dataframe tbody tr th {\n        vertical-align: top;\n    }\n\n    .dataframe thead th {\n        text-align: right;\n    }\n</style>\n<table border=\"1\" class=\"dataframe\">\n  <thead>\n    <tr style=\"text-align: right;\">\n      <th></th>\n      <th>State</th>\n      <th>Accidents_2018_proportion</th>\n      <th>Accidents_2019_proportion</th>\n      <th>Accidents_2020_proportion</th>\n      <th>Current_smokers_proportion</th>\n      <th>number_of_veterans_proportion</th>\n      <th>Proportion_diabetic</th>\n      <th>total_score</th>\n      <th>Number of Prosthetists</th>\n      <th>Employment percent relative standard error(3)</th>\n      <th>Population</th>\n      <th>prosthetists per capita</th>\n      <th>Supply Score</th>\n    </tr>\n  </thead>\n  <tbody>\n  </tbody>\n</table>\n</div>"
     },
     "execution_count": 112,
     "metadata": {},
     "output_type": "execute_result"
    }
   ]
  },
  {
   "cell_type": "code",
   "source": [
    "#make new column for opportunity zones\n",
    "SupplyVSDemand_df['Opportunity Score'] = SupplyVSDemand_df['total_score'] - SupplyVSDemand_df['Supply Score']\n",
    "\n",
    "# Display the updated df\n",
    "SupplyVSDemand_df.head()"
   ],
   "metadata": {
    "id": "0n53ooUbUTy1",
    "colab": {
     "base_uri": "https://localhost:8080/",
     "height": 340
    },
    "outputId": "c8a8c639-9d23-4ef9-d619-0ba678417081",
    "ExecuteTime": {
     "end_time": "2023-10-08T20:38:52.619099Z",
     "start_time": "2023-10-08T20:38:52.548803Z"
    }
   },
   "execution_count": 113,
   "outputs": [
    {
     "data": {
      "text/plain": "Empty DataFrame\nColumns: [State, Accidents_2018_proportion, Accidents_2019_proportion, Accidents_2020_proportion, Current_smokers_proportion, number_of_veterans_proportion, Proportion_diabetic, total_score, Number of Prosthetists, Employment percent relative standard error(3), Population, prosthetists per capita, Supply Score, Opportunity Score]\nIndex: []",
      "text/html": "<div>\n<style scoped>\n    .dataframe tbody tr th:only-of-type {\n        vertical-align: middle;\n    }\n\n    .dataframe tbody tr th {\n        vertical-align: top;\n    }\n\n    .dataframe thead th {\n        text-align: right;\n    }\n</style>\n<table border=\"1\" class=\"dataframe\">\n  <thead>\n    <tr style=\"text-align: right;\">\n      <th></th>\n      <th>State</th>\n      <th>Accidents_2018_proportion</th>\n      <th>Accidents_2019_proportion</th>\n      <th>Accidents_2020_proportion</th>\n      <th>Current_smokers_proportion</th>\n      <th>number_of_veterans_proportion</th>\n      <th>Proportion_diabetic</th>\n      <th>total_score</th>\n      <th>Number of Prosthetists</th>\n      <th>Employment percent relative standard error(3)</th>\n      <th>Population</th>\n      <th>prosthetists per capita</th>\n      <th>Supply Score</th>\n      <th>Opportunity Score</th>\n    </tr>\n  </thead>\n  <tbody>\n  </tbody>\n</table>\n</div>"
     },
     "execution_count": 113,
     "metadata": {},
     "output_type": "execute_result"
    }
   ]
  },
  {
   "cell_type": "code",
   "source": [
    "# Create a choropleth map using Plotly Express\n",
    "fig = px.choropleth(SupplyVSDemand_df,\n",
    "                    locations='State',\n",
    "                    locationmode='USA-states',\n",
    "                    color='Opportunity Score',\n",
    "                    scope='usa',\n",
    "                    color_continuous_scale='Viridis',\n",
    "                    labels={'Opportunity Score': 'Opportunity Score'},\n",
    "                    title='Opportunity Scores by State')\n",
    "\n",
    "# Show the plot\n",
    "fig.show()"
   ],
   "metadata": {
    "id": "wCUXzAQvUYxq",
    "colab": {
     "base_uri": "https://localhost:8080/",
     "height": 542
    },
    "outputId": "e0f2bf2c-f6d3-4656-a72d-b5d1c20394c1",
    "ExecuteTime": {
     "end_time": "2023-10-08T20:38:53.294623Z",
     "start_time": "2023-10-08T20:38:53.217335Z"
    }
   },
   "execution_count": 114,
   "outputs": [
    {
     "data": {
      "application/vnd.plotly.v1+json": {
       "data": [
        {
         "coloraxis": "coloraxis",
         "geo": "geo",
         "hovertemplate": "State=%{location}<br>Opportunity Score=%{z}<extra></extra>",
         "locationmode": "USA-states",
         "locations": [],
         "name": "",
         "z": [],
         "type": "choropleth"
        }
       ],
       "layout": {
        "template": {
         "data": {
          "histogram2dcontour": [
           {
            "type": "histogram2dcontour",
            "colorbar": {
             "outlinewidth": 0,
             "ticks": ""
            },
            "colorscale": [
             [
              0.0,
              "#0d0887"
             ],
             [
              0.1111111111111111,
              "#46039f"
             ],
             [
              0.2222222222222222,
              "#7201a8"
             ],
             [
              0.3333333333333333,
              "#9c179e"
             ],
             [
              0.4444444444444444,
              "#bd3786"
             ],
             [
              0.5555555555555556,
              "#d8576b"
             ],
             [
              0.6666666666666666,
              "#ed7953"
             ],
             [
              0.7777777777777778,
              "#fb9f3a"
             ],
             [
              0.8888888888888888,
              "#fdca26"
             ],
             [
              1.0,
              "#f0f921"
             ]
            ]
           }
          ],
          "choropleth": [
           {
            "type": "choropleth",
            "colorbar": {
             "outlinewidth": 0,
             "ticks": ""
            }
           }
          ],
          "histogram2d": [
           {
            "type": "histogram2d",
            "colorbar": {
             "outlinewidth": 0,
             "ticks": ""
            },
            "colorscale": [
             [
              0.0,
              "#0d0887"
             ],
             [
              0.1111111111111111,
              "#46039f"
             ],
             [
              0.2222222222222222,
              "#7201a8"
             ],
             [
              0.3333333333333333,
              "#9c179e"
             ],
             [
              0.4444444444444444,
              "#bd3786"
             ],
             [
              0.5555555555555556,
              "#d8576b"
             ],
             [
              0.6666666666666666,
              "#ed7953"
             ],
             [
              0.7777777777777778,
              "#fb9f3a"
             ],
             [
              0.8888888888888888,
              "#fdca26"
             ],
             [
              1.0,
              "#f0f921"
             ]
            ]
           }
          ],
          "heatmap": [
           {
            "type": "heatmap",
            "colorbar": {
             "outlinewidth": 0,
             "ticks": ""
            },
            "colorscale": [
             [
              0.0,
              "#0d0887"
             ],
             [
              0.1111111111111111,
              "#46039f"
             ],
             [
              0.2222222222222222,
              "#7201a8"
             ],
             [
              0.3333333333333333,
              "#9c179e"
             ],
             [
              0.4444444444444444,
              "#bd3786"
             ],
             [
              0.5555555555555556,
              "#d8576b"
             ],
             [
              0.6666666666666666,
              "#ed7953"
             ],
             [
              0.7777777777777778,
              "#fb9f3a"
             ],
             [
              0.8888888888888888,
              "#fdca26"
             ],
             [
              1.0,
              "#f0f921"
             ]
            ]
           }
          ],
          "heatmapgl": [
           {
            "type": "heatmapgl",
            "colorbar": {
             "outlinewidth": 0,
             "ticks": ""
            },
            "colorscale": [
             [
              0.0,
              "#0d0887"
             ],
             [
              0.1111111111111111,
              "#46039f"
             ],
             [
              0.2222222222222222,
              "#7201a8"
             ],
             [
              0.3333333333333333,
              "#9c179e"
             ],
             [
              0.4444444444444444,
              "#bd3786"
             ],
             [
              0.5555555555555556,
              "#d8576b"
             ],
             [
              0.6666666666666666,
              "#ed7953"
             ],
             [
              0.7777777777777778,
              "#fb9f3a"
             ],
             [
              0.8888888888888888,
              "#fdca26"
             ],
             [
              1.0,
              "#f0f921"
             ]
            ]
           }
          ],
          "contourcarpet": [
           {
            "type": "contourcarpet",
            "colorbar": {
             "outlinewidth": 0,
             "ticks": ""
            }
           }
          ],
          "contour": [
           {
            "type": "contour",
            "colorbar": {
             "outlinewidth": 0,
             "ticks": ""
            },
            "colorscale": [
             [
              0.0,
              "#0d0887"
             ],
             [
              0.1111111111111111,
              "#46039f"
             ],
             [
              0.2222222222222222,
              "#7201a8"
             ],
             [
              0.3333333333333333,
              "#9c179e"
             ],
             [
              0.4444444444444444,
              "#bd3786"
             ],
             [
              0.5555555555555556,
              "#d8576b"
             ],
             [
              0.6666666666666666,
              "#ed7953"
             ],
             [
              0.7777777777777778,
              "#fb9f3a"
             ],
             [
              0.8888888888888888,
              "#fdca26"
             ],
             [
              1.0,
              "#f0f921"
             ]
            ]
           }
          ],
          "surface": [
           {
            "type": "surface",
            "colorbar": {
             "outlinewidth": 0,
             "ticks": ""
            },
            "colorscale": [
             [
              0.0,
              "#0d0887"
             ],
             [
              0.1111111111111111,
              "#46039f"
             ],
             [
              0.2222222222222222,
              "#7201a8"
             ],
             [
              0.3333333333333333,
              "#9c179e"
             ],
             [
              0.4444444444444444,
              "#bd3786"
             ],
             [
              0.5555555555555556,
              "#d8576b"
             ],
             [
              0.6666666666666666,
              "#ed7953"
             ],
             [
              0.7777777777777778,
              "#fb9f3a"
             ],
             [
              0.8888888888888888,
              "#fdca26"
             ],
             [
              1.0,
              "#f0f921"
             ]
            ]
           }
          ],
          "mesh3d": [
           {
            "type": "mesh3d",
            "colorbar": {
             "outlinewidth": 0,
             "ticks": ""
            }
           }
          ],
          "scatter": [
           {
            "marker": {
             "line": {
              "color": "#283442"
             }
            },
            "type": "scatter"
           }
          ],
          "parcoords": [
           {
            "type": "parcoords",
            "line": {
             "colorbar": {
              "outlinewidth": 0,
              "ticks": ""
             }
            }
           }
          ],
          "scatterpolargl": [
           {
            "type": "scatterpolargl",
            "marker": {
             "colorbar": {
              "outlinewidth": 0,
              "ticks": ""
             }
            }
           }
          ],
          "bar": [
           {
            "error_x": {
             "color": "#f2f5fa"
            },
            "error_y": {
             "color": "#f2f5fa"
            },
            "marker": {
             "line": {
              "color": "rgb(17,17,17)",
              "width": 0.5
             },
             "pattern": {
              "fillmode": "overlay",
              "size": 10,
              "solidity": 0.2
             }
            },
            "type": "bar"
           }
          ],
          "scattergeo": [
           {
            "type": "scattergeo",
            "marker": {
             "colorbar": {
              "outlinewidth": 0,
              "ticks": ""
             }
            }
           }
          ],
          "scatterpolar": [
           {
            "type": "scatterpolar",
            "marker": {
             "colorbar": {
              "outlinewidth": 0,
              "ticks": ""
             }
            }
           }
          ],
          "histogram": [
           {
            "marker": {
             "pattern": {
              "fillmode": "overlay",
              "size": 10,
              "solidity": 0.2
             }
            },
            "type": "histogram"
           }
          ],
          "scattergl": [
           {
            "marker": {
             "line": {
              "color": "#283442"
             }
            },
            "type": "scattergl"
           }
          ],
          "scatter3d": [
           {
            "type": "scatter3d",
            "line": {
             "colorbar": {
              "outlinewidth": 0,
              "ticks": ""
             }
            },
            "marker": {
             "colorbar": {
              "outlinewidth": 0,
              "ticks": ""
             }
            }
           }
          ],
          "scattermapbox": [
           {
            "type": "scattermapbox",
            "marker": {
             "colorbar": {
              "outlinewidth": 0,
              "ticks": ""
             }
            }
           }
          ],
          "scatterternary": [
           {
            "type": "scatterternary",
            "marker": {
             "colorbar": {
              "outlinewidth": 0,
              "ticks": ""
             }
            }
           }
          ],
          "scattercarpet": [
           {
            "type": "scattercarpet",
            "marker": {
             "colorbar": {
              "outlinewidth": 0,
              "ticks": ""
             }
            }
           }
          ],
          "carpet": [
           {
            "aaxis": {
             "endlinecolor": "#A2B1C6",
             "gridcolor": "#506784",
             "linecolor": "#506784",
             "minorgridcolor": "#506784",
             "startlinecolor": "#A2B1C6"
            },
            "baxis": {
             "endlinecolor": "#A2B1C6",
             "gridcolor": "#506784",
             "linecolor": "#506784",
             "minorgridcolor": "#506784",
             "startlinecolor": "#A2B1C6"
            },
            "type": "carpet"
           }
          ],
          "table": [
           {
            "cells": {
             "fill": {
              "color": "#506784"
             },
             "line": {
              "color": "rgb(17,17,17)"
             }
            },
            "header": {
             "fill": {
              "color": "#2a3f5f"
             },
             "line": {
              "color": "rgb(17,17,17)"
             }
            },
            "type": "table"
           }
          ],
          "barpolar": [
           {
            "marker": {
             "line": {
              "color": "rgb(17,17,17)",
              "width": 0.5
             },
             "pattern": {
              "fillmode": "overlay",
              "size": 10,
              "solidity": 0.2
             }
            },
            "type": "barpolar"
           }
          ],
          "pie": [
           {
            "automargin": true,
            "type": "pie"
           }
          ]
         },
         "layout": {
          "autotypenumbers": "strict",
          "colorway": [
           "#636efa",
           "#EF553B",
           "#00cc96",
           "#ab63fa",
           "#FFA15A",
           "#19d3f3",
           "#FF6692",
           "#B6E880",
           "#FF97FF",
           "#FECB52"
          ],
          "font": {
           "color": "#f2f5fa"
          },
          "hovermode": "closest",
          "hoverlabel": {
           "align": "left"
          },
          "paper_bgcolor": "rgb(17,17,17)",
          "plot_bgcolor": "rgb(17,17,17)",
          "polar": {
           "bgcolor": "rgb(17,17,17)",
           "angularaxis": {
            "gridcolor": "#506784",
            "linecolor": "#506784",
            "ticks": ""
           },
           "radialaxis": {
            "gridcolor": "#506784",
            "linecolor": "#506784",
            "ticks": ""
           }
          },
          "ternary": {
           "bgcolor": "rgb(17,17,17)",
           "aaxis": {
            "gridcolor": "#506784",
            "linecolor": "#506784",
            "ticks": ""
           },
           "baxis": {
            "gridcolor": "#506784",
            "linecolor": "#506784",
            "ticks": ""
           },
           "caxis": {
            "gridcolor": "#506784",
            "linecolor": "#506784",
            "ticks": ""
           }
          },
          "coloraxis": {
           "colorbar": {
            "outlinewidth": 0,
            "ticks": ""
           }
          },
          "colorscale": {
           "sequential": [
            [
             0.0,
             "#0d0887"
            ],
            [
             0.1111111111111111,
             "#46039f"
            ],
            [
             0.2222222222222222,
             "#7201a8"
            ],
            [
             0.3333333333333333,
             "#9c179e"
            ],
            [
             0.4444444444444444,
             "#bd3786"
            ],
            [
             0.5555555555555556,
             "#d8576b"
            ],
            [
             0.6666666666666666,
             "#ed7953"
            ],
            [
             0.7777777777777778,
             "#fb9f3a"
            ],
            [
             0.8888888888888888,
             "#fdca26"
            ],
            [
             1.0,
             "#f0f921"
            ]
           ],
           "sequentialminus": [
            [
             0.0,
             "#0d0887"
            ],
            [
             0.1111111111111111,
             "#46039f"
            ],
            [
             0.2222222222222222,
             "#7201a8"
            ],
            [
             0.3333333333333333,
             "#9c179e"
            ],
            [
             0.4444444444444444,
             "#bd3786"
            ],
            [
             0.5555555555555556,
             "#d8576b"
            ],
            [
             0.6666666666666666,
             "#ed7953"
            ],
            [
             0.7777777777777778,
             "#fb9f3a"
            ],
            [
             0.8888888888888888,
             "#fdca26"
            ],
            [
             1.0,
             "#f0f921"
            ]
           ],
           "diverging": [
            [
             0,
             "#8e0152"
            ],
            [
             0.1,
             "#c51b7d"
            ],
            [
             0.2,
             "#de77ae"
            ],
            [
             0.3,
             "#f1b6da"
            ],
            [
             0.4,
             "#fde0ef"
            ],
            [
             0.5,
             "#f7f7f7"
            ],
            [
             0.6,
             "#e6f5d0"
            ],
            [
             0.7,
             "#b8e186"
            ],
            [
             0.8,
             "#7fbc41"
            ],
            [
             0.9,
             "#4d9221"
            ],
            [
             1,
             "#276419"
            ]
           ]
          },
          "xaxis": {
           "gridcolor": "#283442",
           "linecolor": "#506784",
           "ticks": "",
           "title": {
            "standoff": 15
           },
           "zerolinecolor": "#283442",
           "automargin": true,
           "zerolinewidth": 2
          },
          "yaxis": {
           "gridcolor": "#283442",
           "linecolor": "#506784",
           "ticks": "",
           "title": {
            "standoff": 15
           },
           "zerolinecolor": "#283442",
           "automargin": true,
           "zerolinewidth": 2
          },
          "scene": {
           "xaxis": {
            "backgroundcolor": "rgb(17,17,17)",
            "gridcolor": "#506784",
            "linecolor": "#506784",
            "showbackground": true,
            "ticks": "",
            "zerolinecolor": "#C8D4E3",
            "gridwidth": 2
           },
           "yaxis": {
            "backgroundcolor": "rgb(17,17,17)",
            "gridcolor": "#506784",
            "linecolor": "#506784",
            "showbackground": true,
            "ticks": "",
            "zerolinecolor": "#C8D4E3",
            "gridwidth": 2
           },
           "zaxis": {
            "backgroundcolor": "rgb(17,17,17)",
            "gridcolor": "#506784",
            "linecolor": "#506784",
            "showbackground": true,
            "ticks": "",
            "zerolinecolor": "#C8D4E3",
            "gridwidth": 2
           }
          },
          "shapedefaults": {
           "line": {
            "color": "#f2f5fa"
           }
          },
          "annotationdefaults": {
           "arrowcolor": "#f2f5fa",
           "arrowhead": 0,
           "arrowwidth": 1
          },
          "geo": {
           "bgcolor": "rgb(17,17,17)",
           "landcolor": "rgb(17,17,17)",
           "subunitcolor": "#506784",
           "showland": true,
           "showlakes": true,
           "lakecolor": "rgb(17,17,17)"
          },
          "title": {
           "x": 0.05
          },
          "updatemenudefaults": {
           "bgcolor": "#506784",
           "borderwidth": 0
          },
          "sliderdefaults": {
           "bgcolor": "#C8D4E3",
           "borderwidth": 1,
           "bordercolor": "rgb(17,17,17)",
           "tickwidth": 0
          },
          "mapbox": {
           "style": "dark"
          }
         }
        },
        "geo": {
         "domain": {
          "x": [
           0.0,
           1.0
          ],
          "y": [
           0.0,
           1.0
          ]
         },
         "center": {},
         "scope": "usa"
        },
        "coloraxis": {
         "colorbar": {
          "title": {
           "text": "Opportunity Score"
          }
         },
         "colorscale": [
          [
           0.0,
           "#440154"
          ],
          [
           0.1111111111111111,
           "#482878"
          ],
          [
           0.2222222222222222,
           "#3e4989"
          ],
          [
           0.3333333333333333,
           "#31688e"
          ],
          [
           0.4444444444444444,
           "#26828e"
          ],
          [
           0.5555555555555556,
           "#1f9e89"
          ],
          [
           0.6666666666666666,
           "#35b779"
          ],
          [
           0.7777777777777778,
           "#6ece58"
          ],
          [
           0.8888888888888888,
           "#b5de2b"
          ],
          [
           1.0,
           "#fde725"
          ]
         ]
        },
        "legend": {
         "tracegroupgap": 0
        },
        "title": {
         "text": "Opportunity Scores by State"
        }
       },
       "config": {
        "plotlyServerURL": "https://plot.ly"
       }
      },
      "text/html": "<div>                            <div id=\"9060df37-22aa-410e-8ef9-9f73296fe105\" class=\"plotly-graph-div\" style=\"height:525px; width:100%;\"></div>            <script type=\"text/javascript\">                require([\"plotly\"], function(Plotly) {                    window.PLOTLYENV=window.PLOTLYENV || {};                                    if (document.getElementById(\"9060df37-22aa-410e-8ef9-9f73296fe105\")) {                    Plotly.newPlot(                        \"9060df37-22aa-410e-8ef9-9f73296fe105\",                        [{\"coloraxis\":\"coloraxis\",\"geo\":\"geo\",\"hovertemplate\":\"State=%{location}\\u003cbr\\u003eOpportunity Score=%{z}\\u003cextra\\u003e\\u003c\\u002fextra\\u003e\",\"locationmode\":\"USA-states\",\"locations\":[],\"name\":\"\",\"z\":[],\"type\":\"choropleth\"}],                        {\"template\":{\"data\":{\"histogram2dcontour\":[{\"type\":\"histogram2dcontour\",\"colorbar\":{\"outlinewidth\":0,\"ticks\":\"\"},\"colorscale\":[[0.0,\"#0d0887\"],[0.1111111111111111,\"#46039f\"],[0.2222222222222222,\"#7201a8\"],[0.3333333333333333,\"#9c179e\"],[0.4444444444444444,\"#bd3786\"],[0.5555555555555556,\"#d8576b\"],[0.6666666666666666,\"#ed7953\"],[0.7777777777777778,\"#fb9f3a\"],[0.8888888888888888,\"#fdca26\"],[1.0,\"#f0f921\"]]}],\"choropleth\":[{\"type\":\"choropleth\",\"colorbar\":{\"outlinewidth\":0,\"ticks\":\"\"}}],\"histogram2d\":[{\"type\":\"histogram2d\",\"colorbar\":{\"outlinewidth\":0,\"ticks\":\"\"},\"colorscale\":[[0.0,\"#0d0887\"],[0.1111111111111111,\"#46039f\"],[0.2222222222222222,\"#7201a8\"],[0.3333333333333333,\"#9c179e\"],[0.4444444444444444,\"#bd3786\"],[0.5555555555555556,\"#d8576b\"],[0.6666666666666666,\"#ed7953\"],[0.7777777777777778,\"#fb9f3a\"],[0.8888888888888888,\"#fdca26\"],[1.0,\"#f0f921\"]]}],\"heatmap\":[{\"type\":\"heatmap\",\"colorbar\":{\"outlinewidth\":0,\"ticks\":\"\"},\"colorscale\":[[0.0,\"#0d0887\"],[0.1111111111111111,\"#46039f\"],[0.2222222222222222,\"#7201a8\"],[0.3333333333333333,\"#9c179e\"],[0.4444444444444444,\"#bd3786\"],[0.5555555555555556,\"#d8576b\"],[0.6666666666666666,\"#ed7953\"],[0.7777777777777778,\"#fb9f3a\"],[0.8888888888888888,\"#fdca26\"],[1.0,\"#f0f921\"]]}],\"heatmapgl\":[{\"type\":\"heatmapgl\",\"colorbar\":{\"outlinewidth\":0,\"ticks\":\"\"},\"colorscale\":[[0.0,\"#0d0887\"],[0.1111111111111111,\"#46039f\"],[0.2222222222222222,\"#7201a8\"],[0.3333333333333333,\"#9c179e\"],[0.4444444444444444,\"#bd3786\"],[0.5555555555555556,\"#d8576b\"],[0.6666666666666666,\"#ed7953\"],[0.7777777777777778,\"#fb9f3a\"],[0.8888888888888888,\"#fdca26\"],[1.0,\"#f0f921\"]]}],\"contourcarpet\":[{\"type\":\"contourcarpet\",\"colorbar\":{\"outlinewidth\":0,\"ticks\":\"\"}}],\"contour\":[{\"type\":\"contour\",\"colorbar\":{\"outlinewidth\":0,\"ticks\":\"\"},\"colorscale\":[[0.0,\"#0d0887\"],[0.1111111111111111,\"#46039f\"],[0.2222222222222222,\"#7201a8\"],[0.3333333333333333,\"#9c179e\"],[0.4444444444444444,\"#bd3786\"],[0.5555555555555556,\"#d8576b\"],[0.6666666666666666,\"#ed7953\"],[0.7777777777777778,\"#fb9f3a\"],[0.8888888888888888,\"#fdca26\"],[1.0,\"#f0f921\"]]}],\"surface\":[{\"type\":\"surface\",\"colorbar\":{\"outlinewidth\":0,\"ticks\":\"\"},\"colorscale\":[[0.0,\"#0d0887\"],[0.1111111111111111,\"#46039f\"],[0.2222222222222222,\"#7201a8\"],[0.3333333333333333,\"#9c179e\"],[0.4444444444444444,\"#bd3786\"],[0.5555555555555556,\"#d8576b\"],[0.6666666666666666,\"#ed7953\"],[0.7777777777777778,\"#fb9f3a\"],[0.8888888888888888,\"#fdca26\"],[1.0,\"#f0f921\"]]}],\"mesh3d\":[{\"type\":\"mesh3d\",\"colorbar\":{\"outlinewidth\":0,\"ticks\":\"\"}}],\"scatter\":[{\"marker\":{\"line\":{\"color\":\"#283442\"}},\"type\":\"scatter\"}],\"parcoords\":[{\"type\":\"parcoords\",\"line\":{\"colorbar\":{\"outlinewidth\":0,\"ticks\":\"\"}}}],\"scatterpolargl\":[{\"type\":\"scatterpolargl\",\"marker\":{\"colorbar\":{\"outlinewidth\":0,\"ticks\":\"\"}}}],\"bar\":[{\"error_x\":{\"color\":\"#f2f5fa\"},\"error_y\":{\"color\":\"#f2f5fa\"},\"marker\":{\"line\":{\"color\":\"rgb(17,17,17)\",\"width\":0.5},\"pattern\":{\"fillmode\":\"overlay\",\"size\":10,\"solidity\":0.2}},\"type\":\"bar\"}],\"scattergeo\":[{\"type\":\"scattergeo\",\"marker\":{\"colorbar\":{\"outlinewidth\":0,\"ticks\":\"\"}}}],\"scatterpolar\":[{\"type\":\"scatterpolar\",\"marker\":{\"colorbar\":{\"outlinewidth\":0,\"ticks\":\"\"}}}],\"histogram\":[{\"marker\":{\"pattern\":{\"fillmode\":\"overlay\",\"size\":10,\"solidity\":0.2}},\"type\":\"histogram\"}],\"scattergl\":[{\"marker\":{\"line\":{\"color\":\"#283442\"}},\"type\":\"scattergl\"}],\"scatter3d\":[{\"type\":\"scatter3d\",\"line\":{\"colorbar\":{\"outlinewidth\":0,\"ticks\":\"\"}},\"marker\":{\"colorbar\":{\"outlinewidth\":0,\"ticks\":\"\"}}}],\"scattermapbox\":[{\"type\":\"scattermapbox\",\"marker\":{\"colorbar\":{\"outlinewidth\":0,\"ticks\":\"\"}}}],\"scatterternary\":[{\"type\":\"scatterternary\",\"marker\":{\"colorbar\":{\"outlinewidth\":0,\"ticks\":\"\"}}}],\"scattercarpet\":[{\"type\":\"scattercarpet\",\"marker\":{\"colorbar\":{\"outlinewidth\":0,\"ticks\":\"\"}}}],\"carpet\":[{\"aaxis\":{\"endlinecolor\":\"#A2B1C6\",\"gridcolor\":\"#506784\",\"linecolor\":\"#506784\",\"minorgridcolor\":\"#506784\",\"startlinecolor\":\"#A2B1C6\"},\"baxis\":{\"endlinecolor\":\"#A2B1C6\",\"gridcolor\":\"#506784\",\"linecolor\":\"#506784\",\"minorgridcolor\":\"#506784\",\"startlinecolor\":\"#A2B1C6\"},\"type\":\"carpet\"}],\"table\":[{\"cells\":{\"fill\":{\"color\":\"#506784\"},\"line\":{\"color\":\"rgb(17,17,17)\"}},\"header\":{\"fill\":{\"color\":\"#2a3f5f\"},\"line\":{\"color\":\"rgb(17,17,17)\"}},\"type\":\"table\"}],\"barpolar\":[{\"marker\":{\"line\":{\"color\":\"rgb(17,17,17)\",\"width\":0.5},\"pattern\":{\"fillmode\":\"overlay\",\"size\":10,\"solidity\":0.2}},\"type\":\"barpolar\"}],\"pie\":[{\"automargin\":true,\"type\":\"pie\"}]},\"layout\":{\"autotypenumbers\":\"strict\",\"colorway\":[\"#636efa\",\"#EF553B\",\"#00cc96\",\"#ab63fa\",\"#FFA15A\",\"#19d3f3\",\"#FF6692\",\"#B6E880\",\"#FF97FF\",\"#FECB52\"],\"font\":{\"color\":\"#f2f5fa\"},\"hovermode\":\"closest\",\"hoverlabel\":{\"align\":\"left\"},\"paper_bgcolor\":\"rgb(17,17,17)\",\"plot_bgcolor\":\"rgb(17,17,17)\",\"polar\":{\"bgcolor\":\"rgb(17,17,17)\",\"angularaxis\":{\"gridcolor\":\"#506784\",\"linecolor\":\"#506784\",\"ticks\":\"\"},\"radialaxis\":{\"gridcolor\":\"#506784\",\"linecolor\":\"#506784\",\"ticks\":\"\"}},\"ternary\":{\"bgcolor\":\"rgb(17,17,17)\",\"aaxis\":{\"gridcolor\":\"#506784\",\"linecolor\":\"#506784\",\"ticks\":\"\"},\"baxis\":{\"gridcolor\":\"#506784\",\"linecolor\":\"#506784\",\"ticks\":\"\"},\"caxis\":{\"gridcolor\":\"#506784\",\"linecolor\":\"#506784\",\"ticks\":\"\"}},\"coloraxis\":{\"colorbar\":{\"outlinewidth\":0,\"ticks\":\"\"}},\"colorscale\":{\"sequential\":[[0.0,\"#0d0887\"],[0.1111111111111111,\"#46039f\"],[0.2222222222222222,\"#7201a8\"],[0.3333333333333333,\"#9c179e\"],[0.4444444444444444,\"#bd3786\"],[0.5555555555555556,\"#d8576b\"],[0.6666666666666666,\"#ed7953\"],[0.7777777777777778,\"#fb9f3a\"],[0.8888888888888888,\"#fdca26\"],[1.0,\"#f0f921\"]],\"sequentialminus\":[[0.0,\"#0d0887\"],[0.1111111111111111,\"#46039f\"],[0.2222222222222222,\"#7201a8\"],[0.3333333333333333,\"#9c179e\"],[0.4444444444444444,\"#bd3786\"],[0.5555555555555556,\"#d8576b\"],[0.6666666666666666,\"#ed7953\"],[0.7777777777777778,\"#fb9f3a\"],[0.8888888888888888,\"#fdca26\"],[1.0,\"#f0f921\"]],\"diverging\":[[0,\"#8e0152\"],[0.1,\"#c51b7d\"],[0.2,\"#de77ae\"],[0.3,\"#f1b6da\"],[0.4,\"#fde0ef\"],[0.5,\"#f7f7f7\"],[0.6,\"#e6f5d0\"],[0.7,\"#b8e186\"],[0.8,\"#7fbc41\"],[0.9,\"#4d9221\"],[1,\"#276419\"]]},\"xaxis\":{\"gridcolor\":\"#283442\",\"linecolor\":\"#506784\",\"ticks\":\"\",\"title\":{\"standoff\":15},\"zerolinecolor\":\"#283442\",\"automargin\":true,\"zerolinewidth\":2},\"yaxis\":{\"gridcolor\":\"#283442\",\"linecolor\":\"#506784\",\"ticks\":\"\",\"title\":{\"standoff\":15},\"zerolinecolor\":\"#283442\",\"automargin\":true,\"zerolinewidth\":2},\"scene\":{\"xaxis\":{\"backgroundcolor\":\"rgb(17,17,17)\",\"gridcolor\":\"#506784\",\"linecolor\":\"#506784\",\"showbackground\":true,\"ticks\":\"\",\"zerolinecolor\":\"#C8D4E3\",\"gridwidth\":2},\"yaxis\":{\"backgroundcolor\":\"rgb(17,17,17)\",\"gridcolor\":\"#506784\",\"linecolor\":\"#506784\",\"showbackground\":true,\"ticks\":\"\",\"zerolinecolor\":\"#C8D4E3\",\"gridwidth\":2},\"zaxis\":{\"backgroundcolor\":\"rgb(17,17,17)\",\"gridcolor\":\"#506784\",\"linecolor\":\"#506784\",\"showbackground\":true,\"ticks\":\"\",\"zerolinecolor\":\"#C8D4E3\",\"gridwidth\":2}},\"shapedefaults\":{\"line\":{\"color\":\"#f2f5fa\"}},\"annotationdefaults\":{\"arrowcolor\":\"#f2f5fa\",\"arrowhead\":0,\"arrowwidth\":1},\"geo\":{\"bgcolor\":\"rgb(17,17,17)\",\"landcolor\":\"rgb(17,17,17)\",\"subunitcolor\":\"#506784\",\"showland\":true,\"showlakes\":true,\"lakecolor\":\"rgb(17,17,17)\"},\"title\":{\"x\":0.05},\"updatemenudefaults\":{\"bgcolor\":\"#506784\",\"borderwidth\":0},\"sliderdefaults\":{\"bgcolor\":\"#C8D4E3\",\"borderwidth\":1,\"bordercolor\":\"rgb(17,17,17)\",\"tickwidth\":0},\"mapbox\":{\"style\":\"dark\"}}},\"geo\":{\"domain\":{\"x\":[0.0,1.0],\"y\":[0.0,1.0]},\"center\":{},\"scope\":\"usa\"},\"coloraxis\":{\"colorbar\":{\"title\":{\"text\":\"Opportunity Score\"}},\"colorscale\":[[0.0,\"#440154\"],[0.1111111111111111,\"#482878\"],[0.2222222222222222,\"#3e4989\"],[0.3333333333333333,\"#31688e\"],[0.4444444444444444,\"#26828e\"],[0.5555555555555556,\"#1f9e89\"],[0.6666666666666666,\"#35b779\"],[0.7777777777777778,\"#6ece58\"],[0.8888888888888888,\"#b5de2b\"],[1.0,\"#fde725\"]]},\"legend\":{\"tracegroupgap\":0},\"title\":{\"text\":\"Opportunity Scores by State\"}},                        {\"responsive\": true}                    ).then(function(){\n                            \nvar gd = document.getElementById('9060df37-22aa-410e-8ef9-9f73296fe105');\nvar x = new MutationObserver(function (mutations, observer) {{\n        var display = window.getComputedStyle(gd).display;\n        if (!display || display === 'none') {{\n            console.log([gd, 'removed!']);\n            Plotly.purge(gd);\n            observer.disconnect();\n        }}\n}});\n\n// Listen for the removal of the full notebook cells\nvar notebookContainer = gd.closest('#notebook-container');\nif (notebookContainer) {{\n    x.observe(notebookContainer, {childList: true});\n}}\n\n// Listen for the clearing of the current output cell\nvar outputEl = gd.closest('.output');\nif (outputEl) {{\n    x.observe(outputEl, {childList: true});\n}}\n\n                        })                };                });            </script>        </div>"
     },
     "metadata": {},
     "output_type": "display_data"
    }
   ]
  },
  {
   "cell_type": "code",
   "source": [
    "#fig.write_html(\"visual_six.html\")\n",
    "#pio.write_image(fig, \"visual_six.png\", format='png', engine='kaleido')"
   ],
   "metadata": {
    "id": "6CqhVZxdUbKM",
    "ExecuteTime": {
     "end_time": "2023-10-08T20:38:53.851735Z",
     "start_time": "2023-10-08T20:38:53.804074Z"
    }
   },
   "execution_count": 115,
   "outputs": []
  },
  {
   "cell_type": "code",
   "source": [
    "####################################\n",
    "\n",
    "# Data Analytics Work\n",
    "\n",
    "###############################\n"
   ],
   "metadata": {
    "id": "7gAY5P3wBG0b",
    "ExecuteTime": {
     "end_time": "2023-10-08T20:38:54.685466Z",
     "start_time": "2023-10-08T20:38:54.648245Z"
    }
   },
   "execution_count": 116,
   "outputs": []
  },
  {
   "cell_type": "code",
   "source": [
    "df_DA.head()"
   ],
   "metadata": {
    "colab": {
     "base_uri": "https://localhost:8080/",
     "height": 270
    },
    "id": "PbU608diBJZH",
    "outputId": "0eba4bd8-e3dd-4858-d1d8-f48f9270529f",
    "ExecuteTime": {
     "end_time": "2023-10-08T20:38:55.338926Z",
     "start_time": "2023-10-08T20:38:55.300747Z"
    }
   },
   "execution_count": 117,
   "outputs": [
    {
     "data": {
      "text/plain": "        State  Accidents_2018_proportion  Accidents_2019_proportion  \\\n0     Alabama                   0.000179                   0.000175   \n1      Alaska                   0.000094                   0.000085   \n2     Arizona                   0.000126                   0.000125   \n3    Arkansas                   0.000158                   0.000157   \n4  California                   0.000088                   0.000087   \n\n   Accidents_2020_proportion  Current_smokers_proportion  \\\n0                   0.000174                    0.155234   \n1                   0.000072                    0.152127   \n2                   0.000133                    0.109360   \n3                   0.000194                    0.162903   \n4                   0.000090                    0.081078   \n\n   number_of_veterans_proportion  Proportion_diabetic  \n0                       0.073321                0.129  \n1                       0.097675                0.074  \n2                       0.069814                0.097  \n3                       0.069919                0.117  \n4                       0.041582                0.092  ",
      "text/html": "<div>\n<style scoped>\n    .dataframe tbody tr th:only-of-type {\n        vertical-align: middle;\n    }\n\n    .dataframe tbody tr th {\n        vertical-align: top;\n    }\n\n    .dataframe thead th {\n        text-align: right;\n    }\n</style>\n<table border=\"1\" class=\"dataframe\">\n  <thead>\n    <tr style=\"text-align: right;\">\n      <th></th>\n      <th>State</th>\n      <th>Accidents_2018_proportion</th>\n      <th>Accidents_2019_proportion</th>\n      <th>Accidents_2020_proportion</th>\n      <th>Current_smokers_proportion</th>\n      <th>number_of_veterans_proportion</th>\n      <th>Proportion_diabetic</th>\n    </tr>\n  </thead>\n  <tbody>\n    <tr>\n      <th>0</th>\n      <td>Alabama</td>\n      <td>0.000179</td>\n      <td>0.000175</td>\n      <td>0.000174</td>\n      <td>0.155234</td>\n      <td>0.073321</td>\n      <td>0.129</td>\n    </tr>\n    <tr>\n      <th>1</th>\n      <td>Alaska</td>\n      <td>0.000094</td>\n      <td>0.000085</td>\n      <td>0.000072</td>\n      <td>0.152127</td>\n      <td>0.097675</td>\n      <td>0.074</td>\n    </tr>\n    <tr>\n      <th>2</th>\n      <td>Arizona</td>\n      <td>0.000126</td>\n      <td>0.000125</td>\n      <td>0.000133</td>\n      <td>0.109360</td>\n      <td>0.069814</td>\n      <td>0.097</td>\n    </tr>\n    <tr>\n      <th>3</th>\n      <td>Arkansas</td>\n      <td>0.000158</td>\n      <td>0.000157</td>\n      <td>0.000194</td>\n      <td>0.162903</td>\n      <td>0.069919</td>\n      <td>0.117</td>\n    </tr>\n    <tr>\n      <th>4</th>\n      <td>California</td>\n      <td>0.000088</td>\n      <td>0.000087</td>\n      <td>0.000090</td>\n      <td>0.081078</td>\n      <td>0.041582</td>\n      <td>0.092</td>\n    </tr>\n  </tbody>\n</table>\n</div>"
     },
     "execution_count": 117,
     "metadata": {},
     "output_type": "execute_result"
    }
   ]
  },
  {
   "cell_type": "code",
   "source": [
    "# Filter the cancer_data DataFrame to include only the year 2019\n",
    "cancer_data_2019 = cancer_data[cancer_data[\"YEAR\"] == 2021]\n",
    "\n",
    "# Convert the \"DEATHS\" column in cancer_data_2019 to numeric type\n",
    "cancer_data_2019[\"DEATHS\"] = pd.to_numeric(cancer_data_2019[\"DEATHS\"], errors=\"coerce\")\n",
    "\n",
    "# Convert the \"Population\" column in population_data2019 to numeric type\n",
    "population_data2019[\"Population\"] = pd.to_numeric(population_data2019[\"Population\"], errors=\"coerce\")\n",
    "\n",
    "# Calculate the cancer_proportion by dividing DEATHS by population\n",
    "cancer_data_2019[\"cancer_proportion\"] = cancer_data_2019[\"DEATHS\"] / population_data2019[\"Population\"]\n",
    "\n",
    "# Create a new DataFrame with only \"STATE\" and \"cancer_proportion\" columns\n",
    "new_cancer_df = cancer_data_2019[[\"STATE\", \"cancer_proportion\"]].copy()\n",
    "\n",
    "new_cancer_df.rename(columns={\"STATE\": \"State\"}, inplace=True)"
   ],
   "metadata": {
    "colab": {
     "base_uri": "https://localhost:8080/"
    },
    "id": "TyTUBkNQDOjS",
    "outputId": "92075488-2fe8-4a6a-d54a-32e9ee071999",
    "ExecuteTime": {
     "end_time": "2023-10-08T20:38:56.225511Z",
     "start_time": "2023-10-08T20:38:56.141260Z"
    }
   },
   "execution_count": 118,
   "outputs": [
    {
     "name": "stderr",
     "output_type": "stream",
     "text": [
      "/var/folders/wk/mh3nlc5d5mz44xkrmh91ptl00000gn/T/ipykernel_20226/3006927592.py:5: SettingWithCopyWarning:\n",
      "\n",
      "\n",
      "A value is trying to be set on a copy of a slice from a DataFrame.\n",
      "Try using .loc[row_indexer,col_indexer] = value instead\n",
      "\n",
      "See the caveats in the documentation: https://pandas.pydata.org/pandas-docs/stable/user_guide/indexing.html#returning-a-view-versus-a-copy\n",
      "\n",
      "/var/folders/wk/mh3nlc5d5mz44xkrmh91ptl00000gn/T/ipykernel_20226/3006927592.py:11: SettingWithCopyWarning:\n",
      "\n",
      "\n",
      "A value is trying to be set on a copy of a slice from a DataFrame.\n",
      "Try using .loc[row_indexer,col_indexer] = value instead\n",
      "\n",
      "See the caveats in the documentation: https://pandas.pydata.org/pandas-docs/stable/user_guide/indexing.html#returning-a-view-versus-a-copy\n",
      "\n"
     ]
    }
   ]
  },
  {
   "cell_type": "code",
   "source": [
    "# Perform the join operation\n",
    "Full_DA_df = df_DA.merge(new_cancer_df, on=\"State\")\n",
    "\n",
    "# Print the resulting DataFrame\n",
    "Full_DA_df.head(5)"
   ],
   "metadata": {
    "colab": {
     "base_uri": "https://localhost:8080/",
     "height": 270
    },
    "id": "k-eekA4BEXQA",
    "outputId": "8cc238c2-e24a-4062-801d-a9d86154e109",
    "ExecuteTime": {
     "end_time": "2023-10-08T20:38:59.168584Z",
     "start_time": "2023-10-08T20:38:59.133836Z"
    }
   },
   "execution_count": 119,
   "outputs": [
    {
     "data": {
      "text/plain": "        State  Accidents_2018_proportion  Accidents_2019_proportion  \\\n0     Alabama                   0.000179                   0.000175   \n1      Alaska                   0.000094                   0.000085   \n2     Arizona                   0.000126                   0.000125   \n3    Arkansas                   0.000158                   0.000157   \n4  California                   0.000088                   0.000087   \n\n   Accidents_2020_proportion  Current_smokers_proportion  \\\n0                   0.000174                    0.155234   \n1                   0.000072                    0.152127   \n2                   0.000133                    0.109360   \n3                   0.000194                    0.162903   \n4                   0.000090                    0.081078   \n\n   number_of_veterans_proportion  Proportion_diabetic  cancer_proportion  \n0                       0.073321                0.129           0.002127  \n1                       0.097675                0.074           0.001494  \n2                       0.069814                0.097           0.001760  \n3                       0.069919                0.117           0.002159  \n4                       0.041582                0.092           0.001506  ",
      "text/html": "<div>\n<style scoped>\n    .dataframe tbody tr th:only-of-type {\n        vertical-align: middle;\n    }\n\n    .dataframe tbody tr th {\n        vertical-align: top;\n    }\n\n    .dataframe thead th {\n        text-align: right;\n    }\n</style>\n<table border=\"1\" class=\"dataframe\">\n  <thead>\n    <tr style=\"text-align: right;\">\n      <th></th>\n      <th>State</th>\n      <th>Accidents_2018_proportion</th>\n      <th>Accidents_2019_proportion</th>\n      <th>Accidents_2020_proportion</th>\n      <th>Current_smokers_proportion</th>\n      <th>number_of_veterans_proportion</th>\n      <th>Proportion_diabetic</th>\n      <th>cancer_proportion</th>\n    </tr>\n  </thead>\n  <tbody>\n    <tr>\n      <th>0</th>\n      <td>Alabama</td>\n      <td>0.000179</td>\n      <td>0.000175</td>\n      <td>0.000174</td>\n      <td>0.155234</td>\n      <td>0.073321</td>\n      <td>0.129</td>\n      <td>0.002127</td>\n    </tr>\n    <tr>\n      <th>1</th>\n      <td>Alaska</td>\n      <td>0.000094</td>\n      <td>0.000085</td>\n      <td>0.000072</td>\n      <td>0.152127</td>\n      <td>0.097675</td>\n      <td>0.074</td>\n      <td>0.001494</td>\n    </tr>\n    <tr>\n      <th>2</th>\n      <td>Arizona</td>\n      <td>0.000126</td>\n      <td>0.000125</td>\n      <td>0.000133</td>\n      <td>0.109360</td>\n      <td>0.069814</td>\n      <td>0.097</td>\n      <td>0.001760</td>\n    </tr>\n    <tr>\n      <th>3</th>\n      <td>Arkansas</td>\n      <td>0.000158</td>\n      <td>0.000157</td>\n      <td>0.000194</td>\n      <td>0.162903</td>\n      <td>0.069919</td>\n      <td>0.117</td>\n      <td>0.002159</td>\n    </tr>\n    <tr>\n      <th>4</th>\n      <td>California</td>\n      <td>0.000088</td>\n      <td>0.000087</td>\n      <td>0.000090</td>\n      <td>0.081078</td>\n      <td>0.041582</td>\n      <td>0.092</td>\n      <td>0.001506</td>\n    </tr>\n  </tbody>\n</table>\n</div>"
     },
     "execution_count": 119,
     "metadata": {},
     "output_type": "execute_result"
    }
   ]
  },
  {
   "cell_type": "code",
   "source": [
    "Full_DA_df.head()"
   ],
   "metadata": {
    "colab": {
     "base_uri": "https://localhost:8080/",
     "height": 270
    },
    "id": "RjfK3flxE8_I",
    "outputId": "d3fc201b-08ba-4252-8aef-493b5f997da9",
    "ExecuteTime": {
     "end_time": "2023-10-08T20:38:59.788831Z",
     "start_time": "2023-10-08T20:38:59.750024Z"
    }
   },
   "execution_count": 120,
   "outputs": [
    {
     "data": {
      "text/plain": "        State  Accidents_2018_proportion  Accidents_2019_proportion  \\\n0     Alabama                   0.000179                   0.000175   \n1      Alaska                   0.000094                   0.000085   \n2     Arizona                   0.000126                   0.000125   \n3    Arkansas                   0.000158                   0.000157   \n4  California                   0.000088                   0.000087   \n\n   Accidents_2020_proportion  Current_smokers_proportion  \\\n0                   0.000174                    0.155234   \n1                   0.000072                    0.152127   \n2                   0.000133                    0.109360   \n3                   0.000194                    0.162903   \n4                   0.000090                    0.081078   \n\n   number_of_veterans_proportion  Proportion_diabetic  cancer_proportion  \n0                       0.073321                0.129           0.002127  \n1                       0.097675                0.074           0.001494  \n2                       0.069814                0.097           0.001760  \n3                       0.069919                0.117           0.002159  \n4                       0.041582                0.092           0.001506  ",
      "text/html": "<div>\n<style scoped>\n    .dataframe tbody tr th:only-of-type {\n        vertical-align: middle;\n    }\n\n    .dataframe tbody tr th {\n        vertical-align: top;\n    }\n\n    .dataframe thead th {\n        text-align: right;\n    }\n</style>\n<table border=\"1\" class=\"dataframe\">\n  <thead>\n    <tr style=\"text-align: right;\">\n      <th></th>\n      <th>State</th>\n      <th>Accidents_2018_proportion</th>\n      <th>Accidents_2019_proportion</th>\n      <th>Accidents_2020_proportion</th>\n      <th>Current_smokers_proportion</th>\n      <th>number_of_veterans_proportion</th>\n      <th>Proportion_diabetic</th>\n      <th>cancer_proportion</th>\n    </tr>\n  </thead>\n  <tbody>\n    <tr>\n      <th>0</th>\n      <td>Alabama</td>\n      <td>0.000179</td>\n      <td>0.000175</td>\n      <td>0.000174</td>\n      <td>0.155234</td>\n      <td>0.073321</td>\n      <td>0.129</td>\n      <td>0.002127</td>\n    </tr>\n    <tr>\n      <th>1</th>\n      <td>Alaska</td>\n      <td>0.000094</td>\n      <td>0.000085</td>\n      <td>0.000072</td>\n      <td>0.152127</td>\n      <td>0.097675</td>\n      <td>0.074</td>\n      <td>0.001494</td>\n    </tr>\n    <tr>\n      <th>2</th>\n      <td>Arizona</td>\n      <td>0.000126</td>\n      <td>0.000125</td>\n      <td>0.000133</td>\n      <td>0.109360</td>\n      <td>0.069814</td>\n      <td>0.097</td>\n      <td>0.001760</td>\n    </tr>\n    <tr>\n      <th>3</th>\n      <td>Arkansas</td>\n      <td>0.000158</td>\n      <td>0.000157</td>\n      <td>0.000194</td>\n      <td>0.162903</td>\n      <td>0.069919</td>\n      <td>0.117</td>\n      <td>0.002159</td>\n    </tr>\n    <tr>\n      <th>4</th>\n      <td>California</td>\n      <td>0.000088</td>\n      <td>0.000087</td>\n      <td>0.000090</td>\n      <td>0.081078</td>\n      <td>0.041582</td>\n      <td>0.092</td>\n      <td>0.001506</td>\n    </tr>\n  </tbody>\n</table>\n</div>"
     },
     "execution_count": 120,
     "metadata": {},
     "output_type": "execute_result"
    }
   ]
  },
  {
   "cell_type": "code",
   "source": [
    "Full_DA_df.columns"
   ],
   "metadata": {
    "colab": {
     "base_uri": "https://localhost:8080/"
    },
    "id": "uiO8GHwQFW7Y",
    "outputId": "b8ad97ed-1d66-4f52-816d-c8d985ed6d4b",
    "ExecuteTime": {
     "end_time": "2023-10-08T20:39:00.400365Z",
     "start_time": "2023-10-08T20:39:00.330866Z"
    }
   },
   "execution_count": 121,
   "outputs": [
    {
     "data": {
      "text/plain": "Index(['State', 'Accidents_2018_proportion', 'Accidents_2019_proportion',\n       'Accidents_2020_proportion', 'Current_smokers_proportion',\n       'number_of_veterans_proportion', 'Proportion_diabetic',\n       'cancer_proportion'],\n      dtype='object')"
     },
     "execution_count": 121,
     "metadata": {},
     "output_type": "execute_result"
    }
   ]
  },
  {
   "cell_type": "code",
   "source": [
    "Full_DA_df_clustered = Full_DA_df"
   ],
   "metadata": {
    "id": "zg0PtaoRWkfe",
    "ExecuteTime": {
     "end_time": "2023-10-08T20:39:00.940598Z",
     "start_time": "2023-10-08T20:39:00.897804Z"
    }
   },
   "execution_count": 122,
   "outputs": []
  },
  {
   "cell_type": "code",
   "source": [
    "# Assuming your dataframe is called Full_DA_df\n",
    "# If 'State' column is not numerical, we should drop it for the clustering. We'll reassign it later.\n",
    "states = Full_DA_df_clustered['State']\n",
    "df = Full_DA_df_clustered.drop('State', axis=1)\n",
    "\n",
    "# Preprocessing: Since KMeans relies on Euclidean distance, variables should be scaled\n",
    "scaler = StandardScaler()\n",
    "data_scaled = scaler.fit_transform(df)\n",
    "\n",
    "# Fitting multiple k-means algorithms and storing the values in an empty list\n",
    "SSE = []\n",
    "for cluster in range(1,10):\n",
    "    kmeans = KMeans(n_clusters = cluster, init='k-means++', n_init=10)\n",
    "    kmeans.fit(data_scaled)\n",
    "    SSE.append(kmeans.inertia_)\n",
    "\n",
    "# Converting the results into a dataframe and plotting them\n",
    "frame = pd.DataFrame({'Cluster':range(1,10), 'SSE':SSE})\n",
    "plt.figure(figsize=(12,6))\n",
    "plt.plot(frame['Cluster'], frame['SSE'], marker='o')\n",
    "plt.xlabel('Number of clusters')\n",
    "plt.ylabel('Inertia')\n",
    "plt.show()\n",
    "\n",
    "# From the above plot we take the cluster value where the decrease in inertia begins to slow (elbow method)\n",
    "# Let's assume it's 3 for this case\n",
    "\n",
    "kmeans = KMeans(n_clusters = 3, init='k-means++', n_init=10)\n",
    "kmeans.fit(data_scaled)\n",
    "pred = kmeans.predict(data_scaled)\n",
    "\n",
    "# Reassign states to our dataframe and add the predicted clusters\n",
    "Full_DA_df_clustered = df\n",
    "Full_DA_df_clustered['State'] = states\n",
    "Full_DA_df_clustered['cluster'] = pred"
   ],
   "metadata": {
    "colab": {
     "base_uri": "https://localhost:8080/",
     "height": 542
    },
    "id": "_NSmpuCmF9Hv",
    "outputId": "bd9fe13f-f641-4d92-8100-52b9eca898f6",
    "ExecuteTime": {
     "end_time": "2023-10-08T20:39:01.982048Z",
     "start_time": "2023-10-08T20:39:01.390851Z"
    }
   },
   "execution_count": 123,
   "outputs": [
    {
     "data": {
      "text/plain": "<Figure size 1200x600 with 1 Axes>",
      "image/png": "[encoded data removed]"
     },
     "metadata": {},
     "output_type": "display_data"
    }
   ]
  },
  {
   "cell_type": "code",
   "source": [
    "Full_DA_df_clustered.head()\n",
    "# print(Full_DA_df_clustered)"
   ],
   "metadata": {
    "colab": {
     "base_uri": "https://localhost:8080/",
     "height": 270
    },
    "id": "HWeJJ63z32DE",
    "outputId": "e2ea943a-8602-4b50-ca51-bf278a2a2d7b",
    "ExecuteTime": {
     "end_time": "2023-10-08T20:39:01.989875Z",
     "start_time": "2023-10-08T20:39:01.976821Z"
    }
   },
   "execution_count": 124,
   "outputs": [
    {
     "data": {
      "text/plain": "   Accidents_2018_proportion  Accidents_2019_proportion  \\\n0                   0.000179                   0.000175   \n1                   0.000094                   0.000085   \n2                   0.000126                   0.000125   \n3                   0.000158                   0.000157   \n4                   0.000088                   0.000087   \n\n   Accidents_2020_proportion  Current_smokers_proportion  \\\n0                   0.000174                    0.155234   \n1                   0.000072                    0.152127   \n2                   0.000133                    0.109360   \n3                   0.000194                    0.162903   \n4                   0.000090                    0.081078   \n\n   number_of_veterans_proportion  Proportion_diabetic  cancer_proportion  \\\n0                       0.073321                0.129           0.002127   \n1                       0.097675                0.074           0.001494   \n2                       0.069814                0.097           0.001760   \n3                       0.069919                0.117           0.002159   \n4                       0.041582                0.092           0.001506   \n\n        State  cluster  \n0     Alabama        0  \n1      Alaska        1  \n2     Arizona        1  \n3    Arkansas        0  \n4  California        2  ",
      "text/html": "<div>\n<style scoped>\n    .dataframe tbody tr th:only-of-type {\n        vertical-align: middle;\n    }\n\n    .dataframe tbody tr th {\n        vertical-align: top;\n    }\n\n    .dataframe thead th {\n        text-align: right;\n    }\n</style>\n<table border=\"1\" class=\"dataframe\">\n  <thead>\n    <tr style=\"text-align: right;\">\n      <th></th>\n      <th>Accidents_2018_proportion</th>\n      <th>Accidents_2019_proportion</th>\n      <th>Accidents_2020_proportion</th>\n      <th>Current_smokers_proportion</th>\n      <th>number_of_veterans_proportion</th>\n      <th>Proportion_diabetic</th>\n      <th>cancer_proportion</th>\n      <th>State</th>\n      <th>cluster</th>\n    </tr>\n  </thead>\n  <tbody>\n    <tr>\n      <th>0</th>\n      <td>0.000179</td>\n      <td>0.000175</td>\n      <td>0.000174</td>\n      <td>0.155234</td>\n      <td>0.073321</td>\n      <td>0.129</td>\n      <td>0.002127</td>\n      <td>Alabama</td>\n      <td>0</td>\n    </tr>\n    <tr>\n      <th>1</th>\n      <td>0.000094</td>\n      <td>0.000085</td>\n      <td>0.000072</td>\n      <td>0.152127</td>\n      <td>0.097675</td>\n      <td>0.074</td>\n      <td>0.001494</td>\n      <td>Alaska</td>\n      <td>1</td>\n    </tr>\n    <tr>\n      <th>2</th>\n      <td>0.000126</td>\n      <td>0.000125</td>\n      <td>0.000133</td>\n      <td>0.109360</td>\n      <td>0.069814</td>\n      <td>0.097</td>\n      <td>0.001760</td>\n      <td>Arizona</td>\n      <td>1</td>\n    </tr>\n    <tr>\n      <th>3</th>\n      <td>0.000158</td>\n      <td>0.000157</td>\n      <td>0.000194</td>\n      <td>0.162903</td>\n      <td>0.069919</td>\n      <td>0.117</td>\n      <td>0.002159</td>\n      <td>Arkansas</td>\n      <td>0</td>\n    </tr>\n    <tr>\n      <th>4</th>\n      <td>0.000088</td>\n      <td>0.000087</td>\n      <td>0.000090</td>\n      <td>0.081078</td>\n      <td>0.041582</td>\n      <td>0.092</td>\n      <td>0.001506</td>\n      <td>California</td>\n      <td>2</td>\n    </tr>\n  </tbody>\n</table>\n</div>"
     },
     "execution_count": 124,
     "metadata": {},
     "output_type": "execute_result"
    }
   ]
  },
  {
   "cell_type": "code",
   "source": [
    "# We already have scaled data and prediction from the previous steps\n",
    "pca = PCA(n_components=2) # Two components for 2D visualization\n",
    "principalComponents = pca.fit_transform(data_scaled)\n",
    "\n",
    "# Adding the principal components into our dataframe\n",
    "Full_DA_df_clustered['PC1'] = principalComponents[:, 0]\n",
    "Full_DA_df_clustered['PC2'] = principalComponents[:, 1]\n",
    "\n",
    "# Create a scatterplot of the PCA results where color is based on cluster\n",
    "plt.figure(figsize=(15,10))\n",
    "sns.scatterplot(x='PC1', y='PC2', hue='cluster', data=Full_DA_df_clustered, palette='viridis', s=100)\n",
    "\n",
    "# Add state names to the points\n",
    "for line in range(0, Full_DA_df_clustered.shape[0]):\n",
    "    plt.text(Full_DA_df_clustered.PC1[line]+0.01, Full_DA_df_clustered.PC2[line],\n",
    "             Full_DA_df_clustered.State[line], horizontalalignment='left',\n",
    "             size='medium', color='black')\n",
    "\n",
    "plt.title('Clustering of States (PCA)')\n",
    "plt.show()\n"
   ],
   "metadata": {
    "colab": {
     "base_uri": "https://localhost:8080/",
     "height": 872
    },
    "id": "VOhAFscOGcs-",
    "outputId": "82e9cad3-4f21-471b-bc7a-c1b3f0e4b119",
    "ExecuteTime": {
     "end_time": "2023-10-08T20:39:03.596417Z",
     "start_time": "2023-10-08T20:39:02.719570Z"
    }
   },
   "execution_count": 125,
   "outputs": [
    {
     "data": {
      "text/plain": "<Figure size 1500x1000 with 1 Axes>",
      "image/png": "[encoded data removed]"
     },
     "metadata": {},
     "output_type": "display_data"
    }
   ]
  },
  {
   "cell_type": "code",
   "source": [
    "# evaluation of my KMeans and PCA Models\n",
    "# Inertia\n",
    "print(\"Inertia: \", kmeans.inertia_)\n",
    "\n",
    "# Silhouette Score\n",
    "print(\"Silhouette Score: \", silhouette_score(data_scaled, kmeans.labels_))\n",
    "\n",
    "# more inertia\n",
    "print(SSE)"
   ],
   "metadata": {
    "id": "e3JtSIpwCQ0P",
    "colab": {
     "base_uri": "https://localhost:8080/"
    },
    "outputId": "a3a57523-46f5-41c9-8f01-3c71e6379d3e",
    "ExecuteTime": {
     "end_time": "2023-10-08T20:39:03.607363Z",
     "start_time": "2023-10-08T20:39:03.600049Z"
    }
   },
   "execution_count": 126,
   "outputs": [
    {
     "name": "stdout",
     "output_type": "stream",
     "text": [
      "Inertia:  163.74240211829806\n",
      "Silhouette Score:  0.276641181127285\n",
      "[350.0, 210.2970406590017, 164.90054492870078, 126.97459498028583, 106.18997583272113, 93.52393434017733, 79.32467746306983, 74.2500764555815, 65.78153605627583]\n"
     ]
    }
   ]
  },
  {
   "cell_type": "markdown",
   "source": [
    "Inertia: Inertia tells us the sum of squared distances of samples to their closest cluster center. The lower values of inertia are better, but be aware that decreasing inertia values are not always a sign of a good model because lower inertia can be achieved by increasing the number of clusters.\n",
    "\n",
    "Silhouette score: The silhouette score is a measure of how close each sample in one cluster is to the samples in the neighboring clusters. Its values range from -1 to 1. High positive values indicate that samples are well clustered, negative values indicate that samples might have been assigned to the wrong cluster.\n",
    "\n"
   ],
   "metadata": {
    "id": "qJlCWiP5C2wL"
   }
  },
  {
   "cell_type": "code",
   "source": [
    "# Explained variance ratio\n",
    "print(\"Explained variance ratio: \", pca.explained_variance_ratio_)\n",
    "\n",
    "# Scree plot\n",
    "plt.plot(pca.explained_variance_ratio_)\n",
    "plt.xlabel('number of components')\n",
    "plt.ylabel('cumulative explained variance')\n",
    "plt.show()"
   ],
   "metadata": {
    "colab": {
     "base_uri": "https://localhost:8080/",
     "height": 466
    },
    "id": "EMIaSBKhDCYh",
    "outputId": "c42ebc39-1258-4d29-86a0-161255cb779c",
    "ExecuteTime": {
     "end_time": "2023-10-08T20:39:04.588798Z",
     "start_time": "2023-10-08T20:39:04.276564Z"
    }
   },
   "execution_count": 127,
   "outputs": [
    {
     "name": "stdout",
     "output_type": "stream",
     "text": [
      "Explained variance ratio:  [0.57818803 0.15820049]\n"
     ]
    },
    {
     "data": {
      "text/plain": "<Figure size 640x480 with 1 Axes>",
      "image/png": "[encoded data removed]"
     },
     "metadata": {},
     "output_type": "display_data"
    }
   ]
  },
  {
   "cell_type": "markdown",
   "source": [
    "Explained variance ratio: PCA gives you the \"components\" in order of their explained variance, where the first component explains the most variance in the data. You can check the explained_variance_ratio_ attribute of the PCA object to see the amount of variance explained by each component. Often, you'll want to keep adding components until you've explained a sufficient amount of variance (e.g., 95%).\n",
    "\n",
    "Scree plot: This is a plot of the variance explained by each component. It's often used in conjunction with the explained variance ratio. You may want to keep adding components until the additional explained variance starts to level off.\n"
   ],
   "metadata": {
    "id": "L2M6mdFEDauM"
   }
  },
  {
   "cell_type": "code",
   "source": [
    "# the data is already scaled\n",
    "X = data_scaled\n",
    "\n",
    "# Fit PCA with more components\n",
    "pca = PCA(n_components=4)\n",
    "X_pca = pca.fit_transform(X)\n",
    "print(\"Explained variance ratio: \", pca.explained_variance_ratio_)\n",
    "\n",
    "# Fit KMeans with k-means++ initialization and optimal number of clusters\n",
    "kmeans = KMeans(n_clusters=4, init='k-means++', n_init=10)\n",
    "kmeans.fit(X_pca)\n",
    "\n",
    "# Calculate Inertia and Silhouette Score\n",
    "print(\"Inertia: \", kmeans.inertia_)\n",
    "print(\"Silhouette Score: \", silhouette_score(X_pca, kmeans.labels_))"
   ],
   "metadata": {
    "colab": {
     "base_uri": "https://localhost:8080/"
    },
    "id": "Kx_pulpfOr7s",
    "outputId": "a57596de-c8e6-410e-94b1-c641e27c1072",
    "ExecuteTime": {
     "end_time": "2023-10-08T20:39:05.610776Z",
     "start_time": "2023-10-08T20:39:05.438993Z"
    }
   },
   "execution_count": 128,
   "outputs": [
    {
     "name": "stdout",
     "output_type": "stream",
     "text": [
      "Explained variance ratio:  [0.57818803 0.15820049 0.12847184 0.08891643]\n",
      "Inertia:  113.63781150350907\n",
      "Silhouette Score:  0.31023696431758785\n"
     ]
    }
   ]
  },
  {
   "cell_type": "code",
   "source": [
    "# Adjacency dictionary: each state is a key and the values are lists of states that it borders\n",
    "neighbors = {\n",
    "    'Alabama': ['Florida', 'Georgia', 'Tennessee', 'Mississippi'],\n",
    "    'Arizona': ['California', 'Nevada', 'Utah', 'Colorado', 'New Mexico'],\n",
    "    'Arkansas': ['Missouri', 'Tennessee', 'Mississippi', 'Louisiana', 'Texas', 'Oklahoma'],\n",
    "    'California': ['Oregon', 'Nevada', 'Arizona'],\n",
    "    'Colorado': ['Wyoming', 'Nebraska', 'Kansas', 'Oklahoma', 'New Mexico', 'Arizona', 'Utah'],\n",
    "    'Connecticut': ['New York', 'Massachusetts', 'Rhode Island'],\n",
    "    'Delaware': ['Maryland', 'Pennsylvania', 'New Jersey'],\n",
    "    'Florida': ['Alabama', 'Georgia'],\n",
    "    'Georgia': ['Florida', 'Alabama', 'Tennessee', 'North Carolina', 'South Carolina'],\n",
    "    'Idaho': ['Washington', 'Oregon', 'Nevada', 'Utah', 'Wyoming', 'Montana'],\n",
    "    'Illinois': ['Wisconsin', 'Iowa', 'Missouri', 'Kentucky', 'Indiana'],\n",
    "    'Indiana': ['Michigan', 'Illinois', 'Kentucky', 'Ohio'],\n",
    "    'Iowa': ['Minnesota', 'South Dakota', 'Nebraska', 'Missouri', 'Wisconsin', 'Illinois'],\n",
    "    'Kansas': ['Nebraska', 'Colorado', 'Oklahoma', 'Missouri'],\n",
    "    'Kentucky': ['Indiana', 'Illinois', 'Missouri', 'Tennessee', 'Virginia', 'West Virginia', 'Ohio'],\n",
    "    'Louisiana': ['Texas', 'Arkansas', 'Mississippi'],\n",
    "    'Maine': ['New Hampshire'],\n",
    "    'Maryland': ['Virginia', 'West Virginia', 'Pennsylvania', 'Delaware'],\n",
    "    'Massachusetts': ['Rhode Island', 'Connecticut', 'New York', 'New Hampshire', 'Vermont'],\n",
    "    'Michigan': ['Indiana', 'Ohio', 'Wisconsin'],\n",
    "    'Minnesota': ['North Dakota', 'South Dakota', 'Iowa', 'Wisconsin'],\n",
    "    'Mississippi': ['Louisiana', 'Arkansas', 'Tennessee', 'Alabama'],\n",
    "    'Missouri': ['Iowa', 'Illinois', 'Kentucky', 'Tennessee', 'Arkansas', 'Oklahoma', 'Kansas', 'Nebraska'],\n",
    "    'Montana': ['Idaho', 'Wyoming', 'South Dakota', 'North Dakota'],\n",
    "    'Nebraska': ['South Dakota', 'Iowa', 'Missouri', 'Kansas', 'Colorado', 'Wyoming'],\n",
    "    'Nevada': ['Oregon', 'Idaho', 'Utah', 'Arizona', 'California'],\n",
    "    'New Hampshire': ['Maine', 'Massachusetts', 'Vermont'],\n",
    "    'New Jersey': ['Delaware', 'Pennsylvania', 'New York'],\n",
    "    'New Mexico': ['Arizona', 'Colorado', 'Oklahoma', 'Texas'],\n",
    "    'New York': ['New Jersey', 'Pennsylvania', 'Vermont', 'Massachusetts', 'Connecticut'],\n",
    "    'North Carolina': ['Virginia', 'Tennessee', 'Georgia', 'South Carolina'],\n",
    "    'North Dakota': ['Montana', 'South Dakota', 'Minnesota'],\n",
    "    'Ohio': ['Pennsylvania', 'West Virginia', 'Kentucky', 'Indiana', 'Michigan'],\n",
    "    'Oklahoma': ['Kansas', 'Missouri', 'Arkansas', 'Texas', 'New Mexico', 'Colorado'],\n",
    "    'Oregon': ['Washington', 'Idaho', 'Nevada', 'California'],\n",
    "    'Pennsylvania': ['New York', 'New Jersey', 'Delaware', 'Maryland', 'West Virginia', 'Ohio'],\n",
    "    'Rhode Island': ['Connecticut', 'Massachusetts'],\n",
    "    'South Carolina': ['Georgia', 'North Carolina'],\n",
    "    'South Dakota': ['North Dakota', 'Minnesota', 'Iowa', 'Nebraska', 'Wyoming', 'Montana'],\n",
    "    'Tennessee': ['Kentucky', 'Virginia', 'North Carolina', 'Georgia', 'Alabama', 'Mississippi', 'Arkansas', 'Missouri'],\n",
    "    'Texas': ['New Mexico', 'Oklahoma', 'Arkansas', 'Louisiana'],\n",
    "    'Utah': ['Idaho', 'Wyoming', 'Colorado', 'New Mexico', 'Arizona', 'Nevada'],\n",
    "    'Vermont': ['New York', 'New Hampshire', 'Massachusetts'],\n",
    "    'Virginia': ['West Virginia', 'Kentucky', 'Tennessee', 'North Carolina', 'Maryland'],\n",
    "    'Washington': ['Oregon', 'Idaho'],\n",
    "    'West Virginia': ['Ohio', 'Pennsylvania', 'Maryland', 'Virginia', 'Kentucky'],\n",
    "    'Wisconsin': ['Minnesota', 'Iowa', 'Illinois', 'Michigan'],\n",
    "    'Wyoming': ['Montana', 'South Dakota', 'Nebraska', 'Colorado', 'Utah', 'Idaho'],\n",
    "}\n",
    "\n",
    "# Initialize a new graph\n",
    "G = nx.Graph()\n",
    "\n",
    "# Add edges to the graph (each pair of neighboring states)\n",
    "for state, neighbors in neighbors.items():\n",
    "    for neighbor in neighbors:\n",
    "        G.add_edge(state, neighbor)\n",
    "\n",
    "# Add cluster information from the KMeans clustering as node attributes\n",
    "for i, row in Full_DA_df_clustered.iterrows():\n",
    "    if row['State'] in G:\n",
    "        G.nodes[row['State']]['cluster'] = row['cluster']\n",
    "\n",
    "# Get a layout for the graph\n",
    "pos = nx.kamada_kawai_layout(G)\n",
    "\n",
    "# Drawing the network, using different colors for different clusters\n",
    "colors = [G.nodes[node]['cluster'] for node in G]\n",
    "nx.draw(G, pos, with_labels=True, node_color=colors, cmap=plt.cm.PiYG, node_size=500)\n",
    "plt.show()\n",
    "\n"
   ],
   "metadata": {
    "colab": {
     "base_uri": "https://localhost:8080/",
     "height": 516
    },
    "id": "e3Nfqfv7cyvP",
    "outputId": "824696f9-32b6-4397-8345-dc329c839e02",
    "ExecuteTime": {
     "end_time": "2023-10-08T20:39:06.356744Z",
     "start_time": "2023-10-08T20:39:06.071069Z"
    }
   },
   "execution_count": 129,
   "outputs": [
    {
     "data": {
      "text/plain": "<Figure size 640x480 with 1 Axes>",
      "image/png": "[encoded data removed]"
     },
     "metadata": {},
     "output_type": "display_data"
    }
   ]
  },
  {
   "cell_type": "code",
   "source": [
    "# Define a colormap with three distinct colors\n",
    "cmap = mcolors.ListedColormap(['red', 'green', 'blue'])\n",
    "\n",
    "# Get a layout for the graph\n",
    "pos = nx.spring_layout(G, seed=42)  # Seed for reproducibility\n",
    "\n",
    "# Draw the network, using different colors for different clusters\n",
    "colors = [G.nodes[node]['cluster'] for node in G]\n",
    "nx.draw(G, pos, with_labels=True, node_color=colors, cmap=cmap, node_size=500)\n",
    "plt.show()\n"
   ],
   "metadata": {
    "colab": {
     "base_uri": "https://localhost:8080/",
     "height": 516
    },
    "id": "FLEVOmegd8aU",
    "outputId": "f17bb192-acd1-439d-9301-f0ea2f3696e4",
    "ExecuteTime": {
     "end_time": "2023-10-08T20:39:06.952708Z",
     "start_time": "2023-10-08T20:39:06.677087Z"
    }
   },
   "execution_count": 130,
   "outputs": [
    {
     "data": {
      "text/plain": "<Figure size 640x480 with 1 Axes>",
      "image/png": "[encoded data removed]"
     },
     "metadata": {},
     "output_type": "display_data"
    }
   ]
  },
  {
   "cell_type": "code",
   "source": [
    "clusters = [(G.nodes[node][\"cluster\"]) for node in G]\n",
    "\n",
    "states = list(G.nodes)\n",
    "\n",
    "state_cluster = list(zip(states, clusters))\n",
    "state_cluster\n",
    "\n",
    "df_sc = pd.DataFrame(state_cluster, columns=[\"State\", \"Cluster\"])\n",
    "df_sc.head(5)"
   ],
   "metadata": {
    "colab": {
     "base_uri": "https://localhost:8080/",
     "height": 206
    },
    "id": "R06rqQq84kST",
    "outputId": "0afe4933-1b75-4cc5-caa7-126cbfe495a0",
    "ExecuteTime": {
     "end_time": "2023-10-08T20:39:07.278170Z",
     "start_time": "2023-10-08T20:39:07.236425Z"
    }
   },
   "execution_count": 131,
   "outputs": [
    {
     "data": {
      "text/plain": "         State  Cluster\n0      Alabama        0\n1      Florida        1\n2      Georgia        1\n3    Tennessee        0\n4  Mississippi        0",
      "text/html": "<div>\n<style scoped>\n    .dataframe tbody tr th:only-of-type {\n        vertical-align: middle;\n    }\n\n    .dataframe tbody tr th {\n        vertical-align: top;\n    }\n\n    .dataframe thead th {\n        text-align: right;\n    }\n</style>\n<table border=\"1\" class=\"dataframe\">\n  <thead>\n    <tr style=\"text-align: right;\">\n      <th></th>\n      <th>State</th>\n      <th>Cluster</th>\n    </tr>\n  </thead>\n  <tbody>\n    <tr>\n      <th>0</th>\n      <td>Alabama</td>\n      <td>0</td>\n    </tr>\n    <tr>\n      <th>1</th>\n      <td>Florida</td>\n      <td>1</td>\n    </tr>\n    <tr>\n      <th>2</th>\n      <td>Georgia</td>\n      <td>1</td>\n    </tr>\n    <tr>\n      <th>3</th>\n      <td>Tennessee</td>\n      <td>0</td>\n    </tr>\n    <tr>\n      <th>4</th>\n      <td>Mississippi</td>\n      <td>0</td>\n    </tr>\n  </tbody>\n</table>\n</div>"
     },
     "execution_count": 131,
     "metadata": {},
     "output_type": "execute_result"
    }
   ]
  },
  {
   "cell_type": "code",
   "source": [
    "df_sc['State'] = df_sc['State'].map(state_abbr)\n",
    "df_sc[\"Cluster\"] = df_sc[\"Cluster\"].astype(str)\n",
    "\n",
    "fig = px.choropleth(df_sc,\n",
    "                    locations='State',\n",
    "                    locationmode='USA-states',\n",
    "                    color='Cluster',\n",
    "                    scope='usa',\n",
    "                    labels={'Cluster': 'Cluster'},\n",
    "                    title='Cluster by State')\n",
    "\n",
    "# Show the plot\n",
    "fig.show()\n"
   ],
   "metadata": {
    "colab": {
     "base_uri": "https://localhost:8080/",
     "height": 542
    },
    "id": "xb5FQPmg6MnV",
    "outputId": "54636c7e-5202-4c2d-de74-79cbd42c8e3e",
    "ExecuteTime": {
     "end_time": "2023-10-08T20:39:07.921132Z",
     "start_time": "2023-10-08T20:39:07.897015Z"
    }
   },
   "execution_count": 132,
   "outputs": [
    {
     "data": {
      "application/vnd.plotly.v1+json": {
       "data": [
        {
         "colorscale": [
          [
           0.0,
           "#636efa"
          ],
          [
           1.0,
           "#636efa"
          ]
         ],
         "geo": "geo",
         "hovertemplate": "Cluster=0<br>State=%{location}<extra></extra>",
         "locationmode": "USA-states",
         "locations": [
          "AL",
          "TN",
          "MS",
          "NM",
          "AR",
          "MO",
          "LA",
          "OK",
          "WY",
          "SC",
          "MT",
          "KY",
          "WV"
         ],
         "name": "0",
         "showlegend": true,
         "showscale": false,
         "z": [
          1,
          1,
          1,
          1,
          1,
          1,
          1,
          1,
          1,
          1,
          1,
          1,
          1
         ],
         "type": "choropleth"
        },
        {
         "colorscale": [
          [
           0.0,
           "#EF553B"
          ],
          [
           1.0,
           "#EF553B"
          ]
         ],
         "geo": "geo",
         "hovertemplate": "Cluster=1<br>State=%{location}<extra></extra>",
         "locationmode": "USA-states",
         "locations": [
          "FL",
          "GA",
          "AZ",
          "NV",
          "CO",
          "TX",
          "OR",
          "NE",
          "KS",
          "DE",
          "MD",
          "PA",
          "NC",
          "ID",
          "WI",
          "IA",
          "IN",
          "MI",
          "OH",
          "SD",
          "VA",
          "ME",
          "NH",
          "VT",
          "ND"
         ],
         "name": "1",
         "showlegend": true,
         "showscale": false,
         "z": [
          1,
          1,
          1,
          1,
          1,
          1,
          1,
          1,
          1,
          1,
          1,
          1,
          1,
          1,
          1,
          1,
          1,
          1,
          1,
          1,
          1,
          1,
          1,
          1,
          1
         ],
         "type": "choropleth"
        },
        {
         "colorscale": [
          [
           0.0,
           "#00cc96"
          ],
          [
           1.0,
           "#00cc96"
          ]
         ],
         "geo": "geo",
         "hovertemplate": "Cluster=2<br>State=%{location}<extra></extra>",
         "locationmode": "USA-states",
         "locations": [
          "CA",
          "UT",
          "CT",
          "NY",
          "MA",
          "RI",
          "NJ",
          "WA",
          "IL",
          "MN"
         ],
         "name": "2",
         "showlegend": true,
         "showscale": false,
         "z": [
          1,
          1,
          1,
          1,
          1,
          1,
          1,
          1,
          1,
          1
         ],
         "type": "choropleth"
        }
       ],
       "layout": {
        "template": {
         "data": {
          "histogram2dcontour": [
           {
            "type": "histogram2dcontour",
            "colorbar": {
             "outlinewidth": 0,
             "ticks": ""
            },
            "colorscale": [
             [
              0.0,
              "#0d0887"
             ],
             [
              0.1111111111111111,
              "#46039f"
             ],
             [
              0.2222222222222222,
              "#7201a8"
             ],
             [
              0.3333333333333333,
              "#9c179e"
             ],
             [
              0.4444444444444444,
              "#bd3786"
             ],
             [
              0.5555555555555556,
              "#d8576b"
             ],
             [
              0.6666666666666666,
              "#ed7953"
             ],
             [
              0.7777777777777778,
              "#fb9f3a"
             ],
             [
              0.8888888888888888,
              "#fdca26"
             ],
             [
              1.0,
              "#f0f921"
             ]
            ]
           }
          ],
          "choropleth": [
           {
            "type": "choropleth",
            "colorbar": {
             "outlinewidth": 0,
             "ticks": ""
            }
           }
          ],
          "histogram2d": [
           {
            "type": "histogram2d",
            "colorbar": {
             "outlinewidth": 0,
             "ticks": ""
            },
            "colorscale": [
             [
              0.0,
              "#0d0887"
             ],
             [
              0.1111111111111111,
              "#46039f"
             ],
             [
              0.2222222222222222,
              "#7201a8"
             ],
             [
              0.3333333333333333,
              "#9c179e"
             ],
             [
              0.4444444444444444,
              "#bd3786"
             ],
             [
              0.5555555555555556,
              "#d8576b"
             ],
             [
              0.6666666666666666,
              "#ed7953"
             ],
             [
              0.7777777777777778,
              "#fb9f3a"
             ],
             [
              0.8888888888888888,
              "#fdca26"
             ],
             [
              1.0,
              "#f0f921"
             ]
            ]
           }
          ],
          "heatmap": [
           {
            "type": "heatmap",
            "colorbar": {
             "outlinewidth": 0,
             "ticks": ""
            },
            "colorscale": [
             [
              0.0,
              "#0d0887"
             ],
             [
              0.1111111111111111,
              "#46039f"
             ],
             [
              0.2222222222222222,
              "#7201a8"
             ],
             [
              0.3333333333333333,
              "#9c179e"
             ],
             [
              0.4444444444444444,
              "#bd3786"
             ],
             [
              0.5555555555555556,
              "#d8576b"
             ],
             [
              0.6666666666666666,
              "#ed7953"
             ],
             [
              0.7777777777777778,
              "#fb9f3a"
             ],
             [
              0.8888888888888888,
              "#fdca26"
             ],
             [
              1.0,
              "#f0f921"
             ]
            ]
           }
          ],
          "heatmapgl": [
           {
            "type": "heatmapgl",
            "colorbar": {
             "outlinewidth": 0,
             "ticks": ""
            },
            "colorscale": [
             [
              0.0,
              "#0d0887"
             ],
             [
              0.1111111111111111,
              "#46039f"
             ],
             [
              0.2222222222222222,
              "#7201a8"
             ],
             [
              0.3333333333333333,
              "#9c179e"
             ],
             [
              0.4444444444444444,
              "#bd3786"
             ],
             [
              0.5555555555555556,
              "#d8576b"
             ],
             [
              0.6666666666666666,
              "#ed7953"
             ],
             [
              0.7777777777777778,
              "#fb9f3a"
             ],
             [
              0.8888888888888888,
              "#fdca26"
             ],
             [
              1.0,
              "#f0f921"
             ]
            ]
           }
          ],
          "contourcarpet": [
           {
            "type": "contourcarpet",
            "colorbar": {
             "outlinewidth": 0,
             "ticks": ""
            }
           }
          ],
          "contour": [
           {
            "type": "contour",
            "colorbar": {
             "outlinewidth": 0,
             "ticks": ""
            },
            "colorscale": [
             [
              0.0,
              "#0d0887"
             ],
             [
              0.1111111111111111,
              "#46039f"
             ],
             [
              0.2222222222222222,
              "#7201a8"
             ],
             [
              0.3333333333333333,
              "#9c179e"
             ],
             [
              0.4444444444444444,
              "#bd3786"
             ],
             [
              0.5555555555555556,
              "#d8576b"
             ],
             [
              0.6666666666666666,
              "#ed7953"
             ],
             [
              0.7777777777777778,
              "#fb9f3a"
             ],
             [
              0.8888888888888888,
              "#fdca26"
             ],
             [
              1.0,
              "#f0f921"
             ]
            ]
           }
          ],
          "surface": [
           {
            "type": "surface",
            "colorbar": {
             "outlinewidth": 0,
             "ticks": ""
            },
            "colorscale": [
             [
              0.0,
              "#0d0887"
             ],
             [
              0.1111111111111111,
              "#46039f"
             ],
             [
              0.2222222222222222,
              "#7201a8"
             ],
             [
              0.3333333333333333,
              "#9c179e"
             ],
             [
              0.4444444444444444,
              "#bd3786"
             ],
             [
              0.5555555555555556,
              "#d8576b"
             ],
             [
              0.6666666666666666,
              "#ed7953"
             ],
             [
              0.7777777777777778,
              "#fb9f3a"
             ],
             [
              0.8888888888888888,
              "#fdca26"
             ],
             [
              1.0,
              "#f0f921"
             ]
            ]
           }
          ],
          "mesh3d": [
           {
            "type": "mesh3d",
            "colorbar": {
             "outlinewidth": 0,
             "ticks": ""
            }
           }
          ],
          "scatter": [
           {
            "marker": {
             "line": {
              "color": "#283442"
             }
            },
            "type": "scatter"
           }
          ],
          "parcoords": [
           {
            "type": "parcoords",
            "line": {
             "colorbar": {
              "outlinewidth": 0,
              "ticks": ""
             }
            }
           }
          ],
          "scatterpolargl": [
           {
            "type": "scatterpolargl",
            "marker": {
             "colorbar": {
              "outlinewidth": 0,
              "ticks": ""
             }
            }
           }
          ],
          "bar": [
           {
            "error_x": {
             "color": "#f2f5fa"
            },
            "error_y": {
             "color": "#f2f5fa"
            },
            "marker": {
             "line": {
              "color": "rgb(17,17,17)",
              "width": 0.5
             },
             "pattern": {
              "fillmode": "overlay",
              "size": 10,
              "solidity": 0.2
             }
            },
            "type": "bar"
           }
          ],
          "scattergeo": [
           {
            "type": "scattergeo",
            "marker": {
             "colorbar": {
              "outlinewidth": 0,
              "ticks": ""
             }
            }
           }
          ],
          "scatterpolar": [
           {
            "type": "scatterpolar",
            "marker": {
             "colorbar": {
              "outlinewidth": 0,
              "ticks": ""
             }
            }
           }
          ],
          "histogram": [
           {
            "marker": {
             "pattern": {
              "fillmode": "overlay",
              "size": 10,
              "solidity": 0.2
             }
            },
            "type": "histogram"
           }
          ],
          "scattergl": [
           {
            "marker": {
             "line": {
              "color": "#283442"
             }
            },
            "type": "scattergl"
           }
          ],
          "scatter3d": [
           {
            "type": "scatter3d",
            "line": {
             "colorbar": {
              "outlinewidth": 0,
              "ticks": ""
             }
            },
            "marker": {
             "colorbar": {
              "outlinewidth": 0,
              "ticks": ""
             }
            }
           }
          ],
          "scattermapbox": [
           {
            "type": "scattermapbox",
            "marker": {
             "colorbar": {
              "outlinewidth": 0,
              "ticks": ""
             }
            }
           }
          ],
          "scatterternary": [
           {
            "type": "scatterternary",
            "marker": {
             "colorbar": {
              "outlinewidth": 0,
              "ticks": ""
             }
            }
           }
          ],
          "scattercarpet": [
           {
            "type": "scattercarpet",
            "marker": {
             "colorbar": {
              "outlinewidth": 0,
              "ticks": ""
             }
            }
           }
          ],
          "carpet": [
           {
            "aaxis": {
             "endlinecolor": "#A2B1C6",
             "gridcolor": "#506784",
             "linecolor": "#506784",
             "minorgridcolor": "#506784",
             "startlinecolor": "#A2B1C6"
            },
            "baxis": {
             "endlinecolor": "#A2B1C6",
             "gridcolor": "#506784",
             "linecolor": "#506784",
             "minorgridcolor": "#506784",
             "startlinecolor": "#A2B1C6"
            },
            "type": "carpet"
           }
          ],
          "table": [
           {
            "cells": {
             "fill": {
              "color": "#506784"
             },
             "line": {
              "color": "rgb(17,17,17)"
             }
            },
            "header": {
             "fill": {
              "color": "#2a3f5f"
             },
             "line": {
              "color": "rgb(17,17,17)"
             }
            },
            "type": "table"
           }
          ],
          "barpolar": [
           {
            "marker": {
             "line": {
              "color": "rgb(17,17,17)",
              "width": 0.5
             },
             "pattern": {
              "fillmode": "overlay",
              "size": 10,
              "solidity": 0.2
             }
            },
            "type": "barpolar"
           }
          ],
          "pie": [
           {
            "automargin": true,
            "type": "pie"
           }
          ]
         },
         "layout": {
          "autotypenumbers": "strict",
          "colorway": [
           "#636efa",
           "#EF553B",
           "#00cc96",
           "#ab63fa",
           "#FFA15A",
           "#19d3f3",
           "#FF6692",
           "#B6E880",
           "#FF97FF",
           "#FECB52"
          ],
          "font": {
           "color": "#f2f5fa"
          },
          "hovermode": "closest",
          "hoverlabel": {
           "align": "left"
          },
          "paper_bgcolor": "rgb(17,17,17)",
          "plot_bgcolor": "rgb(17,17,17)",
          "polar": {
           "bgcolor": "rgb(17,17,17)",
           "angularaxis": {
            "gridcolor": "#506784",
            "linecolor": "#506784",
            "ticks": ""
           },
           "radialaxis": {
            "gridcolor": "#506784",
            "linecolor": "#506784",
            "ticks": ""
           }
          },
          "ternary": {
           "bgcolor": "rgb(17,17,17)",
           "aaxis": {
            "gridcolor": "#506784",
            "linecolor": "#506784",
            "ticks": ""
           },
           "baxis": {
            "gridcolor": "#506784",
            "linecolor": "#506784",
            "ticks": ""
           },
           "caxis": {
            "gridcolor": "#506784",
            "linecolor": "#506784",
            "ticks": ""
           }
          },
          "coloraxis": {
           "colorbar": {
            "outlinewidth": 0,
            "ticks": ""
           }
          },
          "colorscale": {
           "sequential": [
            [
             0.0,
             "#0d0887"
            ],
            [
             0.1111111111111111,
             "#46039f"
            ],
            [
             0.2222222222222222,
             "#7201a8"
            ],
            [
             0.3333333333333333,
             "#9c179e"
            ],
            [
             0.4444444444444444,
             "#bd3786"
            ],
            [
             0.5555555555555556,
             "#d8576b"
            ],
            [
             0.6666666666666666,
             "#ed7953"
            ],
            [
             0.7777777777777778,
             "#fb9f3a"
            ],
            [
             0.8888888888888888,
             "#fdca26"
            ],
            [
             1.0,
             "#f0f921"
            ]
           ],
           "sequentialminus": [
            [
             0.0,
             "#0d0887"
            ],
            [
             0.1111111111111111,
             "#46039f"
            ],
            [
             0.2222222222222222,
             "#7201a8"
            ],
            [
             0.3333333333333333,
             "#9c179e"
            ],
            [
             0.4444444444444444,
             "#bd3786"
            ],
            [
             0.5555555555555556,
             "#d8576b"
            ],
            [
             0.6666666666666666,
             "#ed7953"
            ],
            [
             0.7777777777777778,
             "#fb9f3a"
            ],
            [
             0.8888888888888888,
             "#fdca26"
            ],
            [
             1.0,
             "#f0f921"
            ]
           ],
           "diverging": [
            [
             0,
             "#8e0152"
            ],
            [
             0.1,
             "#c51b7d"
            ],
            [
             0.2,
             "#de77ae"
            ],
            [
             0.3,
             "#f1b6da"
            ],
            [
             0.4,
             "#fde0ef"
            ],
            [
             0.5,
             "#f7f7f7"
            ],
            [
             0.6,
             "#e6f5d0"
            ],
            [
             0.7,
             "#b8e186"
            ],
            [
             0.8,
             "#7fbc41"
            ],
            [
             0.9,
             "#4d9221"
            ],
            [
             1,
             "#276419"
            ]
           ]
          },
          "xaxis": {
           "gridcolor": "#283442",
           "linecolor": "#506784",
           "ticks": "",
           "title": {
            "standoff": 15
           },
           "zerolinecolor": "#283442",
           "automargin": true,
           "zerolinewidth": 2
          },
          "yaxis": {
           "gridcolor": "#283442",
           "linecolor": "#506784",
           "ticks": "",
           "title": {
            "standoff": 15
           },
           "zerolinecolor": "#283442",
           "automargin": true,
           "zerolinewidth": 2
          },
          "scene": {
           "xaxis": {
            "backgroundcolor": "rgb(17,17,17)",
            "gridcolor": "#506784",
            "linecolor": "#506784",
            "showbackground": true,
            "ticks": "",
            "zerolinecolor": "#C8D4E3",
            "gridwidth": 2
           },
           "yaxis": {
            "backgroundcolor": "rgb(17,17,17)",
            "gridcolor": "#506784",
            "linecolor": "#506784",
            "showbackground": true,
            "ticks": "",
            "zerolinecolor": "#C8D4E3",
            "gridwidth": 2
           },
           "zaxis": {
            "backgroundcolor": "rgb(17,17,17)",
            "gridcolor": "#506784",
            "linecolor": "#506784",
            "showbackground": true,
            "ticks": "",
            "zerolinecolor": "#C8D4E3",
            "gridwidth": 2
           }
          },
          "shapedefaults": {
           "line": {
            "color": "#f2f5fa"
           }
          },
          "annotationdefaults": {
           "arrowcolor": "#f2f5fa",
           "arrowhead": 0,
           "arrowwidth": 1
          },
          "geo": {
           "bgcolor": "rgb(17,17,17)",
           "landcolor": "rgb(17,17,17)",
           "subunitcolor": "#506784",
           "showland": true,
           "showlakes": true,
           "lakecolor": "rgb(17,17,17)"
          },
          "title": {
           "x": 0.05
          },
          "updatemenudefaults": {
           "bgcolor": "#506784",
           "borderwidth": 0
          },
          "sliderdefaults": {
           "bgcolor": "#C8D4E3",
           "borderwidth": 1,
           "bordercolor": "rgb(17,17,17)",
           "tickwidth": 0
          },
          "mapbox": {
           "style": "dark"
          }
         }
        },
        "geo": {
         "domain": {
          "x": [
           0.0,
           1.0
          ],
          "y": [
           0.0,
           1.0
          ]
         },
         "center": {},
         "scope": "usa"
        },
        "legend": {
         "title": {
          "text": "Cluster"
         },
         "tracegroupgap": 0
        },
        "title": {
         "text": "Cluster by State"
        }
       },
       "config": {
        "plotlyServerURL": "https://plot.ly"
       }
      },
      "text/html": "<div>                            <div id=\"fde8c4a2-1362-4c14-bb53-2d3a35761688\" class=\"plotly-graph-div\" style=\"height:525px; width:100%;\"></div>            <script type=\"text/javascript\">                require([\"plotly\"], function(Plotly) {                    window.PLOTLYENV=window.PLOTLYENV || {};                                    if (document.getElementById(\"fde8c4a2-1362-4c14-bb53-2d3a35761688\")) {                    Plotly.newPlot(                        \"fde8c4a2-1362-4c14-bb53-2d3a35761688\",                        [{\"colorscale\":[[0.0,\"#636efa\"],[1.0,\"#636efa\"]],\"geo\":\"geo\",\"hovertemplate\":\"Cluster=0\\u003cbr\\u003eState=%{location}\\u003cextra\\u003e\\u003c\\u002fextra\\u003e\",\"locationmode\":\"USA-states\",\"locations\":[\"AL\",\"TN\",\"MS\",\"NM\",\"AR\",\"MO\",\"LA\",\"OK\",\"WY\",\"SC\",\"MT\",\"KY\",\"WV\"],\"name\":\"0\",\"showlegend\":true,\"showscale\":false,\"z\":[1,1,1,1,1,1,1,1,1,1,1,1,1],\"type\":\"choropleth\"},{\"colorscale\":[[0.0,\"#EF553B\"],[1.0,\"#EF553B\"]],\"geo\":\"geo\",\"hovertemplate\":\"Cluster=1\\u003cbr\\u003eState=%{location}\\u003cextra\\u003e\\u003c\\u002fextra\\u003e\",\"locationmode\":\"USA-states\",\"locations\":[\"FL\",\"GA\",\"AZ\",\"NV\",\"CO\",\"TX\",\"OR\",\"NE\",\"KS\",\"DE\",\"MD\",\"PA\",\"NC\",\"ID\",\"WI\",\"IA\",\"IN\",\"MI\",\"OH\",\"SD\",\"VA\",\"ME\",\"NH\",\"VT\",\"ND\"],\"name\":\"1\",\"showlegend\":true,\"showscale\":false,\"z\":[1,1,1,1,1,1,1,1,1,1,1,1,1,1,1,1,1,1,1,1,1,1,1,1,1],\"type\":\"choropleth\"},{\"colorscale\":[[0.0,\"#00cc96\"],[1.0,\"#00cc96\"]],\"geo\":\"geo\",\"hovertemplate\":\"Cluster=2\\u003cbr\\u003eState=%{location}\\u003cextra\\u003e\\u003c\\u002fextra\\u003e\",\"locationmode\":\"USA-states\",\"locations\":[\"CA\",\"UT\",\"CT\",\"NY\",\"MA\",\"RI\",\"NJ\",\"WA\",\"IL\",\"MN\"],\"name\":\"2\",\"showlegend\":true,\"showscale\":false,\"z\":[1,1,1,1,1,1,1,1,1,1],\"type\":\"choropleth\"}],                        {\"template\":{\"data\":{\"histogram2dcontour\":[{\"type\":\"histogram2dcontour\",\"colorbar\":{\"outlinewidth\":0,\"ticks\":\"\"},\"colorscale\":[[0.0,\"#0d0887\"],[0.1111111111111111,\"#46039f\"],[0.2222222222222222,\"#7201a8\"],[0.3333333333333333,\"#9c179e\"],[0.4444444444444444,\"#bd3786\"],[0.5555555555555556,\"#d8576b\"],[0.6666666666666666,\"#ed7953\"],[0.7777777777777778,\"#fb9f3a\"],[0.8888888888888888,\"#fdca26\"],[1.0,\"#f0f921\"]]}],\"choropleth\":[{\"type\":\"choropleth\",\"colorbar\":{\"outlinewidth\":0,\"ticks\":\"\"}}],\"histogram2d\":[{\"type\":\"histogram2d\",\"colorbar\":{\"outlinewidth\":0,\"ticks\":\"\"},\"colorscale\":[[0.0,\"#0d0887\"],[0.1111111111111111,\"#46039f\"],[0.2222222222222222,\"#7201a8\"],[0.3333333333333333,\"#9c179e\"],[0.4444444444444444,\"#bd3786\"],[0.5555555555555556,\"#d8576b\"],[0.6666666666666666,\"#ed7953\"],[0.7777777777777778,\"#fb9f3a\"],[0.8888888888888888,\"#fdca26\"],[1.0,\"#f0f921\"]]}],\"heatmap\":[{\"type\":\"heatmap\",\"colorbar\":{\"outlinewidth\":0,\"ticks\":\"\"},\"colorscale\":[[0.0,\"#0d0887\"],[0.1111111111111111,\"#46039f\"],[0.2222222222222222,\"#7201a8\"],[0.3333333333333333,\"#9c179e\"],[0.4444444444444444,\"#bd3786\"],[0.5555555555555556,\"#d8576b\"],[0.6666666666666666,\"#ed7953\"],[0.7777777777777778,\"#fb9f3a\"],[0.8888888888888888,\"#fdca26\"],[1.0,\"#f0f921\"]]}],\"heatmapgl\":[{\"type\":\"heatmapgl\",\"colorbar\":{\"outlinewidth\":0,\"ticks\":\"\"},\"colorscale\":[[0.0,\"#0d0887\"],[0.1111111111111111,\"#46039f\"],[0.2222222222222222,\"#7201a8\"],[0.3333333333333333,\"#9c179e\"],[0.4444444444444444,\"#bd3786\"],[0.5555555555555556,\"#d8576b\"],[0.6666666666666666,\"#ed7953\"],[0.7777777777777778,\"#fb9f3a\"],[0.8888888888888888,\"#fdca26\"],[1.0,\"#f0f921\"]]}],\"contourcarpet\":[{\"type\":\"contourcarpet\",\"colorbar\":{\"outlinewidth\":0,\"ticks\":\"\"}}],\"contour\":[{\"type\":\"contour\",\"colorbar\":{\"outlinewidth\":0,\"ticks\":\"\"},\"colorscale\":[[0.0,\"#0d0887\"],[0.1111111111111111,\"#46039f\"],[0.2222222222222222,\"#7201a8\"],[0.3333333333333333,\"#9c179e\"],[0.4444444444444444,\"#bd3786\"],[0.5555555555555556,\"#d8576b\"],[0.6666666666666666,\"#ed7953\"],[0.7777777777777778,\"#fb9f3a\"],[0.8888888888888888,\"#fdca26\"],[1.0,\"#f0f921\"]]}],\"surface\":[{\"type\":\"surface\",\"colorbar\":{\"outlinewidth\":0,\"ticks\":\"\"},\"colorscale\":[[0.0,\"#0d0887\"],[0.1111111111111111,\"#46039f\"],[0.2222222222222222,\"#7201a8\"],[0.3333333333333333,\"#9c179e\"],[0.4444444444444444,\"#bd3786\"],[0.5555555555555556,\"#d8576b\"],[0.6666666666666666,\"#ed7953\"],[0.7777777777777778,\"#fb9f3a\"],[0.8888888888888888,\"#fdca26\"],[1.0,\"#f0f921\"]]}],\"mesh3d\":[{\"type\":\"mesh3d\",\"colorbar\":{\"outlinewidth\":0,\"ticks\":\"\"}}],\"scatter\":[{\"marker\":{\"line\":{\"color\":\"#283442\"}},\"type\":\"scatter\"}],\"parcoords\":[{\"type\":\"parcoords\",\"line\":{\"colorbar\":{\"outlinewidth\":0,\"ticks\":\"\"}}}],\"scatterpolargl\":[{\"type\":\"scatterpolargl\",\"marker\":{\"colorbar\":{\"outlinewidth\":0,\"ticks\":\"\"}}}],\"bar\":[{\"error_x\":{\"color\":\"#f2f5fa\"},\"error_y\":{\"color\":\"#f2f5fa\"},\"marker\":{\"line\":{\"color\":\"rgb(17,17,17)\",\"width\":0.5},\"pattern\":{\"fillmode\":\"overlay\",\"size\":10,\"solidity\":0.2}},\"type\":\"bar\"}],\"scattergeo\":[{\"type\":\"scattergeo\",\"marker\":{\"colorbar\":{\"outlinewidth\":0,\"ticks\":\"\"}}}],\"scatterpolar\":[{\"type\":\"scatterpolar\",\"marker\":{\"colorbar\":{\"outlinewidth\":0,\"ticks\":\"\"}}}],\"histogram\":[{\"marker\":{\"pattern\":{\"fillmode\":\"overlay\",\"size\":10,\"solidity\":0.2}},\"type\":\"histogram\"}],\"scattergl\":[{\"marker\":{\"line\":{\"color\":\"#283442\"}},\"type\":\"scattergl\"}],\"scatter3d\":[{\"type\":\"scatter3d\",\"line\":{\"colorbar\":{\"outlinewidth\":0,\"ticks\":\"\"}},\"marker\":{\"colorbar\":{\"outlinewidth\":0,\"ticks\":\"\"}}}],\"scattermapbox\":[{\"type\":\"scattermapbox\",\"marker\":{\"colorbar\":{\"outlinewidth\":0,\"ticks\":\"\"}}}],\"scatterternary\":[{\"type\":\"scatterternary\",\"marker\":{\"colorbar\":{\"outlinewidth\":0,\"ticks\":\"\"}}}],\"scattercarpet\":[{\"type\":\"scattercarpet\",\"marker\":{\"colorbar\":{\"outlinewidth\":0,\"ticks\":\"\"}}}],\"carpet\":[{\"aaxis\":{\"endlinecolor\":\"#A2B1C6\",\"gridcolor\":\"#506784\",\"linecolor\":\"#506784\",\"minorgridcolor\":\"#506784\",\"startlinecolor\":\"#A2B1C6\"},\"baxis\":{\"endlinecolor\":\"#A2B1C6\",\"gridcolor\":\"#506784\",\"linecolor\":\"#506784\",\"minorgridcolor\":\"#506784\",\"startlinecolor\":\"#A2B1C6\"},\"type\":\"carpet\"}],\"table\":[{\"cells\":{\"fill\":{\"color\":\"#506784\"},\"line\":{\"color\":\"rgb(17,17,17)\"}},\"header\":{\"fill\":{\"color\":\"#2a3f5f\"},\"line\":{\"color\":\"rgb(17,17,17)\"}},\"type\":\"table\"}],\"barpolar\":[{\"marker\":{\"line\":{\"color\":\"rgb(17,17,17)\",\"width\":0.5},\"pattern\":{\"fillmode\":\"overlay\",\"size\":10,\"solidity\":0.2}},\"type\":\"barpolar\"}],\"pie\":[{\"automargin\":true,\"type\":\"pie\"}]},\"layout\":{\"autotypenumbers\":\"strict\",\"colorway\":[\"#636efa\",\"#EF553B\",\"#00cc96\",\"#ab63fa\",\"#FFA15A\",\"#19d3f3\",\"#FF6692\",\"#B6E880\",\"#FF97FF\",\"#FECB52\"],\"font\":{\"color\":\"#f2f5fa\"},\"hovermode\":\"closest\",\"hoverlabel\":{\"align\":\"left\"},\"paper_bgcolor\":\"rgb(17,17,17)\",\"plot_bgcolor\":\"rgb(17,17,17)\",\"polar\":{\"bgcolor\":\"rgb(17,17,17)\",\"angularaxis\":{\"gridcolor\":\"#506784\",\"linecolor\":\"#506784\",\"ticks\":\"\"},\"radialaxis\":{\"gridcolor\":\"#506784\",\"linecolor\":\"#506784\",\"ticks\":\"\"}},\"ternary\":{\"bgcolor\":\"rgb(17,17,17)\",\"aaxis\":{\"gridcolor\":\"#506784\",\"linecolor\":\"#506784\",\"ticks\":\"\"},\"baxis\":{\"gridcolor\":\"#506784\",\"linecolor\":\"#506784\",\"ticks\":\"\"},\"caxis\":{\"gridcolor\":\"#506784\",\"linecolor\":\"#506784\",\"ticks\":\"\"}},\"coloraxis\":{\"colorbar\":{\"outlinewidth\":0,\"ticks\":\"\"}},\"colorscale\":{\"sequential\":[[0.0,\"#0d0887\"],[0.1111111111111111,\"#46039f\"],[0.2222222222222222,\"#7201a8\"],[0.3333333333333333,\"#9c179e\"],[0.4444444444444444,\"#bd3786\"],[0.5555555555555556,\"#d8576b\"],[0.6666666666666666,\"#ed7953\"],[0.7777777777777778,\"#fb9f3a\"],[0.8888888888888888,\"#fdca26\"],[1.0,\"#f0f921\"]],\"sequentialminus\":[[0.0,\"#0d0887\"],[0.1111111111111111,\"#46039f\"],[0.2222222222222222,\"#7201a8\"],[0.3333333333333333,\"#9c179e\"],[0.4444444444444444,\"#bd3786\"],[0.5555555555555556,\"#d8576b\"],[0.6666666666666666,\"#ed7953\"],[0.7777777777777778,\"#fb9f3a\"],[0.8888888888888888,\"#fdca26\"],[1.0,\"#f0f921\"]],\"diverging\":[[0,\"#8e0152\"],[0.1,\"#c51b7d\"],[0.2,\"#de77ae\"],[0.3,\"#f1b6da\"],[0.4,\"#fde0ef\"],[0.5,\"#f7f7f7\"],[0.6,\"#e6f5d0\"],[0.7,\"#b8e186\"],[0.8,\"#7fbc41\"],[0.9,\"#4d9221\"],[1,\"#276419\"]]},\"xaxis\":{\"gridcolor\":\"#283442\",\"linecolor\":\"#506784\",\"ticks\":\"\",\"title\":{\"standoff\":15},\"zerolinecolor\":\"#283442\",\"automargin\":true,\"zerolinewidth\":2},\"yaxis\":{\"gridcolor\":\"#283442\",\"linecolor\":\"#506784\",\"ticks\":\"\",\"title\":{\"standoff\":15},\"zerolinecolor\":\"#283442\",\"automargin\":true,\"zerolinewidth\":2},\"scene\":{\"xaxis\":{\"backgroundcolor\":\"rgb(17,17,17)\",\"gridcolor\":\"#506784\",\"linecolor\":\"#506784\",\"showbackground\":true,\"ticks\":\"\",\"zerolinecolor\":\"#C8D4E3\",\"gridwidth\":2},\"yaxis\":{\"backgroundcolor\":\"rgb(17,17,17)\",\"gridcolor\":\"#506784\",\"linecolor\":\"#506784\",\"showbackground\":true,\"ticks\":\"\",\"zerolinecolor\":\"#C8D4E3\",\"gridwidth\":2},\"zaxis\":{\"backgroundcolor\":\"rgb(17,17,17)\",\"gridcolor\":\"#506784\",\"linecolor\":\"#506784\",\"showbackground\":true,\"ticks\":\"\",\"zerolinecolor\":\"#C8D4E3\",\"gridwidth\":2}},\"shapedefaults\":{\"line\":{\"color\":\"#f2f5fa\"}},\"annotationdefaults\":{\"arrowcolor\":\"#f2f5fa\",\"arrowhead\":0,\"arrowwidth\":1},\"geo\":{\"bgcolor\":\"rgb(17,17,17)\",\"landcolor\":\"rgb(17,17,17)\",\"subunitcolor\":\"#506784\",\"showland\":true,\"showlakes\":true,\"lakecolor\":\"rgb(17,17,17)\"},\"title\":{\"x\":0.05},\"updatemenudefaults\":{\"bgcolor\":\"#506784\",\"borderwidth\":0},\"sliderdefaults\":{\"bgcolor\":\"#C8D4E3\",\"borderwidth\":1,\"bordercolor\":\"rgb(17,17,17)\",\"tickwidth\":0},\"mapbox\":{\"style\":\"dark\"}}},\"geo\":{\"domain\":{\"x\":[0.0,1.0],\"y\":[0.0,1.0]},\"center\":{},\"scope\":\"usa\"},\"legend\":{\"title\":{\"text\":\"Cluster\"},\"tracegroupgap\":0},\"title\":{\"text\":\"Cluster by State\"}},                        {\"responsive\": true}                    ).then(function(){\n                            \nvar gd = document.getElementById('fde8c4a2-1362-4c14-bb53-2d3a35761688');\nvar x = new MutationObserver(function (mutations, observer) {{\n        var display = window.getComputedStyle(gd).display;\n        if (!display || display === 'none') {{\n            console.log([gd, 'removed!']);\n            Plotly.purge(gd);\n            observer.disconnect();\n        }}\n}});\n\n// Listen for the removal of the full notebook cells\nvar notebookContainer = gd.closest('#notebook-container');\nif (notebookContainer) {{\n    x.observe(notebookContainer, {childList: true});\n}}\n\n// Listen for the clearing of the current output cell\nvar outputEl = gd.closest('.output');\nif (outputEl) {{\n    x.observe(outputEl, {childList: true});\n}}\n\n                        })                };                });            </script>        </div>"
     },
     "metadata": {},
     "output_type": "display_data"
    }
   ]
  },
  {
   "cell_type": "code",
   "source": [
    "# Compute the correlation matrix from your dataframe (excluding 'State' and 'cluster' columns)\n",
    "corr = Full_DA_df.drop(['State','Accidents_2018_proportion', 'Accidents_2019_proportion'], axis=1).corr()\n",
    "\n",
    "\n",
    "# Generate a mask for the upper triangle (optional: this is just for aesthetics)\n",
    "mask = np.triu(np.ones_like(corr, dtype=bool))\n",
    "\n",
    "# Set up the matplotlib figure\n",
    "f, ax = plt.subplots(figsize=(11, 9))\n",
    "\n",
    "# Generate a custom diverging colormap\n",
    "cmap = sns.diverging_palette(230, 20, as_cmap=True)\n",
    "\n",
    "# Draw the heatmap with the mask and correct aspect ratio\n",
    "sns.heatmap(corr, mask=mask, cmap=cmap, vmax=.3, center=0,\n",
    "            square=True, linewidths=.5, cbar_kws={\"shrink\": .5}, annot=True)\n",
    "\n",
    "plt.title('Correlation Heatmap')\n",
    "plt.show()\n"
   ],
   "metadata": {
    "colab": {
     "base_uri": "https://localhost:8080/",
     "height": 973
    },
    "id": "fF7iUzDNaIXn",
    "outputId": "5a21a371-b082-4ecd-a24f-edd525092f48",
    "ExecuteTime": {
     "end_time": "2023-10-08T20:39:09.064493Z",
     "start_time": "2023-10-08T20:39:08.491104Z"
    }
   },
   "execution_count": 133,
   "outputs": [
    {
     "data": {
      "text/plain": "<Figure size 1100x900 with 2 Axes>",
      "image/png": "[encoded data removed]"
     },
     "metadata": {},
     "output_type": "display_data"
    }
   ]
  },
  {
   "cell_type": "code",
   "source": [
    "Full_DA_df_corr = Full_DA_df.drop(['Accidents_2018_proportion', 'Accidents_2019_proportion'], axis=1)"
   ],
   "metadata": {
    "id": "GP4peJ-Ab2-2",
    "ExecuteTime": {
     "end_time": "2023-10-08T20:39:09.118222Z",
     "start_time": "2023-10-08T20:39:09.056677Z"
    }
   },
   "execution_count": 134,
   "outputs": []
  },
  {
   "cell_type": "code",
   "source": [
    "# Compute pairwise correlation of columns, dropping NA/null values\n",
    "numeric_cols = Full_DA_df_corr.select_dtypes(include=[np.number])  # Ensures only numeric columns are used\n",
    "\n",
    "correlations = {}\n",
    "p_values = {}\n",
    "\n",
    "for col1 in numeric_cols.columns:\n",
    "    for col2 in numeric_cols.columns:\n",
    "        if col1 != col2:\n",
    "            corr, pval = pearsonr(numeric_cols[col1], numeric_cols[col2])\n",
    "            correlations[col1 + ' and ' + col2] = corr\n",
    "            p_values[col1 + ' and ' + col2] = pval\n",
    "\n",
    "# Convert the results to dataframes for easier reading\n",
    "correlations_df = pd.DataFrame(list(correlations.items()), columns=['Pair', 'Correlation'])\n",
    "p_values_df = pd.DataFrame(list(p_values.items()), columns=['Pair', 'p-value'])\n",
    "\n",
    "# Merge the two dataframes on Pair\n",
    "correlation_analysis = pd.merge(correlations_df, p_values_df, on=\"Pair\")\n",
    "\n",
    "# Filter the results to show only statistically significant correlations (p < 0.05)\n",
    "significant_correlations = correlation_analysis[correlation_analysis['p-value'] < 0.05]\n",
    "\n",
    "# Sort the dataframe by absolute value of correlation, from high to low\n",
    "significant_correlations['abs_correlation'] = significant_correlations['Correlation'].abs()\n",
    "significant_correlations_sorted = significant_correlations.sort_values('abs_correlation', ascending=False).drop('abs_correlation', axis=1)\n",
    "\n",
    "print(significant_correlations_sorted)"
   ],
   "metadata": {
    "colab": {
     "base_uri": "https://localhost:8080/"
    },
    "id": "-NBYZYNWa0G7",
    "outputId": "00cca8f8-d43b-4685-97a9-a711e098f599",
    "ExecuteTime": {
     "end_time": "2023-10-08T20:39:09.892475Z",
     "start_time": "2023-10-08T20:39:09.733383Z"
    }
   },
   "execution_count": 135,
   "outputs": [
    {
     "name": "stdout",
     "output_type": "stream",
     "text": [
      "                                                 Pair  Correlation   p-value\n",
      "0   Accidents_2020_proportion and Current_smokers_...     0.594462  0.000005\n",
      "4   Current_smokers_proportion and Accidents_2020_...     0.594462  0.000005\n",
      "6   Current_smokers_proportion and Proportion_diab...     0.584368  0.000008\n",
      "13  Proportion_diabetic and Current_smokers_propor...     0.584368  0.000008\n",
      "2   Accidents_2020_proportion and Proportion_diabetic     0.566135  0.000018\n",
      "12  Proportion_diabetic and Accidents_2020_proportion     0.566135  0.000018\n",
      "5   Current_smokers_proportion and number_of_veter...     0.413105  0.002867\n",
      "9   number_of_veterans_proportion and Current_smok...     0.413105  0.002867\n",
      "1   Accidents_2020_proportion and number_of_vetera...     0.380845  0.006362\n",
      "8   number_of_veterans_proportion and Accidents_20...     0.380845  0.006362\n"
     ]
    },
    {
     "name": "stderr",
     "output_type": "stream",
     "text": [
      "/var/folders/wk/mh3nlc5d5mz44xkrmh91ptl00000gn/T/ipykernel_20226/4129284909.py:25: SettingWithCopyWarning:\n",
      "\n",
      "\n",
      "A value is trying to be set on a copy of a slice from a DataFrame.\n",
      "Try using .loc[row_indexer,col_indexer] = value instead\n",
      "\n",
      "See the caveats in the documentation: https://pandas.pydata.org/pandas-docs/stable/user_guide/indexing.html#returning-a-view-versus-a-copy\n",
      "\n"
     ]
    }
   ]
  },
  {
   "cell_type": "code",
   "execution_count": 135,
   "outputs": [],
   "source": [],
   "metadata": {
    "collapsed": false,
    "ExecuteTime": {
     "end_time": "2023-10-08T20:39:10.695803Z",
     "start_time": "2023-10-08T20:39:10.595859Z"
    }
   }
  },
  {
   "cell_type": "code",
   "execution_count": null,
   "outputs": [],
   "source": [],
   "metadata": {
    "collapsed": false
   }
  }
 ]
}
